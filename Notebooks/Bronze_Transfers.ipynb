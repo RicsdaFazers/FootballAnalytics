{
 "cells": [
  {
   "cell_type": "code",
   "execution_count": 2,
   "id": "92cd859f",
   "metadata": {},
   "outputs": [
    {
     "data": {
      "text/plain": [
       "'/demo/bronze/projeto/top250-00-19.csv'"
      ]
     },
     "execution_count": 2,
     "metadata": {},
     "output_type": "execute_result"
    }
   ],
   "source": [
    "#BRONZE\n",
    "from os import PathLike\n",
    "from hdfs import InsecureClient\n",
    "\n",
    "\n",
    "client= InsecureClient(\"http://hdfs-nn:9870/\",user=\"anonymous\")\n",
    "\n",
    "from_path=\"./top250-00-19.csv\"\n",
    "to_path=\"/demo/bronze/projeto/top250-00-19.csv\"\n",
    "\n",
    "client.delete(to_path)\n",
    "\n",
    "client.upload(to_path,from_path)"
   ]
  },
  {
   "cell_type": "code",
   "execution_count": null,
   "id": "f67628fe",
   "metadata": {},
   "outputs": [],
   "source": []
  }
 ],
 "metadata": {
  "kernelspec": {
   "display_name": "Python 3",
   "language": "python",
   "name": "python3"
  },
  "language_info": {
   "codemirror_mode": {
    "name": "ipython",
    "version": 3
   },
   "file_extension": ".py",
   "mimetype": "text/x-python",
   "name": "python",
   "nbconvert_exporter": "python",
   "pygments_lexer": "ipython3",
   "version": "3.9.4"
  }
 },
 "nbformat": 4,
 "nbformat_minor": 5
}
