{
 "cells": [
  {
   "cell_type": "code",
   "execution_count": 5,
   "id": "64a7968d",
   "metadata": {
    "scrolled": true
   },
   "outputs": [],
   "source": [
    "from os import PathLike\n",
    "from hdfs import InsecureClient"
   ]
  },
  {
   "cell_type": "code",
   "execution_count": 6,
   "id": "07737a9e",
   "metadata": {},
   "outputs": [
    {
     "data": {
      "text/plain": [
       "'/demo/bronze/projeto/MLS_Salary.csv'"
      ]
     },
     "execution_count": 6,
     "metadata": {},
     "output_type": "execute_result"
    }
   ],
   "source": [
    "client= InsecureClient(\"http://hdfs-nn:9870/\",user=\"anonymous\")\n",
    "\n",
    "from_path=\"./MLS_Salary.csv\"\n",
    "to_path=\"/demo/bronze/projeto/MLS_Salary.csv\"\n",
    "client.delete(to_path)\n",
    "\n",
    "client.upload(to_path,from_path)"
   ]
  },
  {
   "cell_type": "code",
   "execution_count": null,
   "id": "d48ad769",
   "metadata": {},
   "outputs": [],
   "source": []
  },
  {
   "cell_type": "code",
   "execution_count": null,
   "id": "ae2195a8",
   "metadata": {},
   "outputs": [],
   "source": []
  }
 ],
 "metadata": {
  "kernelspec": {
   "display_name": "Python 3",
   "language": "python",
   "name": "python3"
  },
  "language_info": {
   "codemirror_mode": {
    "name": "ipython",
    "version": 3
   },
   "file_extension": ".py",
   "mimetype": "text/x-python",
   "name": "python",
   "nbconvert_exporter": "python",
   "pygments_lexer": "ipython3",
   "version": "3.9.4"
  }
 },
 "nbformat": 4,
 "nbformat_minor": 5
}
