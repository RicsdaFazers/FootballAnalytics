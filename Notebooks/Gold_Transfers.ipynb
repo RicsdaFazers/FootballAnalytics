{
 "cells": [
  {
   "cell_type": "code",
   "execution_count": 1,
   "id": "a322a199",
   "metadata": {},
   "outputs": [],
   "source": [
    "from os import PathLike\n",
    "from hdfs import InsecureClient\n",
    "from pyspark.sql import SparkSession\n",
    "from pyspark.sql import Row\n",
    "from delta import *\n",
    "from pyspark.sql.types import LongType, StringType, StructField, StructType, BooleanType, ArrayType, IntegerType\n",
    "import pyspark.sql.functions as f"
   ]
  },
  {
   "cell_type": "code",
   "execution_count": 2,
   "id": "11f07041",
   "metadata": {},
   "outputs": [],
   "source": [
    "# CONFIGURAR O SPARK\n",
    "warehouse_location = 'hdfs://hdfs-nn:9000/demo/' #guardar no demo, porque vamos trabalhar com o silver e com o gold\n",
    "\n",
    "builder = SparkSession \\\n",
    "    .builder \\\n",
    "    .appName(\"Python Spark SQL Hive integration example\") \\\n",
    "    .config(\"spark.sql.warehouse.dir\", warehouse_location) \\\n",
    "    .config(\"hive.metastore.uris\", \"thrift://hive-metastore:9083\") \\\n",
    "    .config(\"spark.sql.extensions\", \"io.delta.sql.DeltaSparkSessionExtension\") \\\n",
    "    .config(\"spark.sql.catalog.spark_catalog\", \"org.apache.spark.sql.delta.catalog.DeltaCatalog\") \\\n",
    "    .config(\"spark.jars.packages\", \"io.delta:delta-core_2.12:1.0.0\") \\\n",
    "    .enableHiveSupport() \\\n",
    "\n",
    "spark = spark = configure_spark_with_delta_pip(builder).getOrCreate()"
   ]
  },
  {
   "cell_type": "code",
   "execution_count": 3,
   "id": "6a8cf8f2",
   "metadata": {},
   "outputs": [],
   "source": [
    "#buscar o silver para trabalhar no gold\n",
    "transfers_df = spark.read.format(\"delta\").load(\"hdfs://hdfs-nn:9000/demo/silver/projeto/transfers.db/deltalake_table/\")"
   ]
  },
  {
   "cell_type": "code",
   "execution_count": 5,
   "id": "0f571b4a",
   "metadata": {},
   "outputs": [
    {
     "data": {
      "text/plain": [
       "DataFrame[]"
      ]
     },
     "execution_count": 5,
     "metadata": {},
     "output_type": "execute_result"
    }
   ],
   "source": [
    "spark.sql(\n",
    "    \"\"\"\n",
    "    CREATE DATABASE IF NOT EXISTS gold_transfers LOCATION 'hdfs://hdfs-nn:9000/demo/gold/projeto/gold_transfers.db/'\n",
    "    \"\"\"\n",
    ")\n",
    "\n",
    "spark.sql(\n",
    "    \"\"\"\n",
    "    DROP TABLE IF EXISTS gold_transfers.transfers_per_season\n",
    "    \"\"\"\n",
    ")\n",
    "\n",
    "spark.sql(\n",
    "    \"\"\"\n",
    "    CREATE EXTERNAL TABLE gold_transfers.transfers_per_season (\n",
    "        Season CHAR(10),\n",
    "        Position CHAR(100),\n",
    "        Team_from CHAR(100),\n",
    "        Team_to CHAR(100),\n",
    "        League_from CHAR(100),\n",
    "        League_to CHAR(100),\n",
    "        Average_Transfer_fee INT\n",
    "    \n",
    "    )\n",
    "    USING DELTA\n",
    "    LOCATION 'hdfs://hdfs-nn:9000/demo/gold/projeto/gold_transfers.db/transfers_per_season/'\n",
    "    \"\"\"\n",
    ")"
   ]
  },
  {
   "cell_type": "code",
   "execution_count": 6,
   "id": "dbb0c095",
   "metadata": {},
   "outputs": [
    {
     "name": "stdout",
     "output_type": "stream",
     "text": [
      "+---------+--------------------+------------------+---+---------------+--------------+--------------+--------------+------------+\n",
      "|   Season|                Name|          Position|Age|      Team_from|   League_from|       Team_to|     League_to|Transfer_fee|\n",
      "+---------+--------------------+------------------+---+---------------+--------------+--------------+--------------+------------+\n",
      "|2005-2006|      Michael Essien|Defensive Midfield| 22| Olympique Lyon|       Ligue 1|       Chelsea|Premier League|    45000000|\n",
      "|2005-2006|Shaun Wright-Phil...|      Right Winger| 23|       Man City|Premier League|       Chelsea|Premier League|     9500000|\n",
      "|2005-2006|        Sergio Ramos|       Centre-Back| 19|     Sevilla FC|        LaLiga|   Real Madrid|        LaLiga|    27000000|\n",
      "|2005-2006|        Michael Owen|    Centre-Forward| 25|    Real Madrid|        LaLiga|     Newcastle|Premier League|    22000000|\n",
      "|2005-2006|   Alberto Gilardino|    Centre-Forward| 23|          Parma|       Serie A|      AC Milan|       Serie A|    20000000|\n",
      "|2005-2006|             Robinho|       Left Winger| 21|      Santos FC|       Série A|   Real Madrid|        LaLiga|    25000000|\n",
      "|2005-2006|      Patrick Vieira|Defensive Midfield| 29|        Arsenal|Premier League|      Juventus|       Serie A|    35000000|\n",
      "|2005-2006|      Júlio Baptista|Attacking Midfield| 23|     Sevilla FC|        LaLiga|   Real Madrid|        LaLiga|    25000000|\n",
      "|2005-2006|        Albert Luque|       Left Winger| 27| Dep. La Coruña|        LaLiga|     Newcastle|Premier League|    20000000|\n",
      "|2005-2006|             Maniche|  Central Midfield| 27|       FC Porto|      Liga NOS| Dinamo Moscow|  Premier Liga|    18000000|\n",
      "|2005-2006|       Wálter Samuel|       Centre-Back| 27|    Real Madrid|        LaLiga|         Inter|       Serie A|    17000000|\n",
      "|2005-2006|                Fred|    Centre-Forward| 21|       Cruzeiro|       Série A|Olympique Lyon|       Ligue 1|     7500000|\n",
      "|2005-2006|      Jermaine Jenas|  Central Midfield| 22|      Newcastle|Premier League|         Spurs|Premier League|     9000000|\n",
      "|2005-2006|      Aleksandr Hleb|Attacking Midfield| 24|  VfB Stuttgart|  1.Bundesliga|       Arsenal|Premier League|     8500000|\n",
      "|2005-2006|     Asier del Horno|         Left-Back| 24|Athletic Bilbao|        LaLiga|       Chelsea|Premier League|    12000000|\n",
      "|2005-2006|       David Pizarro|  Central Midfield| 25| Udinese Calcio|       Serie A|         Inter|       Serie A|    12000000|\n",
      "|2005-2006|         David Villa|    Centre-Forward| 23|  Real Zaragoza|        LaLiga|   Valencia CF|        LaLiga|    12000000|\n",
      "|2005-2006|     Mohamed Sissoko|Defensive Midfield| 20|    Valencia CF|        LaLiga|     Liverpool|Premier League|     4000000|\n",
      "|2005-2006|   Javier Mascherano|Defensive Midfield| 21|    River Plate|  Torneo Final|   Corinthians|       Série A|    11800000|\n",
      "|2005-2006|         Dean Ashton|    Centre-Forward| 22|        Norwich|  Championship|      West Ham|Premier League|     6500000|\n",
      "+---------+--------------------+------------------+---+---------------+--------------+--------------+--------------+------------+\n",
      "only showing top 20 rows\n",
      "\n",
      "+---------+------------------+--------------+---------------+--------------+--------------+--------------------+\n",
      "|   Season|          Position|     Team_from|        Team_to|   League_from|     League_to|Average_Transfer_fee|\n",
      "+---------+------------------+--------------+---------------+--------------+--------------+--------------------+\n",
      "|2018-2019|         Left-Back|      Man City|  PSV Eindhoven|Premier League|    Eredivisie|             3000000|\n",
      "|2018-2019|       Centre-Back|1.FSV Mainz 05|  Bor. Dortmund|  1.Bundesliga|  1.Bundesliga|            12000000|\n",
      "|2018-2019|Defensive Midfield|   Trabzonspor|  Celta de Vigo|     Süper Lig|        LaLiga|             7500000|\n",
      "|2018-2019|    Centre-Forward| VfB Stuttgart|  VfL Wolfsburg|  1.Bundesliga|  1.Bundesliga|             3500000|\n",
      "|2018-2019|        Goalkeeper|       AS Roma|        Bologna|       Serie A|       Serie A|             7000000|\n",
      "|2018-2019|      Right Winger|        Monaco|       Paris SG|       Ligue 1|       Ligue 1|           120000000|\n",
      "|2018-2019|       Centre-Back|   RB Salzburg|      Marseille|    Bundesliga|       Ligue 1|            10000000|\n",
      "|2018-2019|    Centre-Forward|     JS Suning|  Villarreal CF|  Super League|        LaLiga|             2500000|\n",
      "|2018-2019|  Central Midfield|    FC Lorient|        Arsenal|       Ligue 2|Premier League|             2500000|\n",
      "|2018-2019|Attacking Midfield|  Bristol City|        Cardiff|  Championship|Premier League|             3000000|\n",
      "|2018-2019|       Left Winger|       Watford|        Everton|Premier League|Premier League|            25000000|\n",
      "|2018-2019|Attacking Midfield| Dinamo Zagreb|        AS Roma|         1.HNL|       Serie A|             7500000|\n",
      "|2018-2019|       Centre-Back|      Sassuolo|          Lazio|       Serie A|       Serie A|            10000000|\n",
      "|2018-2019|Defensive Midfield|     Sampdoria|        Arsenal|       Serie A|Premier League|            30000000|\n",
      "|2018-2019|       Centre-Back|         Genoa|         Torino|       Serie A|       Serie A|             8500000|\n",
      "|2018-2019|       Left Winger|     Vancouver| Bayern Munich |        Canada|  1.Bundesliga|              800000|\n",
      "|2018-2019|        Right-Back|Udinese Calcio|       FC Basel|       Serie A|  Super League|             8500000|\n",
      "|2018-2019|       Left Winger|        Monaco|Atlético Madrid|       Ligue 1|        LaLiga|            65000000|\n",
      "|2018-2019|       Left Winger|Olympique Lyon|         Monaco|       Ligue 1|       Ligue 1|             6000000|\n",
      "|2018-2019|    Centre-Forward|    Cittadella|          Genoa|       Serie B|       Serie A|             2800000|\n",
      "+---------+------------------+--------------+---------------+--------------+--------------+--------------------+\n",
      "only showing top 20 rows\n",
      "\n"
     ]
    }
   ],
   "source": [
    "from pyspark.sql.functions import substring, avg, sum\n",
    "from pyspark.sql.functions import desc\n",
    "\n",
    "flat_transfers_df = transfers_df \\\n",
    "    .select(\"Season\",\"Name\",\"Position\",\"Age\",\"Team_from\",\"League_from\", \"Team_to\",\"League_to\", \"Transfer_fee\")\n",
    "flat_transfers_df.show()\n",
    "\n",
    "tranfers_per_season_df = flat_transfers_df \\\n",
    "    .groupBy(\"Season\",\"Position\",\"Team_from\", \"Team_to\", \"League_from\", \"League_to\") \\\n",
    "    .agg(\n",
    "        avg(flat_transfers_df.Transfer_fee).cast('INT').alias(\"Average_Transfer_fee\"),\n",
    "    )\n",
    "\n",
    "tranfers_per_season_df \\\n",
    "    .write \\\n",
    "    .format(\"delta\") \\\n",
    "    .mode(\"overwrite\") \\\n",
    "    .save(\"hdfs://hdfs-nn:9000/demo/gold/projeto/gold_transfers.db/transfers_per_season/\")\n",
    "\n",
    "tranfers_per_season_df.orderBy(desc(\"Season\")).show()\n"
   ]
  },
  {
   "cell_type": "code",
   "execution_count": 7,
   "id": "b3d7df55",
   "metadata": {},
   "outputs": [
    {
     "name": "stdout",
     "output_type": "stream",
     "text": [
      "++\n",
      "||\n",
      "++\n",
      "++\n",
      "\n"
     ]
    }
   ],
   "source": [
    "spark.sql(\"\"\"\n",
    "GENERATE symlink_format_manifest FOR TABLE delta. `hdfs://hdfs-nn:9000/demo/gold/projeto/gold_transfers.db/transfers_per_season/`\n",
    "\"\"\").show()"
   ]
  },
  {
   "cell_type": "code",
   "execution_count": 8,
   "id": "2ac1fdee",
   "metadata": {},
   "outputs": [
    {
     "name": "stdout",
     "output_type": "stream",
     "text": [
      "++\n",
      "||\n",
      "++\n",
      "++\n",
      "\n",
      "++\n",
      "||\n",
      "++\n",
      "++\n",
      "\n"
     ]
    }
   ],
   "source": [
    "spark.sql(\"\"\"\n",
    "DROP TABLE IF EXISTS gold_transfers.transfers_per_season_presto\n",
    "\"\"\").show()\n",
    "\n",
    "spark.sql(\"\"\"\n",
    "CREATE EXTERNAL TABLE IF NOT EXISTS gold_transfers.transfers_per_season_presto (\n",
    "        Season CHAR(10),\n",
    "        Position CHAR(100),\n",
    "        Team_from CHAR(100),\n",
    "        Team_to CHAR(100),\n",
    "        League_from CHAR(100),\n",
    "        League_to CHAR(100),\n",
    "        Average_Transfer_fee INT\n",
    "        )\n",
    "        \n",
    "ROW FORMAT SERDE 'org.apache.hadoop.hive.ql.io.parquet.serde.ParquetHiveSerDe'\n",
    "STORED AS INPUTFORMAT 'org.apache.hadoop.hive.ql.io.SymlinkTextInputFormat'\n",
    "OUTPUTFORMAT 'org.apache.hadoop.hive.ql.io.HiveIgnoreKeyTextOutputFormat'\n",
    "LOCATION 'hdfs://hdfs-nn:9000/demo/gold/projeto/gold_transfers.db/transfers_per_season/_symlink_format_manifest/'\n",
    "\"\"\").show()"
   ]
  },
  {
   "cell_type": "code",
   "execution_count": null,
   "id": "a66b31e5",
   "metadata": {},
   "outputs": [],
   "source": [
    "spark.stop()"
   ]
  },
  {
   "cell_type": "code",
   "execution_count": null,
   "id": "a2bb3214",
   "metadata": {},
   "outputs": [],
   "source": []
  }
 ],
 "metadata": {
  "kernelspec": {
   "display_name": "Python 3",
   "language": "python",
   "name": "python3"
  },
  "language_info": {
   "codemirror_mode": {
    "name": "ipython",
    "version": 3
   },
   "file_extension": ".py",
   "mimetype": "text/x-python",
   "name": "python",
   "nbconvert_exporter": "python",
   "pygments_lexer": "ipython3",
   "version": "3.9.4"
  }
 },
 "nbformat": 4,
 "nbformat_minor": 5
}
