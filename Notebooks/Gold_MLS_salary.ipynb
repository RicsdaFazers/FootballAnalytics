{
 "cells": [
  {
   "cell_type": "code",
   "execution_count": 16,
   "id": "75991ddd",
   "metadata": {},
   "outputs": [],
   "source": [
    "from os import PathLike\n",
    "from hdfs import InsecureClient\n",
    "from pyspark.sql import SparkSession\n",
    "from pyspark.sql import Row\n",
    "from delta import *\n",
    "from pyspark.sql.types import LongType, StringType, StructField, StructType, BooleanType, ArrayType, IntegerType\n",
    "from pyspark.sql.functions import substring, avg, sum\n",
    "import pyspark.sql.functions as f"
   ]
  },
  {
   "cell_type": "markdown",
   "id": "5b9943c8",
   "metadata": {},
   "source": [
    "# GOLD"
   ]
  },
  {
   "cell_type": "code",
   "execution_count": 17,
   "id": "96d06c07",
   "metadata": {},
   "outputs": [],
   "source": [
    "#CONFIGURAR O SPARK\n",
    "warehouse_location = 'hdfs://hdfs-nn:9000/demo/'\n",
    "\n",
    "builder = SparkSession \\\n",
    "    .builder \\\n",
    "    .appName(\"Python Spark\") \\\n",
    "    .config(\"spark.sql.warehouse.dir\", warehouse_location) \\\n",
    "    .config(\"hive.metastore.uris\", \"thrift://hive-metastore:9083\") \\\n",
    "    .config(\"spark.sql.extensions\", \"io.delta.sql.DeltaSparkSessionExtension\") \\\n",
    "    .config(\"spark.sql.catalog.spark_catalog\", \"org.apache.spark.sql.delta.catalog.DeltaCatalog\") \\\n",
    "    .config(\"spark.jars.packages\", \"io.delta:delta-core_2.12:1.0.0\") \\\n",
    "    .enableHiveSupport() \\\n",
    "\n",
    "spark = spark = configure_spark_with_delta_pip(builder).getOrCreate()"
   ]
  },
  {
   "cell_type": "code",
   "execution_count": 18,
   "id": "40d470ab",
   "metadata": {},
   "outputs": [],
   "source": [
    "salary_df = spark.read.format(\"delta\").load(\"hdfs://hdfs-nn:9000/demo/silver/projeto/mls_salary.db/deltalake_table/\")"
   ]
  },
  {
   "cell_type": "code",
   "execution_count": 19,
   "id": "e91bfec0",
   "metadata": {},
   "outputs": [
    {
     "data": {
      "text/plain": [
       "DataFrame[]"
      ]
     },
     "execution_count": 19,
     "metadata": {},
     "output_type": "execute_result"
    }
   ],
   "source": [
    "spark.sql(\n",
    "    \"\"\"\n",
    "    CREATE DATABASE IF NOT EXISTS gd_mls_salary LOCATION 'hdfs://hdfs-nn:9000/demo/gold/projeto/gd_mls_salary.db/'\n",
    "    \"\"\"\n",
    ")\n",
    "\n",
    "spark.sql(\n",
    "    \"\"\"\n",
    "    DROP TABLE IF EXISTS gd_mls_salary.mls_salary_per_season\n",
    "    \"\"\"\n",
    ")\n",
    "\n",
    "spark.sql(\n",
    "    \"\"\"\n",
    "    CREATE EXTERNAL TABLE gd_mls_salary.mls_salary_per_season (\n",
    "        Season INT,\n",
    "        Club CHAR(100),\n",
    "        Position CHAR(5),\n",
    "        Total_Salary INT,\n",
    "        Average_Salary INT\n",
    "        \n",
    "    )\n",
    "    USING DELTA\n",
    "    \n",
    "    LOCATION 'hdfs://hdfs-nn:9000/demo/gold/projeto/gd_mls_salary.db/mls_salary_per_season/'\n",
    "    \"\"\"\n",
    ")"
   ]
  },
  {
   "cell_type": "code",
   "execution_count": 20,
   "id": "86ca87f7",
   "metadata": {
    "scrolled": false
   },
   "outputs": [
    {
     "name": "stdout",
     "output_type": "stream",
     "text": [
      "+------+-----+--------+-----------+\n",
      "|Season| Club|Position|Base_Salary|\n",
      "+------+-----+--------+-----------+\n",
      "|  2018|  TOR|       F|    5600000|\n",
      "|  2018|  TOR|       M|    6000000|\n",
      "|  2018| LAFC|       F|    4500000|\n",
      "|  2018|  CHI|       M|    6100000|\n",
      "|  2018|   LA|       F|    4250000|\n",
      "|  2018|NYCFC|       F|    5610000|\n",
      "|  2018|  TOR|       F|    5000000|\n",
      "|  2018|  MTL|       M|     500000|\n",
      "|  2018|  COL|      GK|    2000000|\n",
      "|  2018|  POR|       M|    2320000|\n",
      "|  2018|  SEA|       M|    1800000|\n",
      "|  2018|  ATL|       M|    1912500|\n",
      "|  2018|  MLS|       F|    1850000|\n",
      "|  2018|NYCFC|       M|    2000000|\n",
      "|  2018|   LA|       M|    2000000|\n",
      "|  2018|  POR|       F|    1275000|\n",
      "|  2018|  CHI|       F|    1700000|\n",
      "|  2018|   LA|       M|    1539996|\n",
      "|  2018|  PHI|       M|    1714286|\n",
      "|  2018|  COL|       F|    1575000|\n",
      "+------+-----+--------+-----------+\n",
      "only showing top 20 rows\n",
      "\n",
      "+------+-----+--------+------------+--------------+\n",
      "|Season| Club|Position|Total_Salary|Average_Salary|\n",
      "+------+-----+--------+------------+--------------+\n",
      "|  2018|  SEA|       F|     1727650|        431912|\n",
      "|  2018|   NE|       D|     1952608|        278944|\n",
      "|  2018|  VAN|       M|     1973500|        197350|\n",
      "|  2018|  VAN|      GK|      407754|        101938|\n",
      "|  2018|   DC|     M-F|      137000|        137000|\n",
      "|  2018|  DAL|     F-M|      105000|        105000|\n",
      "|  2018|  CLB|       F|     1066050|        213210|\n",
      "|  2018|NYCFC|     D-M|      110154|         55077|\n",
      "|  2018|  MTL|       M|     2903165|        263924|\n",
      "|  2018|  CLB|       M|     3241023|        324102|\n",
      "|  2018|  ATL|     F-M|      605000|        605000|\n",
      "|  2018|MNUFC|       F|     2485000|        621250|\n",
      "|  2018|  MLS|       F|     2348568|        782856|\n",
      "|  2018|  CLB|      GK|      347256|         86814|\n",
      "|  2018|   DC|       M|     2923360|        365420|\n",
      "|  2018|  MLS|     F-M|       67500|         67500|\n",
      "|  2018|  DAL|       D|     2249504|        249944|\n",
      "|  2018|   DC|     F-M|      550000|        550000|\n",
      "|  2018|  MTL|       D|     2374408|        296801|\n",
      "|  2018|  ORL|      GK|      383250|         95812|\n",
      "+------+-----+--------+------------+--------------+\n",
      "only showing top 20 rows\n",
      "\n",
      "+------+-----+--------+------------+--------------+\n",
      "|Season| Club|Position|Total_Salary|Average_Salary|\n",
      "+------+-----+--------+------------+--------------+\n",
      "|  2018|   NE|       F|     2398828|        342689|\n",
      "|  2017|  ORL|       M|     9607617|        873419|\n",
      "|  2017|   DC|       D|     1158752|        165536|\n",
      "|  2016|NYCFC|       M|    12792913|       1599114|\n",
      "|  2016|   DC|       F|     1707750|        284625|\n",
      "|  2016|  POR|     M/F|      500000|        500000|\n",
      "|  2016|  PHI|     M-F|      480000|        240000|\n",
      "|  2013|  COL|       M|      930250|         77520|\n",
      "|  2014|  CHV|     D-M|      514000|        257000|\n",
      "|  2014|  MTL|       D|     1097825|        137228|\n",
      "|  2011|   DC|     M-F|      365000|        121666|\n",
      "|  2010|  RSL|       M|      768700|        128116|\n",
      "|  2018|  CHI|       F|     2814500|        469083|\n",
      "|  2018|  RSL|       M|     3443266|        313024|\n",
      "|  2018|  DAL|      GK|      375000|        125000|\n",
      "|  2017|   SJ|       M|     3713171|        337561|\n",
      "|  2017|  COL|       D|      602979|         86139|\n",
      "|  2017|   KC|     D-M|      118004|         59002|\n",
      "|  2016|   LA|       M|     6980000|        997142|\n",
      "|  2016|   LA|       F|     7528000|        684363|\n",
      "+------+-----+--------+------------+--------------+\n",
      "only showing top 20 rows\n",
      "\n"
     ]
    }
   ],
   "source": [
    "from pyspark.sql.functions import substring, avg, sum\n",
    "from pyspark.sql.functions import desc\n",
    "\n",
    "flat_salary_df = salary_df \\\n",
    "    .select(\"Season\",\"Club\",\"Position\",\"Base_Salary\")\n",
    "flat_salary_df.show()\n",
    "\n",
    "salary_per_season_df = flat_salary_df \\\n",
    "    .groupBy(\"Season\",\"Club\",\"Position\") \\\n",
    "    .agg(\n",
    "        sum(flat_salary_df.Base_Salary).cast('INT').alias(\"Total_Salary\"),\n",
    "        avg(flat_salary_df.Base_Salary).cast('INT').alias(\"Average_Salary\"),\n",
    "    )\n",
    "\n",
    "salary_per_season_df \\\n",
    "    .write \\\n",
    "    .format(\"delta\") \\\n",
    "    .mode(\"overwrite\") \\\n",
    "    .save(\"hdfs://hdfs-nn:9000/demo/gold/projeto/gd_mls_salary.db/mls_salary_per_season/\")\n",
    "\n",
    "salary_per_season_df.orderBy(desc(\"Season\")).show()\n",
    "spark.sql(\n",
    "    \"\"\"\n",
    "    Select *  FROM gd_mls_salary.mls_salary_per_season WHERE\n",
    "    \n",
    "    \"\"\"\n",
    ").show()"
   ]
  },
  {
   "cell_type": "code",
   "execution_count": 21,
   "id": "b5f70562",
   "metadata": {},
   "outputs": [
    {
     "name": "stdout",
     "output_type": "stream",
     "text": [
      "++\n",
      "||\n",
      "++\n",
      "++\n",
      "\n"
     ]
    }
   ],
   "source": [
    "spark.sql(\"\"\"\n",
    "GENERATE symlink_format_manifest FOR TABLE delta.`hdfs://hdfs-nn:9000/demo/gold/projeto/gd_mls_salary.db/mls_salary_per_season/`\n",
    "\"\"\").show()"
   ]
  },
  {
   "cell_type": "code",
   "execution_count": 22,
   "id": "6c65bb60",
   "metadata": {},
   "outputs": [
    {
     "name": "stdout",
     "output_type": "stream",
     "text": [
      "++\n",
      "||\n",
      "++\n",
      "++\n",
      "\n",
      "++\n",
      "||\n",
      "++\n",
      "++\n",
      "\n"
     ]
    }
   ],
   "source": [
    "spark.sql(\"\"\"\n",
    "DROP TABLE IF EXISTS gd_mls_salary.mls_salary_per_season_presto\n",
    "\"\"\").show()\n",
    "\n",
    "spark.sql(\"\"\"\n",
    "CREATE EXTERNAL TABLE IF NOT EXISTS gd_mls_salary.mls_salary_per_season_presto (\n",
    "        Season Int,\n",
    "        Club CHAR(100),\n",
    "        Position CHAR(5),\n",
    "        Total_Salary INT,\n",
    "        Average_Salary INT\n",
    ")\n",
    "ROW FORMAT SERDE 'org.apache.hadoop.hive.ql.io.parquet.serde.ParquetHiveSerDe'\n",
    "STORED AS INPUTFORMAT 'org.apache.hadoop.hive.ql.io.SymlinkTextInputFormat'\n",
    "OUTPUTFORMAT 'org.apache.hadoop.hive.ql.io.HiveIgnoreKeyTextOutputFormat'\n",
    "LOCATION 'hdfs://hdfs-nn:9000/demo/gold/projeto/gd_mls_salary.db/mls_salary_per_season/_symlink_format_manifest/'\n",
    "\"\"\").show()\n",
    "\n"
   ]
  },
  {
   "cell_type": "code",
   "execution_count": null,
   "id": "62e7033e",
   "metadata": {},
   "outputs": [],
   "source": []
  },
  {
   "cell_type": "code",
   "execution_count": null,
   "id": "dc9aeba3",
   "metadata": {},
   "outputs": [],
   "source": []
  }
 ],
 "metadata": {
  "kernelspec": {
   "display_name": "Python 3",
   "language": "python",
   "name": "python3"
  },
  "language_info": {
   "codemirror_mode": {
    "name": "ipython",
    "version": 3
   },
   "file_extension": ".py",
   "mimetype": "text/x-python",
   "name": "python",
   "nbconvert_exporter": "python",
   "pygments_lexer": "ipython3",
   "version": "3.9.4"
  }
 },
 "nbformat": 4,
 "nbformat_minor": 5
}
