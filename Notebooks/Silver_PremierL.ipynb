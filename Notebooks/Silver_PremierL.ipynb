{
 "cells": [
  {
   "cell_type": "code",
   "execution_count": 1,
   "id": "e5354496",
   "metadata": {},
   "outputs": [],
   "source": [
    "from os import PathLike\n",
    "from hdfs import InsecureClient\n",
    "from pyspark.sql import SparkSession\n",
    "from pyspark.sql import Row\n",
    "from delta import *\n",
    "from pyspark.sql.types import LongType, StringType, StructField, StructType, FloatType, BooleanType, ArrayType, IntegerType"
   ]
  },
  {
   "cell_type": "code",
   "execution_count": 2,
   "id": "e8feed28",
   "metadata": {},
   "outputs": [
    {
     "data": {
      "text/plain": [
       "'/demo/bronze/PremierLeague.csv'"
      ]
     },
     "execution_count": 2,
     "metadata": {},
     "output_type": "execute_result"
    }
   ],
   "source": [
    "#Upload do Ficheiro do tipo CSV para o HDFS\n",
    "from os import PathLike\n",
    "from hdfs import InsecureClient\n",
    "\n",
    "client= InsecureClient(\"http://hdfs-nn:9870/\",user=\"anonymous\")\n",
    "\n",
    "from_path=\"./PremierLeague.csv\"\n",
    "to_path=\"/demo/bronze/PremierLeague.csv\"\n",
    "client.delete(to_path)\n",
    "\n",
    "client.upload(to_path,from_path)"
   ]
  },
  {
   "cell_type": "code",
   "execution_count": 3,
   "id": "dc9f0755",
   "metadata": {},
   "outputs": [
    {
     "name": "stderr",
     "output_type": "stream",
     "text": [
      "Warning: Ignoring non-Spark config property: hive.metastore.uris\n",
      "WARNING: An illegal reflective access operation has occurred\n",
      "WARNING: Illegal reflective access by org.apache.spark.unsafe.Platform (file:/usr/local/spark-3.1.2-bin-hadoop3.2/jars/spark-unsafe_2.12-3.1.2.jar) to constructor java.nio.DirectByteBuffer(long,int)\n",
      "WARNING: Please consider reporting this to the maintainers of org.apache.spark.unsafe.Platform\n",
      "WARNING: Use --illegal-access=warn to enable warnings of further illegal reflective access operations\n",
      "WARNING: All illegal access operations will be denied in a future release\n"
     ]
    },
    {
     "name": "stdout",
     "output_type": "stream",
     "text": [
      ":: loading settings :: url = jar:file:/usr/local/spark-3.1.2-bin-hadoop3.2/jars/ivy-2.4.0.jar!/org/apache/ivy/core/settings/ivysettings.xml\n"
     ]
    },
    {
     "name": "stderr",
     "output_type": "stream",
     "text": [
      "Ivy Default Cache set to: /home/jovyan/.ivy2/cache\n",
      "The jars for the packages stored in: /home/jovyan/.ivy2/jars\n",
      "io.delta#delta-core_2.12 added as a dependency\n",
      ":: resolving dependencies :: org.apache.spark#spark-submit-parent-2233404e-b57d-45f8-af23-4c60018a6b42;1.0\n",
      "\tconfs: [default]\n",
      "\tfound io.delta#delta-core_2.12;1.0.0 in central\n",
      "\tfound org.antlr#antlr4;4.7 in central\n",
      "\tfound org.antlr#antlr4-runtime;4.7 in central\n",
      "\tfound org.antlr#antlr-runtime;3.5.2 in central\n",
      "\tfound org.antlr#ST4;4.0.8 in central\n",
      "\tfound org.abego.treelayout#org.abego.treelayout.core;1.0.3 in central\n",
      "\tfound org.glassfish#javax.json;1.0.4 in central\n",
      "\tfound com.ibm.icu#icu4j;58.2 in central\n",
      ":: resolution report :: resolve 534ms :: artifacts dl 23ms\n",
      "\t:: modules in use:\n",
      "\tcom.ibm.icu#icu4j;58.2 from central in [default]\n",
      "\tio.delta#delta-core_2.12;1.0.0 from central in [default]\n",
      "\torg.abego.treelayout#org.abego.treelayout.core;1.0.3 from central in [default]\n",
      "\torg.antlr#ST4;4.0.8 from central in [default]\n",
      "\torg.antlr#antlr-runtime;3.5.2 from central in [default]\n",
      "\torg.antlr#antlr4;4.7 from central in [default]\n",
      "\torg.antlr#antlr4-runtime;4.7 from central in [default]\n",
      "\torg.glassfish#javax.json;1.0.4 from central in [default]\n",
      "\t---------------------------------------------------------------------\n",
      "\t|                  |            modules            ||   artifacts   |\n",
      "\t|       conf       | number| search|dwnlded|evicted|| number|dwnlded|\n",
      "\t---------------------------------------------------------------------\n",
      "\t|      default     |   8   |   0   |   0   |   0   ||   8   |   0   |\n",
      "\t---------------------------------------------------------------------\n",
      ":: retrieving :: org.apache.spark#spark-submit-parent-2233404e-b57d-45f8-af23-4c60018a6b42\n",
      "\tconfs: [default]\n",
      "\t0 artifacts copied, 8 already retrieved (0kB/13ms)\n",
      "21/12/08 18:15:57 WARN NativeCodeLoader: Unable to load native-hadoop library for your platform... using builtin-java classes where applicable\n",
      "Using Spark's default log4j profile: org/apache/spark/log4j-defaults.properties\n",
      "Setting default log level to \"WARN\".\n",
      "To adjust logging level use sc.setLogLevel(newLevel). For SparkR, use setLogLevel(newLevel).\n"
     ]
    }
   ],
   "source": [
    "#Configuração do Spark\n",
    "\n",
    "warehouse_location = 'hdfs://hdfs-nn:9000/demo/silver'\n",
    "\n",
    "builder = SparkSession     .builder     .appName(\"Python Spark SQL Hive integration example\")     .config(\"spark.sql.warehouse.dir\", warehouse_location)     .config(\"hive.metastore.uris\", \"thrift://hive-metastore:9083\")     .config(\"spark.sql.extensions\", \"io.delta.sql.DeltaSparkSessionExtension\")     .config(\"spark.sql.catalog.spark_catalog\", \"org.apache.spark.sql.delta.catalog.DeltaCatalog\")     .config(\"spark.jars.packages\", \"io.delta:delta-core_2.12:1.0.0\")     .enableHiveSupport() \n",
    "spark = spark = configure_spark_with_delta_pip(builder).getOrCreate()"
   ]
  },
  {
   "cell_type": "code",
   "execution_count": 4,
   "id": "fd94690f",
   "metadata": {},
   "outputs": [
    {
     "name": "stderr",
     "output_type": "stream",
     "text": [
      "ANTLR Tool version 4.7 used for code generation does not match the current runtime version 4.8ANTLR Tool version 4.7 used for code generation does not match the current runtime version 4.8"
     ]
    },
    {
     "name": "stdout",
     "output_type": "stream",
     "text": [
      "+--------------+\n",
      "|     namespace|\n",
      "+--------------+\n",
      "|       default|\n",
      "|          demo|\n",
      "|  league_stats|\n",
      "|premier_league|\n",
      "+--------------+\n",
      "\n"
     ]
    }
   ],
   "source": [
    "#Ver DataBases existentes no HDFS\n",
    "\n",
    "spark.sql(\n",
    "\"\"\"\n",
    "SHOW DATABASES\n",
    "\n",
    "\"\"\"\n",
    ").show()"
   ]
  },
  {
   "cell_type": "code",
   "execution_count": 5,
   "id": "b99ac145",
   "metadata": {},
   "outputs": [
    {
     "data": {
      "text/plain": [
       "DataFrame[]"
      ]
     },
     "execution_count": 5,
     "metadata": {},
     "output_type": "execute_result"
    }
   ],
   "source": [
    "#Fazer o Drop\n",
    "\n",
    "spark.sql(\n",
    "    \"\"\"\n",
    "    DROP DATABASE IF EXISTS premier_league CASCADE\n",
    "    \"\"\"\n",
    ")"
   ]
  },
  {
   "cell_type": "code",
   "execution_count": 6,
   "id": "6fbada7b",
   "metadata": {},
   "outputs": [
    {
     "name": "stdout",
     "output_type": "stream",
     "text": [
      "+------------+\n",
      "|   namespace|\n",
      "+------------+\n",
      "|     default|\n",
      "|        demo|\n",
      "|league_stats|\n",
      "+------------+\n",
      "\n"
     ]
    }
   ],
   "source": [
    "#Ver DataBases existentes no HDFS\n",
    "\n",
    "spark.sql(\n",
    "\"\"\"\n",
    "SHOW DATABASES\n",
    "\n",
    "\"\"\"\n",
    ").show()"
   ]
  },
  {
   "cell_type": "code",
   "execution_count": 7,
   "id": "eeb65719",
   "metadata": {},
   "outputs": [
    {
     "data": {
      "text/plain": [
       "DataFrame[]"
      ]
     },
     "execution_count": 7,
     "metadata": {},
     "output_type": "execute_result"
    }
   ],
   "source": [
    "#Criação premier_league.db\n",
    "\n",
    "spark.sql(\n",
    "\"\"\"\n",
    "CREATE DATABASE premier_league LOCATION 'hdfs://hdfs-nn:9000/demo/silver/premier_league.db/'\n",
    "\"\"\"\n",
    ")"
   ]
  },
  {
   "cell_type": "code",
   "execution_count": 8,
   "id": "265f7ae7",
   "metadata": {},
   "outputs": [
    {
     "name": "stdout",
     "output_type": "stream",
     "text": [
      "+--------+---------+-----------+\n",
      "|database|tableName|isTemporary|\n",
      "+--------+---------+-----------+\n",
      "+--------+---------+-----------+\n",
      "\n"
     ]
    }
   ],
   "source": [
    "spark.sql(\n",
    "\"\"\"\n",
    "SHOW TABLES FROM premier_league\n",
    "\n",
    "\"\"\"\n",
    ").show()"
   ]
  },
  {
   "cell_type": "code",
   "execution_count": 9,
   "id": "07fd16e3",
   "metadata": {},
   "outputs": [
    {
     "data": {
      "text/plain": [
       "DataFrame[]"
      ]
     },
     "execution_count": 9,
     "metadata": {},
     "output_type": "execute_result"
    }
   ],
   "source": [
    "spark.sql(\n",
    "\"\"\"\n",
    "DROP TABLE IF EXISTS premier_league.deltalake_table\n",
    "\"\"\"\n",
    ")"
   ]
  },
  {
   "cell_type": "code",
   "execution_count": 10,
   "id": "15d8e016",
   "metadata": {},
   "outputs": [
    {
     "ename": "AnalysisException",
     "evalue": "Table or view not found: premier_league.deltalake_table; line 3 pos 5;\n'Project [*]\n+- 'UnresolvedRelation [premier_league, deltalake_table], [], false\n",
     "output_type": "error",
     "traceback": [
      "\u001b[0;31m---------------------------------------------------------------------------\u001b[0m",
      "\u001b[0;31mAnalysisException\u001b[0m                         Traceback (most recent call last)",
      "\u001b[0;32m/tmp/ipykernel_54/1845726804.py\u001b[0m in \u001b[0;36m<module>\u001b[0;34m\u001b[0m\n\u001b[1;32m      1\u001b[0m \u001b[0;31m#Ver DataLake Table\u001b[0m\u001b[0;34m\u001b[0m\u001b[0;34m\u001b[0m\u001b[0m\n\u001b[1;32m      2\u001b[0m \u001b[0;34m\u001b[0m\u001b[0m\n\u001b[0;32m----> 3\u001b[0;31m spark.sql(\n\u001b[0m\u001b[1;32m      4\u001b[0m \"\"\"\n\u001b[1;32m      5\u001b[0m \u001b[0mSELECT\u001b[0m \u001b[0;34m*\u001b[0m\u001b[0;34m\u001b[0m\u001b[0;34m\u001b[0m\u001b[0m\n",
      "\u001b[0;32m/usr/local/spark/python/pyspark/sql/session.py\u001b[0m in \u001b[0;36msql\u001b[0;34m(self, sqlQuery)\u001b[0m\n\u001b[1;32m    721\u001b[0m         \u001b[0;34m[\u001b[0m\u001b[0mRow\u001b[0m\u001b[0;34m(\u001b[0m\u001b[0mf1\u001b[0m\u001b[0;34m=\u001b[0m\u001b[0;36m1\u001b[0m\u001b[0;34m,\u001b[0m \u001b[0mf2\u001b[0m\u001b[0;34m=\u001b[0m\u001b[0;34m'row1'\u001b[0m\u001b[0;34m)\u001b[0m\u001b[0;34m,\u001b[0m \u001b[0mRow\u001b[0m\u001b[0;34m(\u001b[0m\u001b[0mf1\u001b[0m\u001b[0;34m=\u001b[0m\u001b[0;36m2\u001b[0m\u001b[0;34m,\u001b[0m \u001b[0mf2\u001b[0m\u001b[0;34m=\u001b[0m\u001b[0;34m'row2'\u001b[0m\u001b[0;34m)\u001b[0m\u001b[0;34m,\u001b[0m \u001b[0mRow\u001b[0m\u001b[0;34m(\u001b[0m\u001b[0mf1\u001b[0m\u001b[0;34m=\u001b[0m\u001b[0;36m3\u001b[0m\u001b[0;34m,\u001b[0m \u001b[0mf2\u001b[0m\u001b[0;34m=\u001b[0m\u001b[0;34m'row3'\u001b[0m\u001b[0;34m)\u001b[0m\u001b[0;34m]\u001b[0m\u001b[0;34m\u001b[0m\u001b[0;34m\u001b[0m\u001b[0m\n\u001b[1;32m    722\u001b[0m         \"\"\"\n\u001b[0;32m--> 723\u001b[0;31m         \u001b[0;32mreturn\u001b[0m \u001b[0mDataFrame\u001b[0m\u001b[0;34m(\u001b[0m\u001b[0mself\u001b[0m\u001b[0;34m.\u001b[0m\u001b[0m_jsparkSession\u001b[0m\u001b[0;34m.\u001b[0m\u001b[0msql\u001b[0m\u001b[0;34m(\u001b[0m\u001b[0msqlQuery\u001b[0m\u001b[0;34m)\u001b[0m\u001b[0;34m,\u001b[0m \u001b[0mself\u001b[0m\u001b[0;34m.\u001b[0m\u001b[0m_wrapped\u001b[0m\u001b[0;34m)\u001b[0m\u001b[0;34m\u001b[0m\u001b[0;34m\u001b[0m\u001b[0m\n\u001b[0m\u001b[1;32m    724\u001b[0m \u001b[0;34m\u001b[0m\u001b[0m\n\u001b[1;32m    725\u001b[0m     \u001b[0;32mdef\u001b[0m \u001b[0mtable\u001b[0m\u001b[0;34m(\u001b[0m\u001b[0mself\u001b[0m\u001b[0;34m,\u001b[0m \u001b[0mtableName\u001b[0m\u001b[0;34m)\u001b[0m\u001b[0;34m:\u001b[0m\u001b[0;34m\u001b[0m\u001b[0;34m\u001b[0m\u001b[0m\n",
      "\u001b[0;32m/usr/local/spark/python/lib/py4j-0.10.9-src.zip/py4j/java_gateway.py\u001b[0m in \u001b[0;36m__call__\u001b[0;34m(self, *args)\u001b[0m\n\u001b[1;32m   1302\u001b[0m \u001b[0;34m\u001b[0m\u001b[0m\n\u001b[1;32m   1303\u001b[0m         \u001b[0manswer\u001b[0m \u001b[0;34m=\u001b[0m \u001b[0mself\u001b[0m\u001b[0;34m.\u001b[0m\u001b[0mgateway_client\u001b[0m\u001b[0;34m.\u001b[0m\u001b[0msend_command\u001b[0m\u001b[0;34m(\u001b[0m\u001b[0mcommand\u001b[0m\u001b[0;34m)\u001b[0m\u001b[0;34m\u001b[0m\u001b[0;34m\u001b[0m\u001b[0m\n\u001b[0;32m-> 1304\u001b[0;31m         return_value = get_return_value(\n\u001b[0m\u001b[1;32m   1305\u001b[0m             answer, self.gateway_client, self.target_id, self.name)\n\u001b[1;32m   1306\u001b[0m \u001b[0;34m\u001b[0m\u001b[0m\n",
      "\u001b[0;32m/usr/local/spark/python/pyspark/sql/utils.py\u001b[0m in \u001b[0;36mdeco\u001b[0;34m(*a, **kw)\u001b[0m\n\u001b[1;32m    115\u001b[0m                 \u001b[0;31m# Hide where the exception came from that shows a non-Pythonic\u001b[0m\u001b[0;34m\u001b[0m\u001b[0;34m\u001b[0m\u001b[0m\n\u001b[1;32m    116\u001b[0m                 \u001b[0;31m# JVM exception message.\u001b[0m\u001b[0;34m\u001b[0m\u001b[0;34m\u001b[0m\u001b[0m\n\u001b[0;32m--> 117\u001b[0;31m                 \u001b[0;32mraise\u001b[0m \u001b[0mconverted\u001b[0m \u001b[0;32mfrom\u001b[0m \u001b[0;32mNone\u001b[0m\u001b[0;34m\u001b[0m\u001b[0;34m\u001b[0m\u001b[0m\n\u001b[0m\u001b[1;32m    118\u001b[0m             \u001b[0;32melse\u001b[0m\u001b[0;34m:\u001b[0m\u001b[0;34m\u001b[0m\u001b[0;34m\u001b[0m\u001b[0m\n\u001b[1;32m    119\u001b[0m                 \u001b[0;32mraise\u001b[0m\u001b[0;34m\u001b[0m\u001b[0;34m\u001b[0m\u001b[0m\n",
      "\u001b[0;31mAnalysisException\u001b[0m: Table or view not found: premier_league.deltalake_table; line 3 pos 5;\n'Project [*]\n+- 'UnresolvedRelation [premier_league, deltalake_table], [], false\n"
     ]
    }
   ],
   "source": [
    "#Ver DataLake Table\n",
    "\n",
    "spark.sql(\n",
    "\"\"\"\n",
    "SELECT *\n",
    "FROM premier_league.deltalake_table\n",
    "\"\"\"\n",
    ").show()"
   ]
  },
  {
   "cell_type": "code",
   "execution_count": 11,
   "id": "b8812ce9",
   "metadata": {},
   "outputs": [
    {
     "name": "stderr",
     "output_type": "stream",
     "text": [
      "21/12/08 18:22:31 WARN HiveExternalCatalog: Couldn't find corresponding Hive SerDe for data source provider delta. Persisting data source table `premier_league`.`deltalake_table` into Hive metastore in Spark SQL specific format, which is NOT compatible with Hive.\n",
      "21/12/08 18:22:31 WARN SessionState: METASTORE_FILTER_HOOK will be ignored, since hive.security.authorization.manager is set to instance of HiveAuthorizerFactory.\n"
     ]
    },
    {
     "data": {
      "text/plain": [
       "DataFrame[]"
      ]
     },
     "execution_count": 11,
     "metadata": {},
     "output_type": "execute_result"
    }
   ],
   "source": [
    "#Criação da DeltaLake Table\n",
    "\n",
    "spark.sql(\n",
    "\"\"\"\n",
    "CREATE EXTERNAL TABLE premier_league.deltalake_table(\n",
    "    Div CHAR(10),\n",
    "    HomeTeam CHAR(100),\n",
    "    AwayTeam CHAR(100),\n",
    "    Referee CHAR(100),\n",
    "    FTHG INT,\n",
    "    FTAG INT,\n",
    "    HF INT,\n",
    "    AF INT,\n",
    "    HY INT,\n",
    "    AY INT,\n",
    "    HR INT,\n",
    "    AR INT\n",
    "    )\n",
    "    USING DELTA\n",
    "    PARTITIONED BY (\n",
    "         Date CHAR(50)\n",
    "    )\n",
    "    LOCATION 'hdfs://hdfs-nn:9000/demo/silver/premier_league.db/deltalake_table/'\n",
    "\"\"\"\n",
    ")"
   ]
  },
  {
   "cell_type": "code",
   "execution_count": 12,
   "id": "2513bcf1",
   "metadata": {},
   "outputs": [
    {
     "name": "stdout",
     "output_type": "stream",
     "text": [
      "+---+--------+--------+-------+----+----+---+---+---+---+---+---+----+\n",
      "|Div|HomeTeam|AwayTeam|Referee|FTHG|FTAG| HF| AF| HY| AY| HR| AR|Date|\n",
      "+---+--------+--------+-------+----+----+---+---+---+---+---+---+----+\n",
      "+---+--------+--------+-------+----+----+---+---+---+---+---+---+----+\n",
      "\n"
     ]
    }
   ],
   "source": [
    "#Ver DeltaLake Table\n",
    "\n",
    "spark.sql(\n",
    "\"\"\"\n",
    "SELECT *\n",
    "FROM premier_league.deltalake_table\n",
    "\"\"\"\n",
    ").show()"
   ]
  },
  {
   "cell_type": "code",
   "execution_count": 13,
   "id": "cc12035f",
   "metadata": {
    "scrolled": false
   },
   "outputs": [
    {
     "name": "stderr",
     "output_type": "stream",
     "text": [
      "21/12/08 18:22:46 WARN package: Truncated the string representation of a plan since it was too large. This behavior can be adjusted by setting 'spark.sql.debug.maxToStringFields'.\n"
     ]
    },
    {
     "name": "stdout",
     "output_type": "stream",
     "text": [
      "+---+----------+-----------+----------+----+----+---+----+----+---+-------------+---+---+---+---+---+---+---+---+---+---+---+---+-----+-----+-----+----+----+----+----+----+----+----+----+----+----+----+----+----+----+----+-----+-----+-----+-----+-----+-----+-----+----+--------+--------+--------+--------+----+-----+-------+-------+-------+-------+-----+----+----+\n",
      "|Div|      Date|   HomeTeam|  AwayTeam|FTHG|FTAG|FTR|HTHG|HTAG|HTR|      Referee| HS| AS|HST|AST| HF| AF| HC| AC| HY| AY| HR| AR|B365H|B365D|B365A| BWH| BWD| BWA| IWH| IWD| IWA| PSH| PSD| PSA| WHH| WHD| WHA| VCH| VCD| VCA|Bb1X2|BbMxH|BbAvH|BbMxD|BbAvD|BbMxA|BbAvA|BbOU|BbMx>2.5|BbAv>2.5|BbMx<2.5|BbAv<2.5|BbAH|BbAHh|BbMxAHH|BbAvAHH|BbMxAHA|BbAvAHA| PSCH|PSCD|PSCA|\n",
      "+---+----------+-----------+----------+----+----+---+----+----+---+-------------+---+---+---+---+---+---+---+---+---+---+---+---+-----+-----+-----+----+----+----+----+----+----+----+----+----+----+----+----+----+----+----+-----+-----+-----+-----+-----+-----+-----+----+--------+--------+--------+--------+----+-----+-------+-------+-------+-------+-----+----+----+\n",
      "| E0|2009-08-15|Aston Villa|     Wigan|   0|   2|  A|   0|   1|  A|M Clattenburg| 11| 14|  5|  7| 15| 14|  4|  6|  2|  2|  0|  0| 1.67|  3.6|  5.5|1.65| 3.4| 5.0|1.67| 3.5|5.25| 1.7| 3.5| 4.9|1.67| 3.3| 4.5|1.65| 3.4| 5.0| null|  3.4|  5.5| 1.67|  3.6|  5.5|  1.7|null|     5.0|    1.62|     3.5|     5.5|  37| 1.72|   1.66|   3.77|   3.51|   6.05| 5.33|32.0|2.04|\n",
      "| E0|2009-08-15|  Blackburn|  Man City|   0|   2|  A|   0|   1|  A|       M Dean| 17|  8|  9|  5| 12|  9|  5|  4|  2|  1|  0|  0|  3.6| 3.25|  2.1| 3.4|3.15| 2.0| 3.4|3.25| 2.1| 3.2| 3.2| 2.2| 3.0| 3.2| 2.1|3.15|3.25| 2.1| null|  3.2| 2.15|  3.3| 3.25|  2.2| 3.25|null|     2.2|     3.3|     3.2|     2.2|  38| 3.78|   3.37|   3.35|   3.24|   2.25| 2.12|33.0|2.15|\n",
      "| E0|2009-08-15|     Bolton|Sunderland|   0|   1|  A|   0|   1|  A|   A Marriner| 11| 20|  3| 13| 16| 10|  4|  7|  2|  1|  0|  0| 2.25| 3.25| 3.25|2.15|3.15|3.15|2.25|3.25| 3.1| 2.2| 3.2| 3.2| 2.1| 3.2| 3.0|2.25| 3.2| 2.9| null|  3.2|  3.2|  2.3| 3.25|  3.1| 2.25|null|     3.1|     2.2|     3.2|     3.3|  38| 2.37|   2.24|   3.31|    3.2|    3.4| 3.15|33.0|2.25|\n",
      "| E0|2009-08-15|    Chelsea|      Hull|   2|   1|  H|   1|   1|  D|      A Wiley| 26|  7| 12|  3| 13| 15| 12|  4|  1|  2|  0|  0| 1.17|  6.5| 21.0|1.17| 6.0|13.0| 1.2| 6.0|15.0| 1.2| 5.5|14.0|1.17| 5.5|12.0|1.17|5.75|15.0| null|  6.5| 21.0| 1.18|  6.5| 17.0| 1.17|   6|    17.0|     1.2|     5.5|    19.0|  38|  1.2|   1.17|   7.71|   6.26|  23.14|16.39|34.0|1.67|\n",
      "| E0|2009-08-15|    Everton|   Arsenal|   1|   6|  A|   0|   3|  A|     M Halsey|  8| 15|  5|  9| 11| 13|  4|  9|  0|  0|  0|  0|  3.2| 3.25|  2.3|2.95|3.15|2.25| 3.0|3.25| 2.3| 3.1| 3.1| 2.3|2.88| 3.0|2.25| 3.0| 3.2| 2.2| null|  3.2|  2.3| 3.25| 3.25| 2.25|  2.9|null|     2.3|    3.25|     3.2|     2.2|  38| 3.34|   3.07|   3.34|   3.21|   2.42| 2.28|34.0| 2.2|\n",
      "| E0|2009-08-15| Portsmouth|    Fulham|   0|   1|  A|   0|   1|  A|   M Atkinson| 16|  9|  4|  3| 11| 18|  6|  4|  3|  2|  0|  0| 2.63|  3.2| 2.75| 2.3|3.15|2.85| 2.6|3.25| 2.6| 2.5| 3.2| 2.7|2.38| 3.2| 2.6| 2.4| 3.2| 2.7| null|  3.2|  2.6| 2.63|  3.2|  2.7| 2.62|null|    2.62|     2.5|     3.2|    2.75|  38| 2.81|   2.53|   3.25|   3.18|    2.9| 2.73|33.0|2.28|\n",
      "| E0|2009-08-15|      Stoke|   Burnley|   2|   0|  H|   2|   0|  H|    S Bennett| 12|  9|  5|  5| 15| 10|  3|  6|  2|  2|  0|  0| 1.91|  3.3| 4.33|1.85| 3.2| 4.0| 1.9| 3.3| 4.0| 1.9| 3.3| 3.9|1.91| 3.2| 3.5| 1.9|3.25|3.75|    2|  3.2|  4.0| 1.91| 3.25| 4.33|  1.9|null|     4.0|    1.91|     3.3|     4.0|  38|  2.0|   1.91|   3.47|   3.29|   4.36| 4.02|33.0|2.25|\n",
      "| E0|2009-08-15|     Wolves|  West Ham|   0|   2|  A|   0|   1|  A|        C Foy| 19| 16| 11| 13|  9|  5|  8|  6|  0|  0|  0|  0| 2.63|  3.3|  2.7|2.55|3.15|2.55| 2.5| 3.2|2.75|2.55| 3.3|2.55|2.38| 3.2| 2.6| 2.5| 3.2| 2.6| null|  3.2|  2.7|  2.6|  3.2| 2.75|  2.5|null|    2.62|     2.5|    3.25|     2.7|  38| 2.78|   2.57|    3.3|   3.19|   2.87| 2.68|33.0|2.16|\n",
      "| E0|2009-08-16| Man United|Birmingham|   1|   0|  H|   1|   0|  H|      L Mason| 26|  6| 17|  4| 13|  7| 13|  2|  1|  1|  0|  0|  1.2|  6.0| 17.0| 1.2| 5.5|12.0| 1.2| 6.0|15.0| 1.2| 5.7|12.0|1.17| 5.5|12.0|1.18| 5.5|13.0| null|  5.5| 19.0|  1.2|  6.0| 17.0| 1.17|   6|    17.0|     1.2|     5.5|    19.0|  38| 1.23|   1.19|   6.62|   5.91|   21.0|14.99|33.0|1.69|\n",
      "| E0|2009-08-16|  Tottenham| Liverpool|   2|   1|  H|   1|   0|  H|       P Dowd| 17|  6| 11|  3| 14| 16|  6|  5|  3|  3|  0|  0|  3.2| 3.25|  2.3|3.25|3.15| 2.1| 3.1| 3.2|2.25| 3.1| 3.1| 2.3| 3.0| 3.2| 2.1| 3.0| 3.2| 2.2| null|  3.2|  2.3|  3.0| 3.25|  2.2|  3.0|null|    2.25|     3.2|     3.2|     2.2|  36| 3.31|   3.13|    3.4|   3.22|   2.39| 2.23|31.0|2.07|\n",
      "| E0|2009-08-18| Sunderland|   Chelsea|   1|   3|  A|   1|   0|  H|    S Bennett|  4| 20|  3|  9| 14| 10|  1| 14|  2|  2|  0|  0|  6.5|  4.0| 1.53| 6.5|3.85|1.45| 7.0|3.75| 1.5| 6.7| 3.8| 1.5| 6.5| 3.6|1.57| 6.0|3.75| 1.5| null|  3.8|  1.5|  7.0| 3.75| 1.53|  6.5|null|    1.57|     7.0|     3.5|    1.53|  36| 7.95|   6.88|   4.19|    3.8|   1.57| 1.51|32.0|2.08|\n",
      "| E0|2009-08-18|      Wigan|    Wolves|   0|   1|  A|   0|   1|  A|      M Jones| 18|  9|  5|  3|  8| 21|  4|  4|  0|  3|  0|  0| 1.73|  3.6| 5.25|1.65| 3.4| 5.0| 1.7| 3.4|5.25|1.75| 3.5| 4.6|1.73| 3.5| 5.0| 1.7| 3.6| 4.2| null| 3.25|  5.0| 1.73|  3.5|  5.0| 1.67|null|     5.0|    1.73|     3.4|     5.0|  37| 1.75|   1.69|   3.82|   3.51|   6.06|  5.2|32.0|2.26|\n",
      "| E0|2009-08-19| Birmingham|Portsmouth|   1|   0|  H|   0|   0|  D|    L Probert|  9|  9|  5|  4| 11| 20|  4|  5|  0|  5|  0|  0|  2.0|  3.3|  4.0| 1.9|3.25|3.75| 2.0| 3.3| 3.6|2.15|3.25|3.25| 2.1| 3.3| 3.5| 2.0|3.25| 3.4| null| 3.25| 3.75|  2.0|  3.4| 3.75|  2.0|null|     3.5|     2.1|     3.2|     3.5|  37|  2.1|   2.04|   3.43|   3.27|   4.16| 3.64|31.0|2.39|\n",
      "| E0|2009-08-19|    Burnley|Man United|   1|   0|  H|   1|   0|  H|      A Wiley|  8| 18|  2|  9|  8| 12|  1| 12|  2|  1|  0|  0|  9.5|  5.0| 1.33| 9.0| 4.5| 1.3|10.0|4.75| 1.3| 8.5| 4.5|1.35|12.0| 5.0|1.29| 9.0|4.75|1.28|   11|  4.5| 1.33| 11.0|  5.0|  1.3|  9.5|null|    1.33|     9.0|    4.75|    1.33|  37| 12.0|   9.79|   5.12|   4.78|   1.37| 1.32|31.0|1.91|\n",
      "| E0|2009-08-19|       Hull| Tottenham|   1|   5|  A|   1|   3|  A|        C Foy|  9| 18|  7| 12| 23| 13|  6|  5|  3|  2|  0|  0| 3.75|  3.5|  2.0|3.65| 3.3| 1.9|3.75|3.33|1.95| 3.6| 3.3| 2.0| 4.0| 3.2| 2.0| 3.4|3.25| 2.0|    4|  3.2|  2.0| 3.75|  3.4|  2.0|  3.4|null|     2.0|    3.75|    3.25|     2.0|  37| 4.24|    3.8|    3.6|   3.35|    2.0| 1.96|31.0|2.04|\n",
      "| E0|2009-08-19|  Liverpool|     Stoke|   4|   0|  H|   2|   0|  H|     P Walton| 18|  6| 13|  3| 10|  9| 11|  5|  0|  1|  0|  0| 1.25|  5.5| 13.0| 1.2|5.25|13.0|1.25| 5.5|11.0|1.22| 5.3|13.0| 1.3| 4.5|13.0|1.22|5.25|11.0| null|  5.0| 15.0| 1.25|  5.5| 12.0| 1.29|null|    11.0|    1.25|     5.5|    11.0|  37|  1.3|   1.25|    6.0|   5.25|   17.3|12.84|31.0|1.82|\n",
      "| E0|2009-08-22|    Arsenal|Portsmouth|   4|   1|  H|   2|   1|  H|    S Bennett| 19|  9| 16|  4|  9| 10|  8|  4|  1|  0|  0|  0| 1.17|  7.0| 19.0|1.15| 6.0|15.0| 1.2|5.75|14.0| 1.2| 5.5|14.0| 1.2| 6.0|15.0|1.17| 6.0|13.0| null|  6.5| 19.0| 1.18|  6.5| 15.0| 1.17|null|    15.0|    1.17|     7.0|    17.0|  38|  1.2|   1.18|    7.5|   6.41|   24.5|15.98|30.0|1.68|\n",
      "| E0|2009-08-22| Birmingham|     Stoke|   0|   0|  D|   0|   0|  D|        C Foy|  8| 13|  6|  3|  8| 13|  3|  3|  0|  3|  0|  0|  2.3|  3.2| 3.25| 2.1| 3.2| 3.2|2.25|3.25| 3.1| 2.2| 3.2| 3.2|2.25|3.25|3.25|2.15| 3.2| 3.1| null|  3.2|  3.2| 2.38| 3.25|  3.0|  2.1|null|     3.4|     2.3|     3.2|     3.2|  38| 2.38|   2.23|   3.32|   3.21|   3.66| 3.24|30.0| 2.4|\n",
      "| E0|2009-08-22|       Hull|    Bolton|   1|   0|  H|   0|   0|  D|      M Jones| 12| 20|  5| 10| 19| 19|  4| 12|  3|  2|  0|  0|  2.6| 3.25|  2.8|2.35| 3.1|2.85| 2.5| 3.2|2.75| 2.3|3.25|2.95| 2.5|3.25| 2.8|2.35| 3.2|2.75| null|  3.2| 2.88| 2.38| 3.25|  3.0|  2.4|null|     2.8|     2.5|     3.2|    2.88|  37| 2.68|   2.46|    3.4|   3.22|    3.0| 2.84|30.0|2.15|\n",
      "| E0|2009-08-22|   Man City|    Wolves|   1|   0|  H|   1|   0|  H|      L Mason| 16| 10| 11|  2|  7| 11|  5|  6|  0|  1|  0|  0| 1.33|  4.5| 12.0|1.25|4.85|10.5|1.33| 4.5|10.0|1.35| 4.5| 8.5|1.33| 5.0| 9.0|1.25| 5.0|10.0| null| 4.33| 10.0| 1.33|  4.5| 11.0| 1.33|null|     9.0|    1.36|     4.5|    10.0|  38| 1.37|   1.32|    5.5|   4.73|  12.17|10.25|29.0|1.77|\n",
      "+---+----------+-----------+----------+----+----+---+----+----+---+-------------+---+---+---+---+---+---+---+---+---+---+---+---+-----+-----+-----+----+----+----+----+----+----+----+----+----+----+----+----+----+----+----+-----+-----+-----+-----+-----+-----+-----+----+--------+--------+--------+--------+----+-----+-------+-------+-------+-------+-----+----+----+\n",
      "only showing top 20 rows\n",
      "\n",
      "root\n",
      " |-- Div: string (nullable = true)\n",
      " |-- Date: string (nullable = true)\n",
      " |-- HomeTeam: string (nullable = true)\n",
      " |-- AwayTeam: string (nullable = true)\n",
      " |-- FTHG: integer (nullable = true)\n",
      " |-- FTAG: integer (nullable = true)\n",
      " |-- FTR: string (nullable = true)\n",
      " |-- HTHG: integer (nullable = true)\n",
      " |-- HTAG: integer (nullable = true)\n",
      " |-- HTR: string (nullable = true)\n",
      " |-- Referee: string (nullable = true)\n",
      " |-- HS: integer (nullable = true)\n",
      " |-- AS: integer (nullable = true)\n",
      " |-- HST: integer (nullable = true)\n",
      " |-- AST: integer (nullable = true)\n",
      " |-- HF: integer (nullable = true)\n",
      " |-- AF: integer (nullable = true)\n",
      " |-- HC: integer (nullable = true)\n",
      " |-- AC: integer (nullable = true)\n",
      " |-- HY: integer (nullable = true)\n",
      " |-- AY: integer (nullable = true)\n",
      " |-- HR: integer (nullable = true)\n",
      " |-- AR: integer (nullable = true)\n",
      " |-- B365H: float (nullable = true)\n",
      " |-- B365D: float (nullable = true)\n",
      " |-- B365A: float (nullable = true)\n",
      " |-- BWH: float (nullable = true)\n",
      " |-- BWD: float (nullable = true)\n",
      " |-- BWA: float (nullable = true)\n",
      " |-- IWH: float (nullable = true)\n",
      " |-- IWD: float (nullable = true)\n",
      " |-- IWA: float (nullable = true)\n",
      " |-- PSH: float (nullable = true)\n",
      " |-- PSD: float (nullable = true)\n",
      " |-- PSA: float (nullable = true)\n",
      " |-- WHH: float (nullable = true)\n",
      " |-- WHD: float (nullable = true)\n",
      " |-- WHA: float (nullable = true)\n",
      " |-- VCH: float (nullable = true)\n",
      " |-- VCD: float (nullable = true)\n",
      " |-- VCA: float (nullable = true)\n",
      " |-- Bb1X2: integer (nullable = true)\n",
      " |-- BbMxH: float (nullable = true)\n",
      " |-- BbAvH: float (nullable = true)\n",
      " |-- BbMxD: float (nullable = true)\n",
      " |-- BbAvD: float (nullable = true)\n",
      " |-- BbMxA: float (nullable = true)\n",
      " |-- BbAvA: float (nullable = true)\n",
      " |-- BbOU: integer (nullable = true)\n",
      " |-- BbMx>2.5: float (nullable = true)\n",
      " |-- BbAv>2.5: float (nullable = true)\n",
      " |-- BbMx<2.5: float (nullable = true)\n",
      " |-- BbAv<2.5: float (nullable = true)\n",
      " |-- BbAH: integer (nullable = true)\n",
      " |-- BbAHh: float (nullable = true)\n",
      " |-- BbMxAHH: float (nullable = true)\n",
      " |-- BbAvAHH: float (nullable = true)\n",
      " |-- BbMxAHA: float (nullable = true)\n",
      " |-- BbAvAHA: float (nullable = true)\n",
      " |-- PSCH: float (nullable = true)\n",
      " |-- PSCD: float (nullable = true)\n",
      " |-- PSCA: float (nullable = true)\n",
      "\n"
     ]
    },
    {
     "name": "stderr",
     "output_type": "stream",
     "text": [
      "21/12/08 18:22:46 WARN CSVHeaderChecker: Number of column in CSV header is not equal to number of fields in the schema:\n",
      " Header length: 71, schema size: 62\n",
      "CSV file: hdfs://hdfs-nn:9000/demo/bronze/PremierLeague.csv\n"
     ]
    }
   ],
   "source": [
    "#Ler Ficheiro CSV No HDFS e Colocar no DataFrame\n",
    "\n",
    "hdfs_path = \"hdfs://hdfs-nn:9000/demo/bronze/PremierLeague.csv\"\n",
    "\n",
    "#Definir o Schema no DataFrame\n",
    "customSchema = StructType([\n",
    "    StructField(\"Div\", StringType(), True),\n",
    "    StructField(\"Date\", StringType(), True),\n",
    "    StructField(\"HomeTeam\", StringType(), True),        \n",
    "    StructField(\"AwayTeam\", StringType(), True),\n",
    "    StructField(\"FTHG\", IntegerType(), True),\n",
    "    StructField(\"FTAG\", IntegerType(), True),\n",
    "    StructField(\"FTR\", StringType(), True),\n",
    "    StructField(\"HTHG\", IntegerType(), True),\n",
    "    StructField(\"HTAG\", IntegerType(), True),\n",
    "    StructField(\"HTR\", StringType(), True),\n",
    "    StructField(\"Referee\", StringType(),True),\n",
    "    StructField(\"HS\", IntegerType(), True),\n",
    "    StructField(\"AS\", IntegerType(), True),\n",
    "    StructField(\"HST\", IntegerType(), True),\n",
    "    StructField(\"AST\", IntegerType(), True),\n",
    "    StructField(\"HF\", IntegerType(), True),\n",
    "    StructField(\"AF\", IntegerType(), True),\n",
    "    StructField(\"HC\", IntegerType(), True),\n",
    "    StructField(\"AC\", IntegerType(), True),\n",
    "    StructField(\"HY\", IntegerType(), True),\n",
    "    StructField(\"AY\", IntegerType(), True),\n",
    "    StructField(\"HR\", IntegerType(), True),\n",
    "    StructField(\"AR\", IntegerType(), True),\n",
    "    StructField(\"B365H\", FloatType(), True),\n",
    "    StructField(\"B365D\", FloatType(), True),\n",
    "    StructField(\"B365A\", FloatType(), True),\n",
    "    StructField(\"BWH\", FloatType(), True),\n",
    "    StructField(\"BWD\", FloatType(), True),\n",
    "    StructField(\"BWA\", FloatType(), True),\n",
    "    StructField(\"IWH\", FloatType(), True),\n",
    "    StructField(\"IWD\", FloatType(), True),\n",
    "    StructField(\"IWA\", FloatType(), True),\n",
    "    StructField(\"PSH\", FloatType(), True),\n",
    "    StructField(\"PSD\", FloatType(), True),\n",
    "    StructField(\"PSA\", FloatType(), True),\n",
    "    StructField(\"WHH\", FloatType(), True),\n",
    "    StructField(\"WHD\", FloatType(), True),\n",
    "    StructField(\"WHA\", FloatType(), True),\n",
    "    StructField(\"VCH\", FloatType(), True),\n",
    "    StructField(\"VCD\", FloatType(), True),\n",
    "    StructField(\"VCA\", FloatType(), True),\n",
    "    StructField(\"Bb1X2\", IntegerType(), True),\n",
    "    StructField(\"BbMxH\", FloatType(), True),\n",
    "    StructField(\"BbAvH\", FloatType(), True),\n",
    "    StructField(\"BbMxD\", FloatType(), True),\n",
    "    StructField(\"BbAvD\", FloatType(), True),\n",
    "    StructField(\"BbMxA\", FloatType(), True),\n",
    "    StructField(\"BbAvA\", FloatType(), True),\n",
    "    StructField(\"BbOU\", IntegerType(), True),\n",
    "    StructField(\"BbMx>2.5\", FloatType(), True),\n",
    "    StructField(\"BbAv>2.5\", FloatType(), True),\n",
    "    StructField(\"BbMx<2.5\", FloatType(), True),\n",
    "    StructField(\"BbAv<2.5\", FloatType(), True),\n",
    "    StructField(\"BbAH\", IntegerType(), True),\n",
    "    StructField(\"BbAHh\", FloatType(), True),\n",
    "    StructField(\"BbMxAHH\", FloatType(), True),\n",
    "    StructField(\"BbAvAHH\", FloatType(), True),\n",
    "    StructField(\"BbMxAHA\", FloatType(), True),\n",
    "    StructField(\"BbAvAHA\", FloatType(), True),\n",
    "    StructField(\"PSCH\", FloatType(), True),\n",
    "    StructField(\"PSCD\", FloatType(), True),\n",
    "    StructField(\"PSCA\", FloatType(), True),\n",
    "])\n",
    "\n",
    "sales_df = spark             .read            .option(\"delimiter\",\",\")            .option(\"header\",\"true\")            .schema(customSchema)             .csv(hdfs_path)\n",
    "sales_df.show()\n",
    "sales_df.printSchema()"
   ]
  },
  {
   "cell_type": "code",
   "execution_count": 14,
   "id": "b2ca3d98",
   "metadata": {},
   "outputs": [
    {
     "name": "stderr",
     "output_type": "stream",
     "text": [
      "                                                                                \r"
     ]
    }
   ],
   "source": [
    "#Escrever a tabela criada anteriormente no DELTALAKE\n",
    "\n",
    "sales_df     .select(\"Div\", \"HomeTeam\", \"AwayTeam\", \"Referee\", \"FTHG\", \"FTAG\", \"HF\", \"AF\", \"HY\", \"AY\", \"HR\", \"AR\", \"Date\")     .write     .mode(\"overwrite\")     .partitionBy(\"Date\")     .format(\"delta\")     .save(\"hdfs://hdfs-nn:9000/demo/silver/premier_league.db/deltalake_table/\")"
   ]
  },
  {
   "cell_type": "code",
   "execution_count": null,
   "id": "efa992e6",
   "metadata": {},
   "outputs": [],
   "source": [
    "#Demonstração dos dados da Tabela\n",
    "\n",
    "spark.sql(\n",
    "    \"\"\"\n",
    "    SELECT * FROM premier_league.deltalake_table\n",
    "    \"\"\"\n",
    ").show()"
   ]
  },
  {
   "cell_type": "code",
   "execution_count": null,
   "id": "68526cc1",
   "metadata": {},
   "outputs": [],
   "source": [
    "spark.sql(\n",
    "\"\"\"\n",
    "SELECT HomeTeam,AwayTeam,HF,AF\n",
    "FROM premier_league.deltalake_table\n",
    "\"\"\"\n",
    ").show()"
   ]
  },
  {
   "cell_type": "code",
   "execution_count": null,
   "id": "041fed7b",
   "metadata": {},
   "outputs": [],
   "source": [
    "#Fazer Verificações\n",
    "spark.sql(\n",
    "    \"\"\"\n",
    "    SELECT COUNT(*) FROM premier_league.deltalake_table\n",
    "    \n",
    "    \"\"\"\n",
    ").show()\n"
   ]
  },
  {
   "cell_type": "code",
   "execution_count": null,
   "id": "e651596c",
   "metadata": {},
   "outputs": [],
   "source": [
    "#Alteração da Coluna Div\n",
    "\n",
    "spark.sql(\n",
    "\"\"\"\n",
    "UPDATE premier_league.deltalake_table\n",
    "SET Div = REPLACE(Div,'E0','Premier League')\n",
    "\"\"\"\n",
    ")"
   ]
  },
  {
   "cell_type": "code",
   "execution_count": null,
   "id": "53fe207c",
   "metadata": {},
   "outputs": [],
   "source": [
    "spark.sql(\n",
    "\"\"\"\n",
    "SELECT Date FROM premier_league.deltalake_table\n",
    "\n",
    "\"\"\"\n",
    ").show()"
   ]
  },
  {
   "cell_type": "code",
   "execution_count": null,
   "id": "396f62ab",
   "metadata": {},
   "outputs": [],
   "source": [
    "spark.sql(\n",
    "\"\"\"\n",
    "SELECT *\n",
    "FROM premier_league.deltalake_table\n",
    "\"\"\"\n",
    ").show()"
   ]
  },
  {
   "cell_type": "code",
   "execution_count": null,
   "id": "7ca80a81",
   "metadata": {},
   "outputs": [],
   "source": [
    "#Tratamento de Dados\n",
    "\n",
    "sales_df = spark.read.format(\"delta\").load(\"hdfs://hdfs-nn:9000/demo/silver/premier_league.db/deltalake_table/\")"
   ]
  },
  {
   "cell_type": "code",
   "execution_count": null,
   "id": "4f026be6",
   "metadata": {},
   "outputs": [],
   "source": [
    "#Alteração do nome de colunas\n",
    "\n",
    "sales_df    .withColumnRenamed(\"Div\", \"Division\")    .withColumnRenamed(\"FTHG\", \"HomeT_Goals\")    .withColumnRenamed(\"FTAG\", \"AwayT_Goals\")    .withColumnRenamed(\"HF\", \"HomeT_Fouls\")    .withColumnRenamed(\"AF\", \"AwayT_Fouls\")    .withColumnRenamed(\"HY\", \"HomeT_Yellow\")    .withColumnRenamed(\"AY\", \"AwayT_Yellow\")     .withColumnRenamed(\"HR\", \"HomeT_Red\")    .withColumnRenamed(\"AR\", \"AwayT_Red\")"
   ]
  },
  {
   "cell_type": "code",
   "execution_count": null,
   "id": "6620c77c",
   "metadata": {},
   "outputs": [],
   "source": [
    "#Verificar a Existencia de Valores Duplicados no DeltaLake\n",
    "\n",
    "import pyspark.sql.functions as f\n",
    "sales_df.join(\n",
    "    sales_df.groupBy(sales_df.columns).agg((f.count(\"*\")>1).cast(\"int\").alias(\"Duplicate_indicator\")),\n",
    "    on=sales_df.columns,\n",
    "    how=\"inner\"\n",
    ").show()"
   ]
  },
  {
   "cell_type": "code",
   "execution_count": null,
   "id": "583604ec",
   "metadata": {},
   "outputs": [],
   "source": [
    "#Verificação de valores Distintos em HomeTeam,AwayTeam e Referee\n",
    "\n",
    "sales_df.select(\"HomeTeam\").distinct().collect()"
   ]
  },
  {
   "cell_type": "code",
   "execution_count": null,
   "id": "a2ff130b",
   "metadata": {},
   "outputs": [],
   "source": [
    "sales_df.select(\"AwayTeam\").distinct().collect()"
   ]
  },
  {
   "cell_type": "code",
   "execution_count": null,
   "id": "462fd54a",
   "metadata": {},
   "outputs": [],
   "source": [
    "sales_df.select(\"Referee\").distinct().collect()"
   ]
  },
  {
   "cell_type": "code",
   "execution_count": null,
   "id": "5ebddd2d",
   "metadata": {},
   "outputs": [],
   "source": [
    "#Verificação de Valores NULOS nas Tabelas\n",
    "\n",
    "sales_df.filter(sales_df.HomeTeam.isNull()).count()"
   ]
  },
  {
   "cell_type": "code",
   "execution_count": null,
   "id": "ac8de8e2",
   "metadata": {},
   "outputs": [],
   "source": [
    "sales_df.filter(sales_df.AwayTeam.isNull()).count()"
   ]
  },
  {
   "cell_type": "code",
   "execution_count": null,
   "id": "87a97323",
   "metadata": {},
   "outputs": [],
   "source": [
    "sales_df.filter(sales_df.HF.isNull()).count()"
   ]
  },
  {
   "cell_type": "code",
   "execution_count": null,
   "id": "ea74efa6",
   "metadata": {},
   "outputs": [],
   "source": [
    "sales_df.filter(sales_df.AF.isNull()).count()"
   ]
  },
  {
   "cell_type": "code",
   "execution_count": null,
   "id": "14c2687e",
   "metadata": {},
   "outputs": [],
   "source": [
    "sales_df.filter(sales_df.Div.isNull()).count()"
   ]
  },
  {
   "cell_type": "code",
   "execution_count": null,
   "id": "8d1fd2e0",
   "metadata": {},
   "outputs": [],
   "source": [
    "sales_df.filter(sales_df.FTHG.isNull()).count()"
   ]
  },
  {
   "cell_type": "code",
   "execution_count": null,
   "id": "e9931328",
   "metadata": {},
   "outputs": [],
   "source": [
    "sales_df.filter(sales_df.FTAG.isNull()).count()"
   ]
  },
  {
   "cell_type": "code",
   "execution_count": null,
   "id": "6a965103",
   "metadata": {},
   "outputs": [],
   "source": [
    "sales_df.filter(sales_df.HY.isNull()).count()"
   ]
  },
  {
   "cell_type": "code",
   "execution_count": null,
   "id": "2f52891a",
   "metadata": {},
   "outputs": [],
   "source": [
    "sales_df.filter(sales_df.AY.isNull()).count()"
   ]
  },
  {
   "cell_type": "code",
   "execution_count": null,
   "id": "e5d6d1d7",
   "metadata": {},
   "outputs": [],
   "source": [
    "sales_df.filter(sales_df.HR.isNull()).count()"
   ]
  },
  {
   "cell_type": "code",
   "execution_count": null,
   "id": "571d1e99",
   "metadata": {},
   "outputs": [],
   "source": [
    "sales_df.filter(sales_df.AR.isNull()).count()"
   ]
  },
  {
   "cell_type": "code",
   "execution_count": null,
   "id": "9c1fb0b5",
   "metadata": {},
   "outputs": [],
   "source": [
    "spark.stop()"
   ]
  },
  {
   "cell_type": "code",
   "execution_count": null,
   "id": "346fbefc",
   "metadata": {},
   "outputs": [],
   "source": []
  }
 ],
 "metadata": {
  "kernelspec": {
   "display_name": "Python 3 (ipykernel)",
   "language": "python",
   "name": "python3"
  },
  "language_info": {
   "codemirror_mode": {
    "name": "ipython",
    "version": 3
   },
   "file_extension": ".py",
   "mimetype": "text/x-python",
   "name": "python",
   "nbconvert_exporter": "python",
   "pygments_lexer": "ipython3",
   "version": "3.9.7"
  }
 },
 "nbformat": 4,
 "nbformat_minor": 5
}
