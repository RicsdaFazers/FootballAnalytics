{
 "cells": [
  {
   "cell_type": "code",
   "execution_count": null,
   "id": "0479d655",
   "metadata": {},
   "outputs": [],
   "source": [
    "from os import PathLike\n",
    "from hdfs import InsecureClient\n",
    "from pyspark.sql import SparkSession\n",
    "from pyspark.sql import Row\n",
    "from pyspark.sql.functions import *\n",
    "from delta import *\n",
    "from pyspark.sql.types import LongType, StringType, StructField, StructType, BooleanType, ArrayType, IntegerType"
   ]
  },
  {
   "cell_type": "code",
   "execution_count": null,
   "id": "7a082781",
   "metadata": {},
   "outputs": [],
   "source": [
    "# warehouse_location points to the default location for managed databases and tables\n",
    "warehouse_location = 'hdfs://hdfs-nn:9000/warehouse/project'\n",
    "\n",
    "builder = SparkSession \\\n",
    "    .builder \\\n",
    "    .appName(\"Python Spark SQL Hive integration example\") \\\n",
    "    .config(\"spark.sql.warehouse.dir\", warehouse_location) \\\n",
    "    .config(\"hive.metastore.uris\", \"thrift://hive-metastore:9083\") \\\n",
    "    .config(\"spark.sql.extensions\", \"io.delta.sql.DeltaSparkSessionExtension\") \\\n",
    "    .config(\"spark.sql.catalog.spark_catalog\", \"org.apache.spark.sql.delta.catalog.DeltaCatalog\") \\\n",
    "    .config(\"spark.jars.packages\", \"io.delta:delta-core_2.12:1.0.0\") \\\n",
    "    .enableHiveSupport() \n",
    "\n",
    "spark = spark = configure_spark_with_delta_pip(builder).getOrCreate()\n"
   ]
  },
  {
   "cell_type": "code",
   "execution_count": null,
   "id": "14aeecf7",
   "metadata": {},
   "outputs": [],
   "source": [
    "spark.sql(\n",
    "    \"\"\"\n",
    "    SHOW TABLES FROM silver_salaries\n",
    "    \"\"\"\n",
    ").show()"
   ]
  },
  {
   "cell_type": "code",
   "execution_count": null,
   "id": "bf410e0f",
   "metadata": {},
   "outputs": [],
   "source": [
    "spark.sql(\n",
    "    \"\"\"\n",
    "    SELECT * FROM silver_salaries.deltalake_table\n",
    "    \"\"\"\n",
    ").show()"
   ]
  },
  {
   "cell_type": "code",
   "execution_count": null,
   "id": "f67502ae",
   "metadata": {},
   "outputs": [],
   "source": [
    "#read hdfs file to dataframe\n",
    "hdfs_path = \"hdfs://hdfs-nn:9000/project/bronze/SoccerSalaries.csv\"\n",
    "\n",
    "#define the schema for the dataframe\n",
    "customSchema = StructType([\n",
    "    StructField(\"Player\", StringType(), True),\n",
    "    StructField(\"Weekly_Salary\", IntegerType(), True),\n",
    "    StructField(\"Position\", StringType(), True),\n",
    "    StructField(\"Age\", IntegerType(), True),\n",
    "    StructField(\"Status\", StringType(), True),\n",
    "    StructField(\"Length\", IntegerType(), True),\n",
    "    StructField(\"18_19_Salary\", IntegerType(), True),\n",
    "    StructField(\"19_20_Salary\", IntegerType(), True),\n",
    "    StructField(\"20_21_Salary\", IntegerType(), True),\n",
    "    StructField(\"21_22_Salary\", IntegerType(), True),\n",
    "    StructField(\"22_23_Salary\", IntegerType(), True),\n",
    "    StructField(\"23_24_Salary\", IntegerType(), True),\n",
    "    StructField(\"24_25_Salary\", IntegerType(), True),\n",
    "    StructField(\"Club\", StringType(), True),\n",
    "    StructField(\"League\", StringType(), True)\n",
    "])\n",
    "\n",
    "salaries_df = spark \\\n",
    "    .read \\\n",
    "    .option(\"delimiter\",\",\") \\\n",
    "    .option(\"header\",\"true\") \\\n",
    "    .schema(customSchema) \\\n",
    "    .csv(hdfs_path)\n",
    "\n",
    "salaries_df.show()\n",
    "salaries_df.printSchema()"
   ]
  },
  {
   "cell_type": "code",
   "execution_count": null,
   "id": "9bc65380",
   "metadata": {},
   "outputs": [],
   "source": [
    "split_col = split(salaries_df['Player'], ' ')\n",
    "\n",
    "salaries_df = salaries_df.withColumn(\"First_Name\", split(col(\"Player\"), \" \"). \\\n",
    "    getItem(0)).withColumn(\"Middle_Name\", split(col(\"Player\"), \" \"). \\\n",
    "    getItem(1)).withColumn(\"Last_Name\", split(col(\"Player\"), \" \").getItem(2))\n",
    "\n",
    "salaries_df.select(\"Player\", \"First_Name\", \"Middle_Name\", \"Last_Name\").show()"
   ]
  },
  {
   "cell_type": "code",
   "execution_count": null,
   "id": "3d5c5832",
   "metadata": {},
   "outputs": [],
   "source": [
    "salaries_df = salaries_df.withColumn('Middle_Name',when(col(\"Middle_Name\").substr(1,5)=='(http', None). \\\n",
    "    otherwise(col(\"Middle_Name\"))) \\\n",
    "    .withColumn('Last_Name',when(col(\"Last_Name\").substr(1,5)=='(http', None).otherwise(col(\"Last_Name\")))\n",
    "\n",
    "salaries_df.select(\"Player\", \"First_Name\", \"Middle_Name\", \"Last_Name\").show()"
   ]
  },
  {
   "cell_type": "code",
   "execution_count": null,
   "id": "154bc4b1",
   "metadata": {},
   "outputs": [],
   "source": [
    "salaries_df = salaries_df.withColumn('Player_Name',\n",
    "    when(col(\"Last_Name\").isNotNull(), concat(col('First_Name'),lit(' '), col('Middle_Name'), lit(' '), col('Last_Name'))) \\\n",
    "    .otherwise(when(col(\"Middle_Name\").isNotNull(), concat(col('First_Name'),lit(' '), col('Middle_Name'))) \\\n",
    "    .otherwise(col('First_Name')))) "
   ]
  },
  {
   "cell_type": "code",
   "execution_count": null,
   "id": "831fb181",
   "metadata": {},
   "outputs": [],
   "source": [
    "salaries_df = salaries_df.withColumn('Player', col('Player_Name'))"
   ]
  },
  {
   "cell_type": "code",
   "execution_count": null,
   "id": "b479e983",
   "metadata": {},
   "outputs": [],
   "source": [
    "salaries_df = salaries_df.drop('First_Name', 'Middle_Name', 'Last_Name', 'Player_Name')\n",
    "\n",
    "salaries_df.show()"
   ]
  },
  {
   "cell_type": "code",
   "execution_count": null,
   "id": "b0840fee",
   "metadata": {},
   "outputs": [],
   "source": [
    "salaries_df = salaries_df.withColumn('Position',\n",
    "                                    when(col('Position')=='AM', 'Attacking Midfielder') \\\n",
    "                                    .when(col('Position')=='CF', 'Center Forward') \\\n",
    "                                    .when(col('Position')=='CM', 'Center Midfielder') \\\n",
    "                                    .when(col('Position')=='LW', 'Left Wing') \\\n",
    "                                    .when(col('Position')=='GK', 'Goalkeeper') \\\n",
    "                                    .when(col('Position')=='RW', 'Right Wing') \\\n",
    "                                    .when(col('Position')=='DM', 'Defensive Midfielder') \\\n",
    "                                    .when(col('Position')=='CB', 'Center Back') \\\n",
    "                                    .when(col('Position')=='SS', 'Second Striker') \\\n",
    "                                    .when(col('Position')=='LB', 'Left Back') \\\n",
    "                                    .when(col('Position')=='RB', 'Right Back') \\\n",
    "                                    .when(col('Position')=='LM', 'Left Midfielder') \\\n",
    "                                    .when(col('Position')=='RM', 'Right Midfielder') \\\n",
    "                                    .otherwise(col('Position')))\n",
    "salaries_df.select(\"Position\").show()"
   ]
  },
  {
   "cell_type": "code",
   "execution_count": null,
   "id": "5d00298c",
   "metadata": {},
   "outputs": [],
   "source": [
    "salaries_df = salaries_df.withColumn('Club',\n",
    "                                      when(col('Club')=='SPAL', 'Societa Polisportiva Ars et Labor') \\\n",
    "                                    .when(col('Club')=='PSG', 'Societa Polisportiva Ars et Labor') \\\n",
    "                                    .otherwise(col('Club')))\n",
    "salaries_df.select(\"Club\").show()"
   ]
  },
  {
   "cell_type": "code",
   "execution_count": null,
   "id": "9302d59a",
   "metadata": {},
   "outputs": [],
   "source": [
    "salaries_df = salaries_df.withColumn('League',\n",
    "                                      when(col('League')=='EPL', 'Premier League') \\\n",
    "                                    .when(col('League')=='Serie A', 'Brasileirao Serie A') \\\n",
    "                                    .otherwise(col('League')))\n",
    "salaries_df.select(\"League\").show()"
   ]
  },
  {
   "cell_type": "code",
   "execution_count": null,
   "id": "a87dd16a",
   "metadata": {},
   "outputs": [],
   "source": [
    "salaries_df = salaries_df.select('Player', 'Weekly_Salary', 'Position', 'Age', 'Status', '18_19_Salary', '19_20_Salary',\n",
    "                                    '20_21_Salary', '21_22_Salary', '22_23_Salary', '23_24_Salary', '24_25_Salary', 'Club', \n",
    "                                    'League', 'Length')\n",
    "salaries_df.show()"
   ]
  },
  {
   "cell_type": "code",
   "execution_count": null,
   "id": "5ebf381a",
   "metadata": {},
   "outputs": [],
   "source": [
    "salaries_df.createOrReplaceTempView(\"salaries\")"
   ]
  },
  {
   "cell_type": "code",
   "execution_count": null,
   "id": "779bfcf5",
   "metadata": {},
   "outputs": [],
   "source": [
    "spark.sql(\"\"\"INSERT INTO silver_salaries.deltalake_table \n",
    "    SELECT * FROM salaries\"\"\")"
   ]
  },
  {
   "cell_type": "code",
   "execution_count": null,
   "id": "beb99ee6",
   "metadata": {},
   "outputs": [],
   "source": [
    "spark.sql(\"\"\"\n",
    "    SELECT COUNT(*) FROM silver_salaries.deltalake_table\n",
    "    \"\"\").show()"
   ]
  },
  {
   "cell_type": "code",
   "execution_count": null,
   "id": "f789d5ed",
   "metadata": {},
   "outputs": [],
   "source": [
    "spark.sql(\"\"\"\n",
    "    SELECT DISTINCT Player FROM silver_salaries.deltalake_table\n",
    "    \"\"\").show()"
   ]
  },
  {
   "cell_type": "code",
   "execution_count": null,
   "id": "bc803a5d",
   "metadata": {},
   "outputs": [],
   "source": [
    "spark.sql(\"\"\"\n",
    "    SELECT DISTINCT Weekly_Salary FROM silver_salaries.deltalake_table\n",
    "    \"\"\").show()"
   ]
  },
  {
   "cell_type": "code",
   "execution_count": null,
   "id": "c1a07121",
   "metadata": {},
   "outputs": [],
   "source": [
    "spark.sql(\"\"\"\n",
    "    SELECT DISTINCT Position FROM silver_salaries.deltalake_table\n",
    "    \"\"\").show()"
   ]
  },
  {
   "cell_type": "code",
   "execution_count": null,
   "id": "94088bc9",
   "metadata": {},
   "outputs": [],
   "source": [
    "spark.sql(\"\"\"\n",
    "    SELECT DISTINCT Age FROM silver_salaries.deltalake_table\n",
    "    \"\"\").show()"
   ]
  },
  {
   "cell_type": "code",
   "execution_count": null,
   "id": "0342db69",
   "metadata": {},
   "outputs": [],
   "source": [
    "spark.sql(\"\"\"\n",
    "    SELECT DISTINCT Status FROM silver_salaries.deltalake_table\n",
    "    \"\"\").show()"
   ]
  },
  {
   "cell_type": "code",
   "execution_count": null,
   "id": "17f4d8bb",
   "metadata": {},
   "outputs": [],
   "source": [
    "spark.sql(\"\"\"\n",
    "    SELECT DISTINCT 18_19_Salary FROM silver_salaries.deltalake_table\n",
    "    \"\"\").show()"
   ]
  },
  {
   "cell_type": "code",
   "execution_count": null,
   "id": "5623f69a",
   "metadata": {},
   "outputs": [],
   "source": [
    "spark.sql(\"\"\"\n",
    "    SELECT DISTINCT 19_20_Salary FROM silver_salaries.deltalake_table\n",
    "    \"\"\").show()"
   ]
  },
  {
   "cell_type": "code",
   "execution_count": null,
   "id": "1aef71c3",
   "metadata": {},
   "outputs": [],
   "source": [
    "spark.sql(\"\"\"\n",
    "    SELECT DISTINCT 20_21_Salary FROM silver_salaries.deltalake_table\n",
    "    \"\"\").show()"
   ]
  },
  {
   "cell_type": "code",
   "execution_count": null,
   "id": "85fd370e",
   "metadata": {},
   "outputs": [],
   "source": [
    "spark.sql(\"\"\"\n",
    "    SELECT DISTINCT 21_22_Salary FROM silver_salaries.deltalake_table\n",
    "    \"\"\").show()"
   ]
  },
  {
   "cell_type": "code",
   "execution_count": null,
   "id": "164e1b09",
   "metadata": {},
   "outputs": [],
   "source": [
    "spark.sql(\"\"\"\n",
    "    SELECT DISTINCT 22_23_Salary FROM silver_salaries.deltalake_table\n",
    "    \"\"\").show()"
   ]
  },
  {
   "cell_type": "code",
   "execution_count": null,
   "id": "70f478ff",
   "metadata": {},
   "outputs": [],
   "source": [
    "spark.sql(\"\"\"\n",
    "    SELECT DISTINCT 23_24_Salary FROM silver_salaries.deltalake_table\n",
    "    \"\"\").show()"
   ]
  },
  {
   "cell_type": "code",
   "execution_count": null,
   "id": "8f103043",
   "metadata": {},
   "outputs": [],
   "source": [
    "spark.sql(\"\"\"\n",
    "    SELECT DISTINCT 24_25_Salary FROM silver_salaries.deltalake_table\n",
    "    \"\"\").show()"
   ]
  },
  {
   "cell_type": "code",
   "execution_count": null,
   "id": "382a8f00",
   "metadata": {},
   "outputs": [],
   "source": [
    "spark.sql(\"\"\"\n",
    "    SELECT DISTINCT Club FROM silver_salaries.deltalake_table\n",
    "    \"\"\").show()"
   ]
  },
  {
   "cell_type": "code",
   "execution_count": null,
   "id": "d851e586",
   "metadata": {},
   "outputs": [],
   "source": [
    "spark.sql(\"\"\"\n",
    "    SELECT DISTINCT League FROM silver_salaries.deltalake_table\n",
    "    \"\"\").show()"
   ]
  },
  {
   "cell_type": "code",
   "execution_count": null,
   "id": "ddfaca17",
   "metadata": {},
   "outputs": [],
   "source": [
    "spark.stop()"
   ]
  }
 ],
 "metadata": {
  "kernelspec": {
   "display_name": "Python 3",
   "language": "python",
   "name": "python3"
  },
  "language_info": {
   "codemirror_mode": {
    "name": "ipython",
    "version": 3
   },
   "file_extension": ".py",
   "mimetype": "text/x-python",
   "name": "python",
   "nbconvert_exporter": "python",
   "pygments_lexer": "ipython3",
   "version": "3.9.4"
  }
 },
 "nbformat": 4,
 "nbformat_minor": 5
}
