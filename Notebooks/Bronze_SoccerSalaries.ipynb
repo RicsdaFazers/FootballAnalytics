{
 "cells": [
  {
   "cell_type": "code",
   "execution_count": null,
   "id": "flush-fifteen",
   "metadata": {},
   "outputs": [],
   "source": [
    "# Install dependencies\n",
    "import sys\n",
    "!{sys.executable} -m pip install hdfs"
   ]
  },
  {
   "cell_type": "code",
   "execution_count": null,
   "id": "twelve-oklahoma",
   "metadata": {},
   "outputs": [],
   "source": [
    "# Copy File to bronze layer\n",
    "from os import PathLike\n",
    "from hdfs import InsecureClient\n",
    "client = InsecureClient(\"http://hdfs-nn:9870\", user=\"anonymous\")\n",
    "\n",
    "from_path = \"./SoccerSalaries.csv\"\n",
    "to_path = \"/project/bronze/SoccerSalaries.csv\"\n",
    "\n",
    "client.delete(to_path)\n",
    "\n",
    "client.upload(to_path, from_path)"
   ]
  }
 ],
 "metadata": {
  "kernelspec": {
   "display_name": "Python 3",
   "language": "python",
   "name": "python3"
  },
  "language_info": {
   "codemirror_mode": {
    "name": "ipython",
    "version": 3
   },
   "file_extension": ".py",
   "mimetype": "text/x-python",
   "name": "python",
   "nbconvert_exporter": "python",
   "pygments_lexer": "ipython3",
   "version": "3.9.4"
  }
 },
 "nbformat": 4,
 "nbformat_minor": 5
}
