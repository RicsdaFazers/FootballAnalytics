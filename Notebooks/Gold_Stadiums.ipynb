{
 "cells": [
  {
   "cell_type": "code",
   "execution_count": 1,
   "id": "954bd351",
   "metadata": {},
   "outputs": [],
   "source": [
    "from os import PathLike\n",
    "from hdfs import InsecureClient\n",
    "from pyspark.sql import SparkSession\n",
    "from pyspark.sql import Row\n",
    "from delta import *\n",
    "from pyspark.sql.types import LongType, StringType, StructField, StructType, BooleanType, ArrayType, IntegerType\n",
    "from pyspark.sql.functions import substring, avg, sum\n",
    "import pyspark.sql.functions as f"
   ]
  },
  {
   "cell_type": "code",
   "execution_count": 2,
   "id": "a44e65d6",
   "metadata": {},
   "outputs": [],
   "source": [
    "#CONFIGURAR O SPARK\n",
    "warehouse_location = 'hdfs://hdfs-nn:9000/demo/'\n",
    "\n",
    "builder = SparkSession \\\n",
    "    .builder \\\n",
    "    .appName(\"Python Spark\") \\\n",
    "    .config(\"spark.sql.warehouse.dir\", warehouse_location) \\\n",
    "    .config(\"hive.metastore.uris\", \"thrift://hive-metastore:9083\") \\\n",
    "    .config(\"spark.sql.extensions\", \"io.delta.sql.DeltaSparkSessionExtension\") \\\n",
    "    .config(\"spark.sql.catalog.spark_catalog\", \"org.apache.spark.sql.delta.catalog.DeltaCatalog\") \\\n",
    "    .config(\"spark.jars.packages\", \"io.delta:delta-core_2.12:1.0.0\") \\\n",
    "    .enableHiveSupport() \\\n",
    "\n",
    "spark = spark = configure_spark_with_delta_pip(builder).getOrCreate()"
   ]
  },
  {
   "cell_type": "code",
   "execution_count": 3,
   "id": "c65c6353",
   "metadata": {},
   "outputs": [],
   "source": [
    "stadiums = spark.read.format(\"delta\").load(\"hdfs://hdfs-nn:9000/demo/silver/FootballStadiums.db/deltalake_table/\")"
   ]
  },
  {
   "cell_type": "code",
   "execution_count": 4,
   "id": "7301872d",
   "metadata": {},
   "outputs": [
    {
     "name": "stdout",
     "output_type": "stream",
     "text": [
      "+--------------------+-----------+--------------------+--------+-------+----------+-------------+\n",
      "|             Stadium|       City|           Hometeams|Capacity|Country|Population|Confederation|\n",
      "+--------------------+-----------+--------------------+--------+-------+----------+-------------+\n",
      "| Stadiumi Besëlidhja|      Lezhë|          Besëlidhja|    7000|Albania|   2876591|         UEFA|\n",
      "| Stadiumi Flamurtari|      Vlorë|    Flamurtari Vlorë|    8200|Albania|   2876591|         UEFA|\n",
      "|       Stadiumi Laçi|       Laçi|             KF Laçi|    5000|Albania|   2876591|         UEFA|\n",
      "|Stadiumi Niko Dovana|     Durrës|               Teuta|   12040|Albania|   2876591|         UEFA|\n",
      "|Stadiumi Selman S...|     Tirana|KF Tirana, Dinamo...|    9500|Albania|   2876591|         UEFA|\n",
      "| Stadiumi Skënderbeu|      Korçë|          Skënderbeu|    7500|Albania|   2876591|         UEFA|\n",
      "|   Alashkert Stadion|    Yerevan|           Alashkert|    6850|Armenia|   2924816|         UEFA|\n",
      "|     Banants Stadion|    Yerevan|             Banants|    4860|Armenia|   2924816|         UEFA|\n",
      "|     Hrazdan Stadion|    Yerevan|     Ararat, Kilikia|   54208|Armenia|   2924816|         UEFA|\n",
      "|  Republican Stadion|    Yerevan|       Pyunik, Uliss|   14403|Armenia|   2924816|         UEFA|\n",
      "|     Allianz Stadion|     Vienna|               Rapid|   28345|Austria|   8857960|         UEFA|\n",
      "|          BSFZ-Arena|     Vienna|       Admira Wacker|   12000|Austria|   8857960|         UEFA|\n",
      "|     Cashpoint-Arena|     Altach|                 SCR|    8500|Austria|   8857960|         UEFA|\n",
      "|      Casino-Stadion|    Bregenz|        Schwarz-Weiß|   11112|Austria|   8857960|         UEFA|\n",
      "|Ernst-Happel-Stadion|     Vienna|                   -|   50865|Austria|   8857960|         UEFA|\n",
      "|Fill Metallbau St...|       Ried|             SV Ried|    7600|Austria|   8857960|         UEFA|\n",
      "|Franz-Fekete-Stadion| Kapfenberg|     Kapfenberger SV|   12000|Austria|   8857960|         UEFA|\n",
      "|Fußballakademie B...|Mattersburg|      SV Mattersburg|    2500|Austria|   8857960|         UEFA|\n",
      "|      Generali-Arena|     Vienna|             Austria|   13500|Austria|   8857960|         UEFA|\n",
      "|Gernot Langes Sta...|    Wattens|         WSG Wattens|    5200|Austria|   8857960|         UEFA|\n",
      "+--------------------+-----------+--------------------+--------+-------+----------+-------------+\n",
      "only showing top 20 rows\n",
      "\n"
     ]
    }
   ],
   "source": [
    "spark.table(\"FootballStadiums.deltalake_table\").show()"
   ]
  },
  {
   "cell_type": "code",
   "execution_count": 5,
   "id": "c76d226c",
   "metadata": {},
   "outputs": [
    {
     "data": {
      "text/plain": [
       "DataFrame[]"
      ]
     },
     "execution_count": 5,
     "metadata": {},
     "output_type": "execute_result"
    }
   ],
   "source": [
    "#CREATE GOLD DATABASE\n",
    "spark.sql(\n",
    "    \"\"\"\n",
    "    CREATE DATABASE IF NOT EXISTS UC3_gl LOCATION 'hdfs://hdfs-nn:9000/demo/gold/UC3_gl.db/'\n",
    "    \"\"\"\n",
    ")\n",
    "\n",
    "#DROP TABLE\n",
    "spark.sql(\n",
    "    \"\"\"\n",
    "    DROP TABLE IF EXISTS UC3_gl.stadiums\n",
    "    \"\"\"\n",
    ")\n",
    "\n",
    "#CREATE THE TABLE IN GOLD\n",
    "spark.sql(\n",
    "    \"\"\"\n",
    "    CREATE EXTERNAL TABLE UC3_gl.stadiums (\n",
    "        Confederation STRING,\n",
    "        Stadium STRING,\n",
    "        City STRING,\n",
    "        Hometeams STRING,\n",
    "        Capacity INT,\n",
    "        Country STRING,\n",
    "        Population INT\n",
    "    )\n",
    "    USING DELTA\n",
    "    LOCATION 'hdfs://hdfs-nn:9000/demo/gold/UC3_gl.db/stadiums/'\n",
    "    \"\"\"\n",
    ")"
   ]
  },
  {
   "cell_type": "code",
   "execution_count": 6,
   "id": "9f9d48cf",
   "metadata": {},
   "outputs": [
    {
     "name": "stdout",
     "output_type": "stream",
     "text": [
      "+-------------+--------------------+-----------+--------------------+--------+-------+----------+\n",
      "|Confederation|             Stadium|       City|           Hometeams|Capacity|Country|Population|\n",
      "+-------------+--------------------+-----------+--------------------+--------+-------+----------+\n",
      "|         UEFA| Stadiumi Besëlidhja|      Lezhë|          Besëlidhja|    7000|Albania|   2876591|\n",
      "|         UEFA| Stadiumi Flamurtari|      Vlorë|    Flamurtari Vlorë|    8200|Albania|   2876591|\n",
      "|         UEFA|       Stadiumi Laçi|       Laçi|             KF Laçi|    5000|Albania|   2876591|\n",
      "|         UEFA|Stadiumi Niko Dovana|     Durrës|               Teuta|   12040|Albania|   2876591|\n",
      "|         UEFA|Stadiumi Selman S...|     Tirana|KF Tirana, Dinamo...|    9500|Albania|   2876591|\n",
      "|         UEFA| Stadiumi Skënderbeu|      Korçë|          Skënderbeu|    7500|Albania|   2876591|\n",
      "|         UEFA|   Alashkert Stadion|    Yerevan|           Alashkert|    6850|Armenia|   2924816|\n",
      "|         UEFA|     Banants Stadion|    Yerevan|             Banants|    4860|Armenia|   2924816|\n",
      "|         UEFA|     Hrazdan Stadion|    Yerevan|     Ararat, Kilikia|   54208|Armenia|   2924816|\n",
      "|         UEFA|  Republican Stadion|    Yerevan|       Pyunik, Uliss|   14403|Armenia|   2924816|\n",
      "|         UEFA|     Allianz Stadion|     Vienna|               Rapid|   28345|Austria|   8857960|\n",
      "|         UEFA|          BSFZ-Arena|     Vienna|       Admira Wacker|   12000|Austria|   8857960|\n",
      "|         UEFA|     Cashpoint-Arena|     Altach|                 SCR|    8500|Austria|   8857960|\n",
      "|         UEFA|      Casino-Stadion|    Bregenz|        Schwarz-Weiß|   11112|Austria|   8857960|\n",
      "|         UEFA|Ernst-Happel-Stadion|     Vienna|                   -|   50865|Austria|   8857960|\n",
      "|         UEFA|Fill Metallbau St...|       Ried|             SV Ried|    7600|Austria|   8857960|\n",
      "|         UEFA|Franz-Fekete-Stadion| Kapfenberg|     Kapfenberger SV|   12000|Austria|   8857960|\n",
      "|         UEFA|Fußballakademie B...|Mattersburg|      SV Mattersburg|    2500|Austria|   8857960|\n",
      "|         UEFA|      Generali-Arena|     Vienna|             Austria|   13500|Austria|   8857960|\n",
      "|         UEFA|Gernot Langes Sta...|    Wattens|         WSG Wattens|    5200|Austria|   8857960|\n",
      "+-------------+--------------------+-----------+--------------------+--------+-------+----------+\n",
      "only showing top 20 rows\n",
      "\n"
     ]
    },
    {
     "data": {
      "text/plain": [
       "2024"
      ]
     },
     "execution_count": 6,
     "metadata": {},
     "output_type": "execute_result"
    }
   ],
   "source": [
    "from pyspark.sql.functions import substring, avg, sum\n",
    "from pyspark.sql.functions import col, concat_ws, concat, lit, desc, asc\n",
    "\n",
    "#JOIN THE TABLES\n",
    "flat_stadiums_df = stadiums.select(\"Confederation\", \"Stadium\", \"City\", \"Hometeams\", \"Capacity\", \"Country\", \"Population\")\n",
    "\n",
    "#WRITE TO DELTA TABLE\n",
    "flat_stadiums_df \\\n",
    "    .write \\\n",
    "    .format(\"delta\") \\\n",
    "    .mode(\"overwrite\") \\\n",
    "    .save(\"hdfs://hdfs-nn:9000/demo/gold/UC3_gl.db/stadiums/\")\n",
    "\n",
    "flat_stadiums_df.show()\n",
    "\n",
    "#CHECK RESULTS\n",
    "spark.table(\"UC3_gl.stadiums\").count()"
   ]
  },
  {
   "cell_type": "code",
   "execution_count": 9,
   "id": "e0e04455",
   "metadata": {},
   "outputs": [
    {
     "name": "stdout",
     "output_type": "stream",
     "text": [
      "+-------------+--------------------+-----------+--------------------+--------+-------+----------+\n",
      "|Confederation|             Stadium|       City|           Hometeams|Capacity|Country|Population|\n",
      "+-------------+--------------------+-----------+--------------------+--------+-------+----------+\n",
      "|         UEFA| Stadiumi Besëlidhja|      Lezhë|          Besëlidhja|    7000|Albania|   2876591|\n",
      "|         UEFA| Stadiumi Flamurtari|      Vlorë|    Flamurtari Vlorë|    8200|Albania|   2876591|\n",
      "|         UEFA|       Stadiumi Laçi|       Laçi|             KF Laçi|    5000|Albania|   2876591|\n",
      "|         UEFA|Stadiumi Niko Dovana|     Durrës|               Teuta|   12040|Albania|   2876591|\n",
      "|         UEFA|Stadiumi Selman S...|     Tirana|KF Tirana, Dinamo...|    9500|Albania|   2876591|\n",
      "|         UEFA| Stadiumi Skënderbeu|      Korçë|          Skënderbeu|    7500|Albania|   2876591|\n",
      "|         UEFA|   Alashkert Stadion|    Yerevan|           Alashkert|    6850|Armenia|   2924816|\n",
      "|         UEFA|     Banants Stadion|    Yerevan|             Banants|    4860|Armenia|   2924816|\n",
      "|         UEFA|     Hrazdan Stadion|    Yerevan|     Ararat, Kilikia|   54208|Armenia|   2924816|\n",
      "|         UEFA|  Republican Stadion|    Yerevan|       Pyunik, Uliss|   14403|Armenia|   2924816|\n",
      "|         UEFA|     Allianz Stadion|     Vienna|               Rapid|   28345|Austria|   8857960|\n",
      "|         UEFA|          BSFZ-Arena|     Vienna|       Admira Wacker|   12000|Austria|   8857960|\n",
      "|         UEFA|     Cashpoint-Arena|     Altach|                 SCR|    8500|Austria|   8857960|\n",
      "|         UEFA|      Casino-Stadion|    Bregenz|        Schwarz-Weiß|   11112|Austria|   8857960|\n",
      "|         UEFA|Ernst-Happel-Stadion|     Vienna|                   -|   50865|Austria|   8857960|\n",
      "|         UEFA|Fill Metallbau St...|       Ried|             SV Ried|    7600|Austria|   8857960|\n",
      "|         UEFA|Franz-Fekete-Stadion| Kapfenberg|     Kapfenberger SV|   12000|Austria|   8857960|\n",
      "|         UEFA|Fußballakademie B...|Mattersburg|      SV Mattersburg|    2500|Austria|   8857960|\n",
      "|         UEFA|      Generali-Arena|     Vienna|             Austria|   13500|Austria|   8857960|\n",
      "|         UEFA|Gernot Langes Sta...|    Wattens|         WSG Wattens|    5200|Austria|   8857960|\n",
      "+-------------+--------------------+-----------+--------------------+--------+-------+----------+\n",
      "only showing top 20 rows\n",
      "\n"
     ]
    }
   ],
   "source": [
    "spark.table(\"UC3_gl.stadiums\").show()"
   ]
  },
  {
   "cell_type": "code",
   "execution_count": 7,
   "id": "4a318c68",
   "metadata": {},
   "outputs": [
    {
     "name": "stdout",
     "output_type": "stream",
     "text": [
      "++\n",
      "||\n",
      "++\n",
      "++\n",
      "\n"
     ]
    }
   ],
   "source": [
    "spark.sql(\n",
    "    \"\"\"\n",
    "    GENERATE symlink_format_manifest FOR TABLE delta.`hdfs://hdfs-nn:9000/demo/gold/UC3_gl.db/stadiums/`\n",
    "    \"\"\"\n",
    ").show()"
   ]
  },
  {
   "cell_type": "code",
   "execution_count": 8,
   "id": "b44bf0e5",
   "metadata": {},
   "outputs": [
    {
     "name": "stdout",
     "output_type": "stream",
     "text": [
      "++\n",
      "||\n",
      "++\n",
      "++\n",
      "\n",
      "++\n",
      "||\n",
      "++\n",
      "++\n",
      "\n"
     ]
    }
   ],
   "source": [
    "spark.sql(\"\"\"\n",
    "DROP TABLE IF EXISTS UC3_gl.stadiums_presto\n",
    "\"\"\").show()\n",
    "\n",
    "spark.sql(\n",
    "    \"\"\"\n",
    "    CREATE EXTERNAL TABLE IF NOT EXISTS UC3_gl.stadiums_presto (\n",
    "        Confederation STRING,\n",
    "        Stadium STRING,\n",
    "        City STRING,\n",
    "        Hometeams STRING,\n",
    "        Capacity INT,\n",
    "        Country STRING,\n",
    "        Population INT\n",
    "    )\n",
    "    ROW FORMAT SERDE 'org.apache.hadoop.hive.ql.io.parquet.serde.ParquetHiveSerDe'\n",
    "    STORED AS INPUTFORMAT 'org.apache.hadoop.hive.ql.io.SymlinkTextInputFormat'\n",
    "    OUTPUTFORMAT 'org.apache.hadoop.hive.ql.io.HiveIgnoreKeyTextOutputFormat'\n",
    "    LOCATION 'hdfs://hdfs-nn:9000/demo/gold/UC3_gl.db/stadiums/_symlink_format_manifest/'\n",
    "    \"\"\"\n",
    ").show()"
   ]
  },
  {
   "cell_type": "code",
   "execution_count": null,
   "id": "49a8e21f",
   "metadata": {},
   "outputs": [],
   "source": []
  }
 ],
 "metadata": {
  "kernelspec": {
   "display_name": "Python 3",
   "language": "python",
   "name": "python3"
  },
  "language_info": {
   "codemirror_mode": {
    "name": "ipython",
    "version": 3
   },
   "file_extension": ".py",
   "mimetype": "text/x-python",
   "name": "python",
   "nbconvert_exporter": "python",
   "pygments_lexer": "ipython3",
   "version": "3.9.4"
  }
 },
 "nbformat": 4,
 "nbformat_minor": 5
}
