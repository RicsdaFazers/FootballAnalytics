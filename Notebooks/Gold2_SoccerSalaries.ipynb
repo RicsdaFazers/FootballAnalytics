{
 "cells": [
  {
   "cell_type": "code",
   "execution_count": null,
   "id": "17193ec4",
   "metadata": {},
   "outputs": [],
   "source": [
    "from os import PathLike\n",
    "from hdfs import InsecureClient\n",
    "from pyspark.sql import SparkSession\n",
    "from pyspark.sql import Row\n",
    "from pyspark.sql.functions import *\n",
    "from delta import *\n",
    "from pyspark.sql.types import LongType, StringType, StructField, StructType, BooleanType, ArrayType, IntegerType\n",
    "from pyspark.sql import SparkSession\n",
    "from pyspark.sql import Row\n",
    "from delta import *"
   ]
  },
  {
   "cell_type": "code",
   "execution_count": null,
   "id": "19c85d3a",
   "metadata": {},
   "outputs": [],
   "source": [
    "# warehouse_location points to the default location for managed databases and tables\n",
    "warehouse_location = 'hdfs://hdfs-nn:9000/warehouse/project'\n",
    "\n",
    "builder = SparkSession \\\n",
    "    .builder \\\n",
    "    .appName(\"Python Spark SQL Hive integration example\") \\\n",
    "    .config(\"spark.sql.warehouse.dir\", warehouse_location) \\\n",
    "    .config(\"hive.metastore.uris\", \"thrift://hive-metastore:9083\") \\\n",
    "    .config(\"spark.sql.extensions\", \"io.delta.sql.DeltaSparkSessionExtension\") \\\n",
    "    .config(\"spark.sql.catalog.spark_catalog\", \"org.apache.spark.sql.delta.catalog.DeltaCatalog\") \\\n",
    "    .config(\"spark.jars.packages\", \"io.delta:delta-core_2.12:1.0.0\") \\\n",
    "    .enableHiveSupport() \\\n",
    "\n",
    "spark = spark = configure_spark_with_delta_pip(builder).getOrCreate()"
   ]
  },
  {
   "cell_type": "code",
   "execution_count": null,
   "id": "d28a7736",
   "metadata": {},
   "outputs": [],
   "source": [
    "spark.sql(\"\"\"\n",
    "    DROP TABLE gold_salaries.salaries_per_season\n",
    "\"\"\")"
   ]
  },
  {
   "cell_type": "code",
   "execution_count": null,
   "id": "615a4c33",
   "metadata": {},
   "outputs": [],
   "source": [
    "spark.sql(\"\"\"\n",
    " SHOW TABLES FROM gold_salaries \n",
    "\"\"\").show()"
   ]
  },
  {
   "cell_type": "code",
   "execution_count": null,
   "id": "e72f1a7a",
   "metadata": {},
   "outputs": [],
   "source": [
    "spark.sql(\"\"\"\n",
    "    DROP DATABASE gold_salaries\n",
    "\"\"\").show()"
   ]
  },
  {
   "cell_type": "code",
   "execution_count": null,
   "id": "0b3625b3",
   "metadata": {},
   "outputs": [],
   "source": [
    "# create gold database\n",
    "spark.sql(\"\"\"\n",
    "    CREATE DATABASE IF NOT EXISTS gold_salaries LOCATION 'hdfs://hdfs-nn:9000/warehouse/project/gold_salaries.db/'\n",
    "    \"\"\")\n",
    "\n",
    "spark.sql(\"\"\"\n",
    "    DROP TABLE IF EXISTS gold_salaries.salaries_per_season\n",
    "    \"\"\")\n",
    "\n",
    "spark.sql(\"\"\"\n",
    "    CREATE EXTERNAL TABLE gold_salaries.salaries_per_season (\n",
    "        Player CHAR(255),\n",
    "        Weekly_Salary INT,\n",
    "        Position CHAR(100),\n",
    "        Age INT,\n",
    "        Status CHAR(10),\n",
    "        Length INT,\n",
    "        Salary INT,\n",
    "        Club CHAR(100),\n",
    "        League CHAR(100),\n",
    "        Season CHAR(10)\n",
    "    )\n",
    "    USING DELTA \n",
    "    LOCATION 'hdfs://hdfs-nn:9000/warehouse/project/gold_salaries.db/salaries_per_season/'\n",
    "    \"\"\")"
   ]
  },
  {
   "cell_type": "code",
   "execution_count": 1,
   "id": "b863d3c4",
   "metadata": {
    "collapsed": true
   },
   "outputs": [
    {
     "ename": "NameError",
     "evalue": "name 'spark' is not defined",
     "output_type": "error",
     "traceback": [
      "\u001b[0;31m---------------------------------------------------------------------------\u001b[0m",
      "\u001b[0;31mNameError\u001b[0m                                 Traceback (most recent call last)",
      "\u001b[0;32m<ipython-input-1-19f4e413b459>\u001b[0m in \u001b[0;36m<module>\u001b[0;34m\u001b[0m\n\u001b[0;32m----> 1\u001b[0;31m \u001b[0msalaries\u001b[0m \u001b[0;34m=\u001b[0m \u001b[0mspark\u001b[0m\u001b[0;34m.\u001b[0m\u001b[0mtable\u001b[0m\u001b[0;34m(\u001b[0m\u001b[0;34m\"silver_salaries.deltalake_table\"\u001b[0m\u001b[0;34m)\u001b[0m\u001b[0;34m\u001b[0m\u001b[0;34m\u001b[0m\u001b[0m\n\u001b[0m\u001b[1;32m      2\u001b[0m \u001b[0msalaries\u001b[0m\u001b[0;34m.\u001b[0m\u001b[0mshow\u001b[0m\u001b[0;34m(\u001b[0m\u001b[0;34m)\u001b[0m\u001b[0;34m\u001b[0m\u001b[0;34m\u001b[0m\u001b[0m\n",
      "\u001b[0;31mNameError\u001b[0m: name 'spark' is not defined"
     ]
    }
   ],
   "source": [
    "salaries = spark.table(\"silver_salaries.deltalake_table\")\n",
    "salaries.show()"
   ]
  },
  {
   "cell_type": "code",
   "execution_count": null,
   "id": "5d56bd17",
   "metadata": {},
   "outputs": [],
   "source": [
    "salaries_18_19 = salaries.select('Player', 'Weekly_Salary', 'Position', 'Age', 'Status', '18_19_Salary',\n",
    "                                 'Club', 'League', 'Length')\n",
    "\n",
    "salaries_18_19 = salaries_18_19.withColumn(\"Season\", when(col(\"Length\")>=1, \"18/19\"))\n",
    "\n",
    "salaries_18_19 = salaries_18_19.withColumn('Salary', col('18_19_Salary'))\n",
    "\n",
    "salaries_18_19 = salaries_18_19.select('Player', 'Weekly_Salary', 'Position', 'Age', 'Status', 'Length', 'Salary', \n",
    "                                       'Club', 'League', 'Season')\n",
    "\n",
    "salaries_18_19.select('Season').distinct().show()"
   ]
  },
  {
   "cell_type": "code",
   "execution_count": null,
   "id": "c94cd74e",
   "metadata": {},
   "outputs": [],
   "source": [
    "salaries_19_20 = salaries.select('Player', 'Weekly_Salary', 'Position', 'Age', 'Status', '19_20_Salary','Club', 'League', 'Length')\n",
    "\n",
    "# write to gold format\n",
    "salaries_19_20 = salaries_19_20.withColumn(\"Season\", when(col(\"Length\")>=2, \"19/20\"))\n",
    "\n",
    "salaries_19_20 = salaries_19_20.withColumn('Salary', col('19_20_Salary'))\n",
    "\n",
    "salaries_19_20 = salaries_19_20.select('Player', 'Weekly_Salary', 'Position', 'Age', 'Status', 'Length', 'Salary', 'Club', 'League', 'Season')\n",
    "\n",
    "salaries_df = salaries_18_19.union(salaries_19_20)\n",
    "\n",
    "salaries_df.select('Season').distinct().show()"
   ]
  },
  {
   "cell_type": "code",
   "execution_count": null,
   "id": "50b9cf47",
   "metadata": {},
   "outputs": [],
   "source": [
    "salaries_20_21 = salaries.select('Player', 'Weekly_Salary', 'Position', 'Age', 'Status', '20_21_Salary','Club', 'League', 'Length')\n",
    "\n",
    "# write to gold format\n",
    "salaries_20_21 = salaries_20_21.withColumn(\"Season\", when(col(\"Length\")>=3, \"20/21\"))\n",
    "\n",
    "salaries_20_21 = salaries_20_21.withColumn('Salary', col('20_21_Salary'))\n",
    "\n",
    "salaries_20_21 = salaries_20_21.select('Player', 'Weekly_Salary', 'Position', 'Age', 'Status', 'Length', 'Salary', 'Club', 'League', 'Season')\n",
    "\n",
    "salaries_df = salaries_df.union(salaries_20_21)\n",
    "\n",
    "salaries_df.select('Season').distinct().show()"
   ]
  },
  {
   "cell_type": "code",
   "execution_count": null,
   "id": "c8e0f6b7",
   "metadata": {},
   "outputs": [],
   "source": [
    "salaries_21_22 = salaries.select('Player', 'Weekly_Salary', 'Position', 'Age', 'Status', '21_22_Salary','Club', 'League', 'Length')\n",
    "\n",
    "# write to gold format\n",
    "salaries_21_22 = salaries_21_22.withColumn(\"Season\", when(col(\"Length\")>=4, \"21/22\"))\n",
    "\n",
    "salaries_21_22 = salaries_21_22.withColumn('Salary', col('21_22_Salary'))\n",
    "\n",
    "salaries_21_22 = salaries_21_22.select('Player', 'Weekly_Salary', 'Position', 'Age', 'Status', 'Length', 'Salary', 'Club', 'League', 'Season')\n",
    "\n",
    "salaries_df = salaries_df.union(salaries_21_22)\n",
    "\n",
    "salaries_df.select('Season').distinct().show()"
   ]
  },
  {
   "cell_type": "code",
   "execution_count": null,
   "id": "dc2c7034",
   "metadata": {},
   "outputs": [],
   "source": [
    "salaries_22_23 = salaries.select('Player', 'Weekly_Salary', 'Position', 'Age', 'Status', '22_23_Salary','Club', 'League', 'Length')\n",
    "\n",
    "# write to gold format\n",
    "salaries_22_23 = salaries_22_23.withColumn(\"Season\", when(col(\"Length\")>=5, \"22/23\"))\n",
    "\n",
    "salaries_22_23 = salaries_22_23.withColumn('Salary', col('22_23_Salary'))\n",
    "\n",
    "salaries_22_23 = salaries_22_23.select('Player', 'Weekly_Salary', 'Position', 'Age', 'Status', 'Length', 'Salary', 'Club', 'League', 'Season')\n",
    "\n",
    "salaries_df = salaries_df.union(salaries_22_23)\n",
    "\n",
    "salaries_df.select('Season').distinct().show()"
   ]
  },
  {
   "cell_type": "code",
   "execution_count": null,
   "id": "4cc3e5b9",
   "metadata": {},
   "outputs": [],
   "source": [
    "salaries_23_24 = salaries.select('Player', 'Weekly_Salary', 'Position', 'Age', 'Status', '23_24_Salary','Club', 'League', 'Length')\n",
    "\n",
    "# write to gold format\n",
    "salaries_23_24 = salaries_23_24.withColumn(\"Season\", when(col(\"Length\")>=6, \"23/24\"))\n",
    "\n",
    "salaries_23_24 = salaries_23_24.withColumn('Salary', col('23_24_Salary'))\n",
    "\n",
    "salaries_23_24 = salaries_23_24.select('Player', 'Weekly_Salary', 'Position', 'Age', 'Status', 'Length', 'Salary', 'Club', 'League', 'Season')\n",
    "\n",
    "salaries_df = salaries_df.union(salaries_23_24)\n",
    "\n",
    "salaries_df.select('Season').distinct().show()"
   ]
  },
  {
   "cell_type": "code",
   "execution_count": null,
   "id": "8512bb8b",
   "metadata": {},
   "outputs": [],
   "source": [
    "salaries_24_25 = salaries.select('Player', 'Weekly_Salary', 'Position', 'Age', 'Status', '24_25_Salary','Club', 'League', 'Length')\n",
    "\n",
    "# write to gold format\n",
    "salaries_24_25 = salaries_24_25.withColumn(\"Season\", when(col(\"Length\")>=7, \"24/25\"))\n",
    "\n",
    "salaries_24_25 = salaries_24_25.withColumn('Salary', col('24_25_Salary'))\n",
    "\n",
    "salaries_24_25 = salaries_24_25.select('Player', 'Weekly_Salary', 'Position', 'Age', 'Status', 'Length', 'Salary', 'Club', 'League', 'Season')\n",
    "\n",
    "salaries_df = salaries_df.union(salaries_24_25)\n",
    "\n",
    "salaries_df.select('Season').distinct().show()"
   ]
  },
  {
   "cell_type": "code",
   "execution_count": null,
   "id": "6aed3078",
   "metadata": {},
   "outputs": [],
   "source": [
    "salaries_df = salaries_df.filter(\"Season is NOT NULL\")"
   ]
  },
  {
   "cell_type": "code",
   "execution_count": null,
   "id": "3d906791",
   "metadata": {},
   "outputs": [],
   "source": [
    "salaries_df.createOrReplaceTempView(\"salaries\")"
   ]
  },
  {
   "cell_type": "code",
   "execution_count": null,
   "id": "24263ccb",
   "metadata": {},
   "outputs": [],
   "source": [
    "spark.sql(\"\"\"INSERT INTO gold_salaries.salaries_per_season\n",
    "    SELECT * FROM salaries\"\"\")"
   ]
  },
  {
   "cell_type": "code",
   "execution_count": null,
   "id": "01f83bb5",
   "metadata": {
    "scrolled": true
   },
   "outputs": [],
   "source": [
    "spark.sql(\"\"\"SELECT DISTINCT Season FROM gold_salaries.salaries_per_season\"\"\").show()"
   ]
  },
  {
   "cell_type": "markdown",
   "id": "eb15c503",
   "metadata": {},
   "source": [
    "# O AUMENTO DOS SALÁRIOS É IGUAL EM TODAS AS LIGAS?\n",
    "# O AUMENTO DOS SALÁRIOS É IGUAL EM TODAS AS POSIÇÕES?\n",
    "# O AUMENTO DOS SALÁRIOS É SEMELHANTE AO AUMENTO DOS SALÁRIOS SEMANAIS?"
   ]
  },
  {
   "cell_type": "code",
   "execution_count": null,
   "id": "75c01d16",
   "metadata": {},
   "outputs": [],
   "source": [
    "spark.sql(\n",
    "    \"\"\"\n",
    "    DROP TABLE IF EXISTS gold_salaries.salaries_league\n",
    "    \"\"\"\n",
    ")"
   ]
  },
  {
   "cell_type": "code",
   "execution_count": null,
   "id": "5b718ec6",
   "metadata": {},
   "outputs": [],
   "source": [
    "# create salary_league table in gold\n",
    "spark.sql(\n",
    "    \"\"\"\n",
    "    DROP TABLE IF EXISTS gold_salaries.salaries_league_position\n",
    "    \"\"\"\n",
    ")\n",
    "\n",
    "spark.sql(\n",
    "    \"\"\"\n",
    "    CREATE EXTERNAL TABLE gold_salaries.salaries_league_position (\n",
    "        League CHAR(100),\n",
    "        Season CHAR(10),\n",
    "        Salary INT,\n",
    "        Weekly_Salary INT,\n",
    "        Position CHAR(100)\n",
    "    )\n",
    "    \n",
    "    USING DELTA\n",
    "    \n",
    "    LOCATION 'hdfs://hdfs-nn:9000/warehouse/project/gold_salaries.db/salaries_league_position/'\n",
    "    \"\"\"\n",
    ")"
   ]
  },
  {
   "cell_type": "code",
   "execution_count": null,
   "id": "ec4ecb9b",
   "metadata": {},
   "outputs": [],
   "source": [
    "spark.sql (\n",
    "    \"\"\"\n",
    "    INSERT INTO gold_salaries.salaries_league_position\n",
    "    SELECT League, Season, Salary, Weekly_Salary, Position\n",
    "    FROM gold_salaries.salaries_per_season\n",
    "    ORDER BY League, Season\n",
    "    \"\"\"\n",
    ")"
   ]
  },
  {
   "cell_type": "code",
   "execution_count": null,
   "id": "3252b0d3",
   "metadata": {
    "scrolled": false
   },
   "outputs": [],
   "source": [
    "spark.sql (\n",
    "    \"\"\"\n",
    "     SELECT DISTINCT League, Season, Position FROM gold_salaries.salaries_league_position\n",
    "    \"\"\"\n",
    ").show()"
   ]
  }
 ],
 "metadata": {
  "kernelspec": {
   "display_name": "Python 3",
   "language": "python",
   "name": "python3"
  },
  "language_info": {
   "codemirror_mode": {
    "name": "ipython",
    "version": 3
   },
   "file_extension": ".py",
   "mimetype": "text/x-python",
   "name": "python",
   "nbconvert_exporter": "python",
   "pygments_lexer": "ipython3",
   "version": "3.9.4"
  }
 },
 "nbformat": 4,
 "nbformat_minor": 5
}
