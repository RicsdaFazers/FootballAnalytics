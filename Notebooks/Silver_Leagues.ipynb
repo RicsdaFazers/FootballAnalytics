{
 "cells": [
  {
   "cell_type": "code",
   "execution_count": 3,
   "id": "1296ee7d",
   "metadata": {},
   "outputs": [],
   "source": [
    "from os import PathLike\n",
    "from hdfs import InsecureClient\n",
    "from pyspark.sql import SparkSession\n",
    "from pyspark.sql import Row\n",
    "from pyspark.sql.functions import *\n",
    "from delta import *\n",
    "from pyspark.sql.types import LongType, StringType, StructField, StructType, BooleanType, ArrayType, IntegerType, FloatType"
   ]
  },
  {
   "cell_type": "code",
   "execution_count": 4,
   "id": "f2e88b83",
   "metadata": {},
   "outputs": [],
   "source": [
    "#Configuração do Spark\n",
    "warehouse_location = 'hdfs://hdfs-nn:9000/demo/silver'\n",
    "builder = SparkSession \\\n",
    "    .builder \\\n",
    "    .appName(\"Python Spark\") \\\n",
    "    .config(\"spark.sql.warehouse.dir\", warehouse_location) \\\n",
    "    .config(\"hive.metastore.uris\", \"thrift://hive-metastore:9083\") \\\n",
    "    .config(\"spark.sql.extensions\", \"io.delta.sql.DeltaSparkSessionExtension\") \\\n",
    "    .config(\"spark.sql.catalog.spark_catalog\", \"org.apache.spark.sql.delta.catalog.DeltaCatalog\") \\\n",
    "    .config(\"spark.jars.packages\", \"io.delta:delta-core_2.12:1.0.0\") \\\n",
    "    .enableHiveSupport() \\\n",
    "\n",
    "spark = spark = configure_spark_with_delta_pip(builder).getOrCreate()"
   ]
  },
  {
   "cell_type": "code",
   "execution_count": 5,
   "id": "6cea9c87",
   "metadata": {},
   "outputs": [
    {
     "data": {
      "text/plain": [
       "DataFrame[]"
      ]
     },
     "execution_count": 5,
     "metadata": {},
     "output_type": "execute_result"
    }
   ],
   "source": [
    "#DROP DATABASE\n",
    "\n",
    "spark.sql(\n",
    "    \"\"\"\n",
    "    DROP DATABASE IF EXISTS league_stats CASCADE\n",
    "    \"\"\"\n",
    ")"
   ]
  },
  {
   "cell_type": "code",
   "execution_count": 6,
   "id": "15792c12",
   "metadata": {},
   "outputs": [
    {
     "data": {
      "text/plain": [
       "DataFrame[]"
      ]
     },
     "execution_count": 6,
     "metadata": {},
     "output_type": "execute_result"
    }
   ],
   "source": [
    "#CRIAR league_stats.db\n",
    "\n",
    "spark.sql(\n",
    "    \"\"\"\n",
    "    CREATE DATABASE league_stats LOCATION 'hdfs://hdfs-nn:9000/demo/silver/league_stats.db/'\n",
    "    \"\"\"\n",
    ")\n",
    "\n",
    "#(drop da deltalake table league_stats)\n",
    "\n",
    "spark.sql(\n",
    "    \"\"\"\n",
    "    DROP TABLE IF EXISTS league_stats.deltalake_table\n",
    "    \"\"\"\n",
    ")\n",
    "\n",
    "#CRIAR A DELTALAKE TABLE\n",
    "\n",
    "spark.sql(\n",
    "    \"\"\"\n",
    "    CREATE EXTERNAL TABLE league_stats.deltalake_table (\n",
    "        HomeTeam STRING,\n",
    "        AwayTeam STRING,\n",
    "        FTR STRING,\n",
    "        Date STRING,\n",
    "        FTHG INT,\n",
    "        FTAG INT,\n",
    "        HS INT,\n",
    "        AS INT,\n",
    "        HST INT,\n",
    "        AST INT,\n",
    "        HC INT,\n",
    "        AC INT\n",
    "    )\n",
    "    USING DELTA\n",
    "    PARTITIONED BY (\n",
    "         Div STRING\n",
    "    )\n",
    "    LOCATION 'hdfs://hdfs-nn:9000/demo/silver/league_stats.db/deltalake_table/'\n",
    "    \"\"\"\n",
    ")"
   ]
  },
  {
   "cell_type": "code",
   "execution_count": 8,
   "id": "ae5912ba",
   "metadata": {},
   "outputs": [
    {
     "name": "stdout",
     "output_type": "stream",
     "text": [
      "+---+--------+--------------+-----------+----+----+---+----+----+---+----------+---+---+---+---+---+---+---+---+---+---+---+----+-----+-----+-----+----+----+----+----+----+----+----+----+----+----+----+-----+----+----+----+-----+-----+-----+-----+-----+-----+-----+----+--------+--------+--------+--------+----+-----+-------+-------+-------+-------+----+-----+-----+\n",
      "|Div|    Date|      HomeTeam|   AwayTeam|FTHG|FTAG|FTR|HTHG|HTAG|HTR|   Referee| HS| AS|HST|AST| HF| AF| HC| AC| HY| AY| HR|  AR|B365H|B365D|B365A| BWH| BWD| BWA| IWH| IWD| IWA| PSH| PSD| PSA| WHH| WHD|  WHA| VCH| VCD| VCA|Bb1X2|BbMxH|BbAvH|BbMxD|BbAvD|BbMxA|BbAvA|BbOU|BbMx>2.5|BbAv>2.5|BbMx<2.5|BbAv<2.5|BbAH|BbAHh|BbMxAHH|BbAvAHH|BbMxAHA|BbAvAHA|PSCH| PSCD| PSCA|\n",
      "+---+--------+--------------+-----------+----+----+---+----+----+---+----------+---+---+---+---+---+---+---+---+---+---+---+----+-----+-----+-----+----+----+----+----+----+----+----+----+----+----+----+-----+----+----+----+-----+-----+-----+-----+-----+-----+-----+----+--------+--------+--------+--------+----+-----+-------+-------+-------+-------+----+-----+-----+\n",
      "| D1|09/11/14|      Dortmund| M'gladbach|   1|   0|  H|   0|   0|  D|        22|  1|  6|  0|  7| 11|  7|  0|  3|  2|  0|  0|null| 4.33|  5.0| 1.65|3.75| 5.0|1.65| 3.7| 4.9|1.57| 4.0| 5.5|1.61|4.44|5.75| 1.62|3.75| 5.5|null| null| null| 1.62|  4.3|  5.4| 42.0|  1.7|null|    4.45|    4.19|     5.8|     5.3|  34| 1.61|   1.55|   2.55|    2.4|   26.0|-1.0| 2.07| 2.01|\n",
      "| D1|11/04/15|     Paderborn|   Augsburg|   2|   1|  H|   0|   0|  D|        14| 16|  4|  5| 14| 21|  6|  7|  1|  2|  0|  0|null|  3.4|  2.3| 2.95| 3.3|2.35| 2.9| 3.3| 2.3| 3.1| 3.3|2.38|3.38|3.39|2.34|  3.2| 3.1|2.38|null| null| null| 3.25|  3.4| 2.38| 49.0| 3.38|null|     3.5|     3.3|     2.4|    2.31|  47|  2.1|   1.99|   1.91|    1.8|   29.0|0.25| 1.94| 1.87|\n",
      "| I1|29/11/14|      Sassuolo|     Verona|   2|   1|  H|   0|   1|  A|        17| 11|  4|  1| 18| 18|  9|  5|  4|  3|  0|  0|   2|  3.5|  3.6|  2.1| 3.2| 3.6| 2.1| 3.2| 3.4| 2.1| 3.4| 3.5|2.08|3.54| 3.9|  2.1| 3.2| 3.6|null| null| null|  2.1|  3.4|  3.8| 47.0| 2.15|null|     3.6|    3.41|     3.9|    3.64|  46| 1.95|   1.84|   2.02|   1.95|   26.0|-0.5|  2.1| 2.04|\n",
      "| E0|16/08/14|           QPR|       Hull|   0|   1|  A|   0|   0|  D|  C Pawson| 19| 11|  6|  4| 10| 10|  8|  9|  1|  2|  0|   0|  2.5|  3.3|  3.1| 2.5| 3.1|2.85| 2.3| 3.3| 2.9| 2.4|3.25| 3.1|2.48|3.26| 3.22| 2.6| 3.0| 2.9| null| 3.25| 2.88| 2.55|  3.2| 3.12| 50.0|null|    2.47|     3.4|    3.18|     3.2|null| 46.0|   2.52|   2.36|   1.65|   1.58|24.0|  0.0|  1.8|\n",
      "| E0|27/09/14|Crystal Palace|  Leicester|   2|   0|  H|   0|   0|  D|  K Stroud| 16|  7|  6|  1| 14|  9|  6|  6|  0|  2|  0|   0| 2.63|  3.4| 2.88|2.65| 3.1| 2.7| 2.5| 3.2|2.75| 2.5| 3.4|2.87|2.64|3.37|  2.9| 2.7| 3.1| 2.7| null| null| null|  2.6|  3.4|  2.9| 47.0|null|     2.6|     3.4|    3.27|    2.94|null| 45.0|   2.14|   2.03|   1.85|   1.77|28.0|  0.0| 1.92|\n",
      "| E0|05/10/14|       Chelsea|    Arsenal|   2|   0|  H|   1|   0|  H|M Atkinson|  5| 10|  3|  0| 14| 10|  2|  2|  4|  3|  0|   0| 1.67|  4.2| 5.25|1.72|3.75|5.25|1.67| 3.6| 5.0|1.66| 4.0| 5.0|1.67| 4.1| 5.64|1.67| 3.6| 5.5| null| null| null| 1.67|  4.1|  5.5| 44.0|null|    1.66|     4.2|    3.83|     6.0|null| 41.0|   1.83|   1.75|   2.15|   2.06|25.0| -1.0| 2.22|\n",
      "| E0|29/11/14|     Liverpool|      Stoke|   1|   0|  H|   0|   0|  D|  C Pawson| 16| 13|  3|  4| 11|  9|  5|  5|  0|  3|  0|   0| 1.73|  4.0|  5.0|1.75| 4.0|4.75| 1.7| 3.6| 4.7|1.66| 4.0| 5.0|1.74|3.91| 5.31|1.73| 3.5| 5.0| null| null| null|  1.7|  3.9|  5.5| 44.0|null|    1.69|     4.0|    3.77|     5.5|null| 45.0|   1.96|   1.86|    2.0|   1.94|26.0|-0.75| 1.97|\n",
      "| D1|02/10/15|     Darmstadt|      Mainz|   2|   3|  A|   1|   2|  A|        14| 14|  4|  7| 12| 20|  2|  6|  1|  2|  0|  0|null| 3.25|  2.4|  3.0| 3.1|2.45| 2.6| 3.2| 2.6| 3.0|3.25| 2.3|3.21|3.39|2.42|  2.9|3.25|2.45| 3.1| null| 2.38| 42.0| 3.21| 3.05|  3.4| 3.24|null|     2.4|    36.0|    2.25|    2.13|null|  1.7|   24.0|   0.25|   1.88|   1.83|2.09| 2.04| 3.14|\n",
      "| D1|21/11/15|     Stuttgart|   Augsburg|   0|   4|  A|   0|   3|  A|        18| 13|  5|  6|  8| 16|  6|  4|  2|  1|  0|  0|null|  3.8|  3.6| 1.95| 3.5|3.75| 2.0| 3.3| 3.6|1.91| 3.8| 3.6|1.96|3.95|3.89| 1.95| 3.5| 3.8|1.93|    4|  3.7| 43.0| 2.01| 1.93|  4.0| 3.74|   4|    3.74|    31.0|    1.58|    1.52|null| 2.47|   25.0|   -0.5|   1.97|   1.92|1.98| 1.94| 2.08|\n",
      "| I1|16/04/16|       Bologna|     Torino|   0|   1|  A|   0|   0|  D|         8|  6|  1|  3| 14| 16|  4|  3|  4|  1|  0|  0|null|  3.1|  2.7| 2.75|2.95|2.75|2.75| 3.0|2.65| 2.8| 3.0| 2.7|2.98|3.09|2.77|  2.8| 2.9| 2.8| 2.9|    3| 2.75| 48.0| 2.98| 2.83| 3.15| 3.03|null|    2.69|    40.0|    2.47|    2.34|null| 1.58|   28.0|    0.0|   2.03|   1.97|1.93| 1.87| 3.06|\n",
      "| I1|30/04/16|        Chievo| Fiorentina|   0|   0|  D|   0|   0|  D|         9| 21|  4|  5| 20| 13|  2|  6|  4|  4|  0|  0|null|  3.3| 2.05| 3.75| 3.4|2.05| 3.1| 3.3| 2.2| 3.6| 3.4|2.05| 3.9|3.59|2.06| 3.75| 3.3| 2.0| 4.1| null| 2.05| 46.0| 4.33| 3.75| 3.59| 3.39|null|    2.03|    40.0|    2.07|    1.99|null|  1.8|   28.0|    0.5|   1.88|   1.84|2.06| 2.03|  4.4|\n",
      "| I1|01/05/16|         Lazio|      Inter|   2|   0|  H|   1|   0|  H|         9| 15|  4|  4| 17| 11|  1|  5|  5|  0|  0|  1|null|  3.3|  2.9|  2.5| 3.3| 2.9| 2.5| 3.3|2.65| 2.4| 3.3| 2.9|2.54|3.37|3.03| 2.62|3.25|2.62| 2.5| null|  3.0| 46.0| 2.62| 2.46|  3.4|  3.3|null|    2.87|    40.0|    1.92|    1.86|   2| 1.93|   27.0|    0.0|   1.87|   1.78|2.16| 2.08| 2.21|\n",
      "| E0|30/08/15|       Swansea| Man United|   2|   1|  H|   0|   0|  D|M Atkinson|  9| 11|  4|  4|  6| 15|  0|  1|  2|  2|  0|   0|  3.6|  3.3| 2.25| 3.2| 3.2|2.25| 3.2| 3.2| 2.2| 3.4| 3.3|2.25|3.55|3.45| 2.23| 3.5| 3.0|2.25| null|  3.4|  2.2| 40.0|  3.7| 3.42|  3.5|null|    2.27|    2.19|    38.0|     2.2|null| 1.83|   1.74|   25.0|   0.25|   2.03|1.98| 1.93| 1.88|\n",
      "| E0|25/02/17|       Everton| Sunderland|   2|   0|  H|   1|   0|  H| S Attwell| 20| 10|  8|  1| 10| 16| 10|  6|  0|  2|  0|   0|  1.4| 5.25|  8.5| 1.4| 4.6| 8.5|1.45| 4.4| 7.2| 1.4|4.75| 7.5|1.43|5.18| 7.91| 1.4| 4.8| 8.5| null| 5.25|  8.5| 47.0| 1.45|  1.4| 5.25|null|    8.92|    7.87|    42.0|    1.68|null| 2.34|   2.27|   23.0|  -1.25|   1.91|1.86| 2.05|  2.0|\n",
      "| E0|04/03/17|    Man United|Bournemouth|   1|   1|  D|   1|   1|  D|  K Friend| 20|  3|  7|  1|  9| 11| 15|  2|  3|  2|  0|   1| 1.25|  6.5| 15.0|1.25| 6.0|12.0| 1.2| 6.5|15.0|1.25| 6.0|12.0|1.27|6.55|12.75|1.25| 6.0|13.0| null|  6.0| 13.0| 47.0| 1.28| 1.25| 6.55|null|   17.35|   12.85|    43.0|    1.63|null|  2.5|    2.4|   22.0|  -1.75|   1.98|1.93| 1.99| 1.93|\n",
      "| I1|26/11/17|       Udinese|     Napoli|   0|   1|  A|   0|   1|  A|        10|  9|  2|  4| 14|  7|  3|  7|  5|  1|  0|  0|null|  5.5| 1.36| 8.75|5.25|1.34| 7.5| 4.8| 1.4| 8.0| 4.8|1.36|9.08|5.51|1.37|  7.5| 4.5| 1.4| 8.0| null| 1.36| 36.0| 9.08| 7.94| 5.51| 5.07|null|    1.37|    31.0|    1.57|    1.51|null| 2.48|   18.0|   1.25|   2.11|   2.07|1.85| 1.81|10.69|\n",
      "| I1|23/04/18|         Genoa|     Verona|   3|   1|  H|   1|   0|  H|        18| 13|  8|  3| 13| 10|  8|  2|  2|  3|  0|  0|null|  4.2|  8.5| 1.45|4.25|7.75|1.45| 4.5| 7.0|1.44| 4.0| 7.5|1.48|4.34|8.48| 1.44| 4.2| 8.0|1.44| null|  9.0| 40.0| 1.51| 1.47| 4.53| 4.21|   9|    7.47|    38.0|    2.07|    1.99|null| 1.81|   21.0|   -1.0|   1.85|    1.8|2.13| 2.06| 1.42|\n",
      "| I1|29/04/18|        Torino|      Lazio|   0|   1|  A|   0|   0|  D|         8| 16|  2|  6| 13| 14|  3|  6|  2|  3|  0|  0|null|  4.0| 1.64| 4.75| 3.9|1.72| 4.5| 3.8|1.75| 4.6| 3.9|1.66|4.99| 4.2| 1.7| 4.75| 4.0|1.67|5.25|    4| 1.67| 43.0| 5.25| 4.75| 4.24| 4.01|null|    1.69|    39.0|    1.66|    1.61|null|  2.3|   20.0|   0.75|   2.03|   1.98|1.91| 1.87| 5.31|\n",
      "| E0|16/09/17|     Newcastle|      Stoke|   2|   1|  H|   1|   0|  H| S Attwell| 14| 13|  3|  4| 13| 11|  7|  5|  3|  1|  0|   0| 2.38| 3.25|  3.4|2.35|3.25| 3.2| 2.3| 3.3|3.15| 2.3| 3.1| 3.2|2.37|3.23| 3.46| 2.3| 3.1| 3.3| null| 3.25|  3.4| 36.0| 2.43| 2.34|  3.3|null|     3.5|    3.28|    35.0|    2.26|null| 1.75|   1.69|   16.0|  -0.25|   2.04|1.99| 1.92| 1.88|\n",
      "| E0|23/04/18|       Everton|  Newcastle|   1|   0|  H|   0|   0|  D|  R Madley|  9|  9|  1|  2| 10| 11|  4|  6|  2|  1|  0|   0| 2.29| 3.39| 3.39|2.25| 3.2| 3.4| 2.4| 3.2|3.05|2.25| 3.1| 3.3|2.31|3.35| 3.46| 2.3| 3.2| 3.2| null| 3.25|  3.5| 40.0|  2.4| 2.29|  3.4|null|     3.6|    3.32|    38.0|     2.3|null|  1.7|   1.65|   19.0|  -0.25|   2.01|1.94| 1.97| 1.91|\n",
      "+---+--------+--------------+-----------+----+----+---+----+----+---+----------+---+---+---+---+---+---+---+---+---+---+---+----+-----+-----+-----+----+----+----+----+----+----+----+----+----+----+----+-----+----+----+----+-----+-----+-----+-----+-----+-----+-----+----+--------+--------+--------+--------+----+-----+-------+-------+-------+-------+----+-----+-----+\n",
      "only showing top 20 rows\n",
      "\n",
      "root\n",
      " |-- Div: string (nullable = true)\n",
      " |-- Date: string (nullable = true)\n",
      " |-- HomeTeam: string (nullable = true)\n",
      " |-- AwayTeam: string (nullable = true)\n",
      " |-- FTHG: integer (nullable = true)\n",
      " |-- FTAG: integer (nullable = true)\n",
      " |-- FTR: string (nullable = true)\n",
      " |-- HTHG: integer (nullable = true)\n",
      " |-- HTAG: integer (nullable = true)\n",
      " |-- HTR: string (nullable = true)\n",
      " |-- Referee: string (nullable = true)\n",
      " |-- HS: integer (nullable = true)\n",
      " |-- AS: integer (nullable = true)\n",
      " |-- HST: integer (nullable = true)\n",
      " |-- AST: integer (nullable = true)\n",
      " |-- HF: integer (nullable = true)\n",
      " |-- AF: integer (nullable = true)\n",
      " |-- HC: integer (nullable = true)\n",
      " |-- AC: integer (nullable = true)\n",
      " |-- HY: integer (nullable = true)\n",
      " |-- AY: integer (nullable = true)\n",
      " |-- HR: integer (nullable = true)\n",
      " |-- AR: integer (nullable = true)\n",
      " |-- B365H: float (nullable = true)\n",
      " |-- B365D: float (nullable = true)\n",
      " |-- B365A: float (nullable = true)\n",
      " |-- BWH: float (nullable = true)\n",
      " |-- BWD: float (nullable = true)\n",
      " |-- BWA: float (nullable = true)\n",
      " |-- IWH: float (nullable = true)\n",
      " |-- IWD: float (nullable = true)\n",
      " |-- IWA: float (nullable = true)\n",
      " |-- PSH: float (nullable = true)\n",
      " |-- PSD: float (nullable = true)\n",
      " |-- PSA: float (nullable = true)\n",
      " |-- WHH: float (nullable = true)\n",
      " |-- WHD: float (nullable = true)\n",
      " |-- WHA: float (nullable = true)\n",
      " |-- VCH: float (nullable = true)\n",
      " |-- VCD: float (nullable = true)\n",
      " |-- VCA: float (nullable = true)\n",
      " |-- Bb1X2: integer (nullable = true)\n",
      " |-- BbMxH: float (nullable = true)\n",
      " |-- BbAvH: float (nullable = true)\n",
      " |-- BbMxD: float (nullable = true)\n",
      " |-- BbAvD: float (nullable = true)\n",
      " |-- BbMxA: float (nullable = true)\n",
      " |-- BbAvA: float (nullable = true)\n",
      " |-- BbOU: integer (nullable = true)\n",
      " |-- BbMx>2.5: float (nullable = true)\n",
      " |-- BbAv>2.5: float (nullable = true)\n",
      " |-- BbMx<2.5: float (nullable = true)\n",
      " |-- BbAv<2.5: float (nullable = true)\n",
      " |-- BbAH: integer (nullable = true)\n",
      " |-- BbAHh: float (nullable = true)\n",
      " |-- BbMxAHH: float (nullable = true)\n",
      " |-- BbAvAHH: float (nullable = true)\n",
      " |-- BbMxAHA: float (nullable = true)\n",
      " |-- BbAvAHA: float (nullable = true)\n",
      " |-- PSCH: float (nullable = true)\n",
      " |-- PSCD: float (nullable = true)\n",
      " |-- PSCA: float (nullable = true)\n",
      "\n"
     ]
    }
   ],
   "source": [
    "#LER O FICHEIRO .CSV NO HDFS E COLOCAR NUM DATAFRAME\n",
    "\n",
    "hdfs_path = \"hdfs://hdfs-nn:9000/demo/bronze/league_stats.csv\"\n",
    "\n",
    "\n",
    "#DEFINIR O ESQUEMA DO DATAFRAME\n",
    "\n",
    "customSchema = StructType([\n",
    "    StructField(\"Div\", StringType(), True),\n",
    "    StructField(\"Date\", StringType(), True),\n",
    "    StructField(\"HomeTeam\", StringType(), True),        \n",
    "    StructField(\"AwayTeam\", StringType(), True),\n",
    "    StructField(\"FTHG\", IntegerType(), True),\n",
    "    StructField(\"FTAG\", IntegerType(), True),\n",
    "    StructField(\"FTR\", StringType(), True),\n",
    "    StructField(\"HTHG\", IntegerType(), True),\n",
    "    StructField(\"HTAG\", IntegerType(), True),\n",
    "    StructField(\"HTR\", StringType(), True),\n",
    "    StructField(\"Referee\", StringType(), True),\n",
    "    StructField(\"HS\", IntegerType(), True),\n",
    "    StructField(\"AS\", IntegerType(), True),\n",
    "    StructField(\"HST\", IntegerType(), True),\n",
    "    StructField(\"AST\", IntegerType(), True),\n",
    "    StructField(\"HF\", IntegerType(), True),\n",
    "    StructField(\"AF\", IntegerType(), True),\n",
    "    StructField(\"HC\", IntegerType(), True),\n",
    "    StructField(\"AC\", IntegerType(), True),\n",
    "    StructField(\"HY\", IntegerType(), True),\n",
    "    StructField(\"AY\", IntegerType(), True),\n",
    "    StructField(\"HR\", IntegerType(), True),\n",
    "    StructField(\"AR\", IntegerType(), True),\n",
    "    StructField(\"B365H\", FloatType(), True),\n",
    "    StructField(\"B365D\", FloatType(), True),\n",
    "    StructField(\"B365A\", FloatType(), True),\n",
    "    StructField(\"BWH\", FloatType(), True),\n",
    "    StructField(\"BWD\", FloatType(), True),\n",
    "    StructField(\"BWA\", FloatType(), True),\n",
    "    StructField(\"IWH\", FloatType(), True),\n",
    "    StructField(\"IWD\", FloatType(), True),\n",
    "    StructField(\"IWA\", FloatType(), True),\n",
    "    StructField(\"PSH\", FloatType(), True),\n",
    "    StructField(\"PSD\", FloatType(), True),\n",
    "    StructField(\"PSA\", FloatType(), True),\n",
    "    StructField(\"WHH\", FloatType(), True),\n",
    "    StructField(\"WHD\", FloatType(), True),\n",
    "    StructField(\"WHA\", FloatType(), True),\n",
    "    StructField(\"VCH\", FloatType(), True),\n",
    "    StructField(\"VCD\", FloatType(), True),\n",
    "    StructField(\"VCA\", FloatType(), True),\n",
    "    StructField(\"Bb1X2\", IntegerType(), True),\n",
    "    StructField(\"BbMxH\", FloatType(), True),\n",
    "    StructField(\"BbAvH\", FloatType(), True),\n",
    "    StructField(\"BbMxD\", FloatType(), True),\n",
    "    StructField(\"BbAvD\", FloatType(), True),\n",
    "    StructField(\"BbMxA\", FloatType(), True),\n",
    "    StructField(\"BbAvA\", FloatType(), True),\n",
    "    StructField(\"BbOU\", IntegerType(), True),\n",
    "    StructField(\"BbMx>2.5\", FloatType(), True),\n",
    "    StructField(\"BbAv>2.5\", FloatType(), True),\n",
    "    StructField(\"BbMx<2.5\", FloatType(), True),\n",
    "    StructField(\"BbAv<2.5\", FloatType(), True),\n",
    "    StructField(\"BbAH\", IntegerType(), True),\n",
    "    StructField(\"BbAHh\", FloatType(), True),\n",
    "    StructField(\"BbMxAHH\", FloatType(), True),\n",
    "    StructField(\"BbAvAHH\", FloatType(), True),\n",
    "    StructField(\"BbMxAHA\", FloatType(), True),\n",
    "    StructField(\"BbAvAHA\", FloatType(), True),\n",
    "    StructField(\"PSCH\", FloatType(), True),\n",
    "    StructField(\"PSCD\", FloatType(), True),\n",
    "    StructField(\"PSCA\", FloatType(), True)\n",
    "])\n",
    "\n",
    "sales_df = spark \\\n",
    "           .read\\\n",
    "           .option(\"delimiter\",\",\")\\\n",
    "           .option(\"header\",\"true\")\\\n",
    "           .schema(customSchema) \\\n",
    "           .csv(hdfs_path) \\\n",
    "           .drop_duplicates()\n",
    "\n",
    "sales_df.show()\n",
    "sales_df.printSchema()"
   ]
  },
  {
   "cell_type": "code",
   "execution_count": 9,
   "id": "097b941b",
   "metadata": {
    "scrolled": true
   },
   "outputs": [],
   "source": [
    "#ESCREVER A TABELA ANTERIOR NO DELTALAKE\n",
    "\n",
    "sales_df \\\n",
    "          .select(\"HomeTeam\",\"AwayTeam\", \"FTR\", \"Date\", \"HS\", \"AS\", \"FTHG\", \"FTAG\", \"HST\", \"AST\", \"HC\", \"AC\", \"Div\") \\\n",
    "          .write \\\n",
    "          .mode(\"overwrite\") \\\n",
    "          .partitionBy(\"Div\") \\\n",
    "          .format(\"delta\") \\\n",
    "          .save(\"hdfs://hdfs-nn:9000/demo/silver/league_stats.db/deltalake_table/\")"
   ]
  },
  {
   "cell_type": "code",
   "execution_count": 10,
   "id": "cfbbe719",
   "metadata": {},
   "outputs": [
    {
     "name": "stdout",
     "output_type": "stream",
     "text": [
      "+--------------+-----------+---+--------+----+----+---+---+---+---+---+---+---+\n",
      "|      HomeTeam|   AwayTeam|FTR|    Date|FTHG|FTAG| HS| AS|HST|AST| HC| AC|Div|\n",
      "+--------------+-----------+---+--------+----+----+---+---+---+---+---+---+---+\n",
      "|     Liverpool|    Arsenal|  D|21/12/14|   2|   2| 27|  7| 10|  3| 10|  6| E0|\n",
      "|       Swansea|Aston Villa|  H|26/12/14|   1|   0|  7| 11|  2|  3|  4|  0| E0|\n",
      "|     Liverpool|  Leicester|  D|01/01/15|   2|   2| 18| 16|  6|  3|  4|  5| E0|\n",
      "|      West Ham|  Newcastle|  H|14/09/15|   2|   0| 17| 14|  3|  4|  6|  7| E0|\n",
      "|      Man City|  Newcastle|  H|03/10/15|   6|   1| 23|  6| 11|  4|  6|  3| E0|\n",
      "|    Sunderland|Southampton|  A|07/11/15|   0|   1|  9| 11|  3|  4| 10| 11| E0|\n",
      "|   Aston Villa|    Everton|  A|01/03/16|   1|   3| 14| 10|  5|  7|  9|  8| E0|\n",
      "|    Man United|    Watford|  H|02/03/16|   1|   0| 14| 13|  3|  3|  9|  7| E0|\n",
      "|       Norwich|   Man City|  D|12/03/16|   0|   0|  5| 15|  0|  3|  3|  8| E0|\n",
      "|      Man City|    Watford|  H|14/12/16|   2|   0| 13|  5|  7|  2|  5|  2| E0|\n",
      "|Crystal Palace|    Chelsea|  A|17/12/16|   0|   1|  6| 13|  2|  6|  5|  3| E0|\n",
      "|         Stoke|    Watford|  H|03/01/17|   2|   0| 17|  9|  5|  2|  7|  6| E0|\n",
      "|     Tottenham|    Burnley|  D|27/08/17|   1|   1| 28| 13|  5|  3| 10|  7| E0|\n",
      "|     West Brom|      Stoke|  D|27/08/17|   1|   1| 10| 16|  2|  2| 10|  4| E0|\n",
      "|Crystal Palace|Southampton|  A|16/09/17|   0|   1| 14| 13|  3|  4|  5|  5| E0|\n",
      "|     West Brom|   West Ham|  D|16/09/17|   0|   0|  6|  9|  1|  1|  2|  3| E0|\n",
      "|   Bournemouth|   West Ham|  D|26/12/17|   3|   3| 26| 10| 10|  5|  7|  4| E0|\n",
      "|     Liverpool|  Leicester|  D|30/01/19|   1|   1| 10|  5|  3|  2|  7|  1| E0|\n",
      "|     Tottenham|    Everton|  D|12/05/19|   2|   2| 11| 17|  3|  9|  7|  4| E0|\n",
      "|       Swansea|        QPR|  H|02/12/14|   2|   0| 18|  5|  7|  1|  9|  2| E0|\n",
      "+--------------+-----------+---+--------+----+----+---+---+---+---+---+---+---+\n",
      "only showing top 20 rows\n",
      "\n"
     ]
    }
   ],
   "source": [
    "#MOSTRAR A DELTALAKE TABLE\n",
    "\n",
    "spark.sql(\n",
    "    \"\"\"\n",
    "    SELECT *\n",
    "    FROM league_stats.deltalake_table\n",
    "    \"\"\"\n",
    ").show()"
   ]
  },
  {
   "cell_type": "code",
   "execution_count": 8,
   "id": "d8283ee2",
   "metadata": {},
   "outputs": [],
   "source": [
    "#TRANSFORMATIONS"
   ]
  },
  {
   "cell_type": "code",
   "execution_count": 11,
   "id": "a3d523fa",
   "metadata": {},
   "outputs": [
    {
     "name": "stdout",
     "output_type": "stream",
     "text": [
      "+--------------+-----------+---+--------+----+----+---+---+---+---+---+---+---+\n",
      "|      HomeTeam|   AwayTeam|FTR|    Date|FTHG|FTAG| HS| AS|HST|AST| HC| AC|Div|\n",
      "+--------------+-----------+---+--------+----+----+---+---+---+---+---+---+---+\n",
      "|     Liverpool|    Arsenal|  D|21/12/14|   2|   2| 27|  7| 10|  3| 10|  6| E0|\n",
      "|       Swansea|Aston Villa|  H|26/12/14|   1|   0|  7| 11|  2|  3|  4|  0| E0|\n",
      "|     Liverpool|  Leicester|  D|01/01/15|   2|   2| 18| 16|  6|  3|  4|  5| E0|\n",
      "|      West Ham|  Newcastle|  H|14/09/15|   2|   0| 17| 14|  3|  4|  6|  7| E0|\n",
      "|      Man City|  Newcastle|  H|03/10/15|   6|   1| 23|  6| 11|  4|  6|  3| E0|\n",
      "|    Sunderland|Southampton|  A|07/11/15|   0|   1|  9| 11|  3|  4| 10| 11| E0|\n",
      "|   Aston Villa|    Everton|  A|01/03/16|   1|   3| 14| 10|  5|  7|  9|  8| E0|\n",
      "|    Man United|    Watford|  H|02/03/16|   1|   0| 14| 13|  3|  3|  9|  7| E0|\n",
      "|       Norwich|   Man City|  D|12/03/16|   0|   0|  5| 15|  0|  3|  3|  8| E0|\n",
      "|      Man City|    Watford|  H|14/12/16|   2|   0| 13|  5|  7|  2|  5|  2| E0|\n",
      "|Crystal Palace|    Chelsea|  A|17/12/16|   0|   1|  6| 13|  2|  6|  5|  3| E0|\n",
      "|         Stoke|    Watford|  H|03/01/17|   2|   0| 17|  9|  5|  2|  7|  6| E0|\n",
      "|     Tottenham|    Burnley|  D|27/08/17|   1|   1| 28| 13|  5|  3| 10|  7| E0|\n",
      "|     West Brom|      Stoke|  D|27/08/17|   1|   1| 10| 16|  2|  2| 10|  4| E0|\n",
      "|Crystal Palace|Southampton|  A|16/09/17|   0|   1| 14| 13|  3|  4|  5|  5| E0|\n",
      "|     West Brom|   West Ham|  D|16/09/17|   0|   0|  6|  9|  1|  1|  2|  3| E0|\n",
      "|   Bournemouth|   West Ham|  D|26/12/17|   3|   3| 26| 10| 10|  5|  7|  4| E0|\n",
      "|     Liverpool|  Leicester|  D|30/01/19|   1|   1| 10|  5|  3|  2|  7|  1| E0|\n",
      "|     Tottenham|    Everton|  D|12/05/19|   2|   2| 11| 17|  3|  9|  7|  4| E0|\n",
      "|       Swansea|        QPR|  H|02/12/14|   2|   0| 18|  5|  7|  1|  9|  2| E0|\n",
      "+--------------+-----------+---+--------+----+----+---+---+---+---+---+---+---+\n",
      "only showing top 20 rows\n",
      "\n"
     ]
    }
   ],
   "source": [
    "#MOSTRAR A DELTALAKE TABLE\n",
    "\n",
    "spark.sql(\n",
    "    \"\"\"\n",
    "    SELECT *\n",
    "    FROM league_stats.deltalake_table\n",
    "    \"\"\"\n",
    ").show()"
   ]
  },
  {
   "cell_type": "code",
   "execution_count": 10,
   "id": "db280dcd",
   "metadata": {},
   "outputs": [
    {
     "data": {
      "text/plain": [
       "DataFrame[]"
      ]
     },
     "execution_count": 10,
     "metadata": {},
     "output_type": "execute_result"
    }
   ],
   "source": [
    "#ALTERAR A COLUNA DIVISION\n",
    "\n",
    "#(D1 para Bundesliga)\n",
    "\n",
    "spark.sql(\n",
    "    \"\"\"    \n",
    "    UPDATE league_stats.deltalake_table\n",
    "    SET Div = REPLACE(Div, 'D1', 'Germany')\n",
    "    \"\"\"\n",
    ")\n",
    "\n",
    "#(I1 para Serie A)\n",
    "\n",
    "spark.sql(\n",
    "    \"\"\"    \n",
    "    UPDATE league_stats.deltalake_table\n",
    "    SET Div = REPLACE(Div, 'I1', 'Italy')\n",
    "    \"\"\"\n",
    ")\n",
    "\n",
    "#(E0 para Premier League)\n",
    "\n",
    "spark.sql(\n",
    "    \"\"\"    \n",
    "    UPDATE league_stats.deltalake_table\n",
    "    SET Div = REPLACE(Div, 'E0', 'England')\n",
    "    \"\"\"\n",
    ")"
   ]
  },
  {
   "cell_type": "code",
   "execution_count": 11,
   "id": "849eb10c",
   "metadata": {},
   "outputs": [
    {
     "data": {
      "text/plain": [
       "DataFrame[]"
      ]
     },
     "execution_count": 11,
     "metadata": {},
     "output_type": "execute_result"
    }
   ],
   "source": [
    "#ALTERAR A COLUNA FTR\n",
    "\n",
    "#(H para Home)\n",
    "\n",
    "spark.sql(\n",
    "    \"\"\"    \n",
    "    UPDATE league_stats.deltalake_table\n",
    "    SET FTR = REPLACE(FTR, 'H', 'Home')\n",
    "    \"\"\"\n",
    ")\n",
    "\n",
    "#(A para Away)\n",
    "\n",
    "spark.sql(\n",
    "    \"\"\"    \n",
    "    UPDATE league_stats.deltalake_table\n",
    "    SET FTR = REPLACE(FTR, 'A', 'Away')\n",
    "    \"\"\"\n",
    ")\n",
    "\n",
    "#(D para Draw)\n",
    "\n",
    "spark.sql(\n",
    "    \"\"\"    \n",
    "    UPDATE league_stats.deltalake_table\n",
    "    SET FTR = REPLACE(FTR, 'D', 'Draw')\n",
    "    \"\"\"\n",
    ")"
   ]
  },
  {
   "cell_type": "code",
   "execution_count": 12,
   "id": "25a061f7",
   "metadata": {},
   "outputs": [
    {
     "name": "stdout",
     "output_type": "stream",
     "text": [
      "+--------------+-----------+---+--------+----+----+---+---+---+---+---+---+---+\n",
      "|      HomeTeam|   AwayTeam|FTR|    Date|FTHG|FTAG| HS| AS|HST|AST| HC| AC|Div|\n",
      "+--------------+-----------+---+--------+----+----+---+---+---+---+---+---+---+\n",
      "|     Liverpool|    Arsenal|  D|21/12/14|   2|   2| 27|  7| 10|  3| 10|  6| E0|\n",
      "|       Swansea|Aston Villa|  H|26/12/14|   1|   0|  7| 11|  2|  3|  4|  0| E0|\n",
      "|     Liverpool|  Leicester|  D|01/01/15|   2|   2| 18| 16|  6|  3|  4|  5| E0|\n",
      "|      West Ham|  Newcastle|  H|14/09/15|   2|   0| 17| 14|  3|  4|  6|  7| E0|\n",
      "|      Man City|  Newcastle|  H|03/10/15|   6|   1| 23|  6| 11|  4|  6|  3| E0|\n",
      "|    Sunderland|Southampton|  A|07/11/15|   0|   1|  9| 11|  3|  4| 10| 11| E0|\n",
      "|   Aston Villa|    Everton|  A|01/03/16|   1|   3| 14| 10|  5|  7|  9|  8| E0|\n",
      "|    Man United|    Watford|  H|02/03/16|   1|   0| 14| 13|  3|  3|  9|  7| E0|\n",
      "|       Norwich|   Man City|  D|12/03/16|   0|   0|  5| 15|  0|  3|  3|  8| E0|\n",
      "|      Man City|    Watford|  H|14/12/16|   2|   0| 13|  5|  7|  2|  5|  2| E0|\n",
      "|Crystal Palace|    Chelsea|  A|17/12/16|   0|   1|  6| 13|  2|  6|  5|  3| E0|\n",
      "|         Stoke|    Watford|  H|03/01/17|   2|   0| 17|  9|  5|  2|  7|  6| E0|\n",
      "|     Tottenham|    Burnley|  D|27/08/17|   1|   1| 28| 13|  5|  3| 10|  7| E0|\n",
      "|     West Brom|      Stoke|  D|27/08/17|   1|   1| 10| 16|  2|  2| 10|  4| E0|\n",
      "|Crystal Palace|Southampton|  A|16/09/17|   0|   1| 14| 13|  3|  4|  5|  5| E0|\n",
      "|     West Brom|   West Ham|  D|16/09/17|   0|   0|  6|  9|  1|  1|  2|  3| E0|\n",
      "|   Bournemouth|   West Ham|  D|26/12/17|   3|   3| 26| 10| 10|  5|  7|  4| E0|\n",
      "|     Liverpool|  Leicester|  D|30/01/19|   1|   1| 10|  5|  3|  2|  7|  1| E0|\n",
      "|     Tottenham|    Everton|  D|12/05/19|   2|   2| 11| 17|  3|  9|  7|  4| E0|\n",
      "|       Swansea|        QPR|  H|02/12/14|   2|   0| 18|  5|  7|  1|  9|  2| E0|\n",
      "+--------------+-----------+---+--------+----+----+---+---+---+---+---+---+---+\n",
      "only showing top 20 rows\n",
      "\n"
     ]
    }
   ],
   "source": [
    "#MOSTRAR A DELTALAKE TABLE (já com as alterações)\n",
    "\n",
    "spark.sql(\n",
    "    \"\"\"\n",
    "    SELECT *\n",
    "    FROM league_stats.deltalake_table\n",
    "    \"\"\"\n",
    ").show()"
   ]
  },
  {
   "cell_type": "code",
   "execution_count": 13,
   "id": "fc249996",
   "metadata": {},
   "outputs": [
    {
     "name": "stdout",
     "output_type": "stream",
     "text": [
      "+--------+\n",
      "|count(1)|\n",
      "+--------+\n",
      "|    5330|\n",
      "+--------+\n",
      "\n"
     ]
    }
   ],
   "source": [
    "#FAZER VERIFICAÇÕES\n",
    "\n",
    "spark.sql(\n",
    "    \"\"\"\n",
    "    Select COUNT(*) FROM league_stats.deltalake_table\n",
    "    \"\"\"\n",
    ").show()"
   ]
  },
  {
   "cell_type": "code",
   "execution_count": 14,
   "id": "14cad16c",
   "metadata": {},
   "outputs": [
    {
     "name": "stdout",
     "output_type": "stream",
     "text": [
      "+--------------+-----------+\n",
      "|      HomeTeam|   AwayTeam|\n",
      "+--------------+-----------+\n",
      "|     Liverpool|    Arsenal|\n",
      "|       Swansea|Aston Villa|\n",
      "|     Liverpool|  Leicester|\n",
      "|      West Ham|  Newcastle|\n",
      "|      Man City|  Newcastle|\n",
      "|    Sunderland|Southampton|\n",
      "|   Aston Villa|    Everton|\n",
      "|    Man United|    Watford|\n",
      "|       Norwich|   Man City|\n",
      "|      Man City|    Watford|\n",
      "|Crystal Palace|    Chelsea|\n",
      "|         Stoke|    Watford|\n",
      "|     Tottenham|    Burnley|\n",
      "|     West Brom|      Stoke|\n",
      "|Crystal Palace|Southampton|\n",
      "|     West Brom|   West Ham|\n",
      "|   Bournemouth|   West Ham|\n",
      "|     Liverpool|  Leicester|\n",
      "|     Tottenham|    Everton|\n",
      "|       Swansea|        QPR|\n",
      "+--------------+-----------+\n",
      "only showing top 20 rows\n",
      "\n"
     ]
    }
   ],
   "source": [
    "spark.sql(\n",
    "    \"\"\"\n",
    "    SELECT HomeTeam, AwayTeam\n",
    "    FROM league_stats.deltalake_table\n",
    "    \"\"\"\n",
    ").show()"
   ]
  },
  {
   "cell_type": "code",
   "execution_count": 15,
   "id": "7b220c04",
   "metadata": {},
   "outputs": [],
   "source": [
    "#DATA QUALITY TREATMENT\n",
    "\n",
    "#LER O DATAFRAME\n",
    "\n",
    "sales_df = spark.read.format(\"delta\").load(\"hdfs://hdfs-nn:9000/demo/silver/league_stats.db/deltalake_table/\")"
   ]
  },
  {
   "cell_type": "code",
   "execution_count": null,
   "id": "b75c0ea3",
   "metadata": {},
   "outputs": [],
   "source": [
    "#IDENTIFICAR LINHAS DUPLICADAS NO DELTALAKE \n",
    "\n",
    "import pyspark.sql.functions as f\n",
    "sales_df.join(\n",
    "    sales_df.groupBy(sales_df.columns).agg((f.count(\"*\")>1).cast(\"int\").alias(\"Duplicate_indicator\")),\n",
    "    on=sales_df.columns,\n",
    "    how=\"inner\"\n",
    ").show()"
   ]
  },
  {
   "cell_type": "code",
   "execution_count": 21,
   "id": "c36d6bc3",
   "metadata": {},
   "outputs": [
    {
     "data": {
      "text/plain": [
       "[Row(HomeTeam='Palermo'),\n",
       " Row(HomeTeam='Mainz'),\n",
       " Row(HomeTeam='Carpi'),\n",
       " Row(HomeTeam='Tottenham'),\n",
       " Row(HomeTeam='Brighton'),\n",
       " Row(HomeTeam='Schalke 04'),\n",
       " Row(HomeTeam='Nurnberg'),\n",
       " Row(HomeTeam='Sunderland'),\n",
       " Row(HomeTeam='Hull'),\n",
       " Row(HomeTeam='Bologna'),\n",
       " Row(HomeTeam='Man City'),\n",
       " Row(HomeTeam='Arsenal'),\n",
       " Row(HomeTeam='Cardiff'),\n",
       " Row(HomeTeam='Hoffenheim'),\n",
       " Row(HomeTeam='Lazio'),\n",
       " Row(HomeTeam='Darmstadt'),\n",
       " Row(HomeTeam='RB Leipzig'),\n",
       " Row(HomeTeam='Norwich'),\n",
       " Row(HomeTeam='Spal'),\n",
       " Row(HomeTeam='Werder Bremen'),\n",
       " Row(HomeTeam='Verona'),\n",
       " Row(HomeTeam='Hertha'),\n",
       " Row(HomeTeam='Crystal Palace'),\n",
       " Row(HomeTeam='Burnley'),\n",
       " Row(HomeTeam='Leicester'),\n",
       " Row(HomeTeam='Aston Villa'),\n",
       " Row(HomeTeam='Leverkusen'),\n",
       " Row(HomeTeam='FC Koln'),\n",
       " Row(HomeTeam='Freiburg'),\n",
       " Row(HomeTeam='Bournemouth'),\n",
       " Row(HomeTeam='QPR'),\n",
       " Row(HomeTeam='Ein Frankfurt'),\n",
       " Row(HomeTeam='Hamburg'),\n",
       " Row(HomeTeam='Hannover'),\n",
       " Row(HomeTeam='Genoa'),\n",
       " Row(HomeTeam='Sassuolo'),\n",
       " Row(HomeTeam='Roma'),\n",
       " Row(HomeTeam='Cesena'),\n",
       " Row(HomeTeam='Milan'),\n",
       " Row(HomeTeam='Paderborn'),\n",
       " Row(HomeTeam='Fulham'),\n",
       " Row(HomeTeam='Fiorentina'),\n",
       " Row(HomeTeam='West Ham'),\n",
       " Row(HomeTeam='Inter'),\n",
       " Row(HomeTeam='Man United'),\n",
       " Row(HomeTeam='Wolfsburg'),\n",
       " Row(HomeTeam='Cagliari'),\n",
       " Row(HomeTeam='Stoke'),\n",
       " Row(HomeTeam='Ingolstadt'),\n",
       " Row(HomeTeam='Wolves'),\n",
       " Row(HomeTeam='West Brom'),\n",
       " Row(HomeTeam='Southampton'),\n",
       " Row(HomeTeam='Stuttgart'),\n",
       " Row(HomeTeam='Swansea'),\n",
       " Row(HomeTeam='Chievo'),\n",
       " Row(HomeTeam='Napoli'),\n",
       " Row(HomeTeam=\"M'gladbach\"),\n",
       " Row(HomeTeam='Parma'),\n",
       " Row(HomeTeam='Crotone'),\n",
       " Row(HomeTeam='Huddersfield'),\n",
       " Row(HomeTeam='Bayern Munich'),\n",
       " Row(HomeTeam='Fortuna Dusseldorf'),\n",
       " Row(HomeTeam='Liverpool'),\n",
       " Row(HomeTeam='Frosinone'),\n",
       " Row(HomeTeam='Pescara'),\n",
       " Row(HomeTeam='Augsburg'),\n",
       " Row(HomeTeam='Torino'),\n",
       " Row(HomeTeam='Chelsea'),\n",
       " Row(HomeTeam='Empoli'),\n",
       " Row(HomeTeam='Newcastle'),\n",
       " Row(HomeTeam='Atalanta'),\n",
       " Row(HomeTeam='Watford'),\n",
       " Row(HomeTeam='Everton'),\n",
       " Row(HomeTeam='Sampdoria'),\n",
       " Row(HomeTeam='Benevento'),\n",
       " Row(HomeTeam='Dortmund'),\n",
       " Row(HomeTeam='Juventus'),\n",
       " Row(HomeTeam='Udinese'),\n",
       " Row(HomeTeam='Middlesbrough')]"
      ]
     },
     "execution_count": 21,
     "metadata": {},
     "output_type": "execute_result"
    }
   ],
   "source": [
    "#IDENTIFICAR VALORES DISTINTOS \n",
    "#(por exemplo, da coluna HomeTeam)\n",
    "\n",
    "sales_df.select('HomeTeam').distinct().collect()"
   ]
  },
  {
   "cell_type": "code",
   "execution_count": 22,
   "id": "113a683c",
   "metadata": {},
   "outputs": [
    {
     "data": {
      "text/plain": [
       "[Row(Div='Germany'), Row(Div='Italy'), Row(Div='England')]"
      ]
     },
     "execution_count": 22,
     "metadata": {},
     "output_type": "execute_result"
    }
   ],
   "source": [
    "#IDENTIFICAR VALORES DISTINTOS \n",
    "sales_df.select('Div').distinct().collect()"
   ]
  },
  {
   "cell_type": "code",
   "execution_count": 23,
   "id": "bc54fe28",
   "metadata": {
    "scrolled": true
   },
   "outputs": [
    {
     "name": "stdout",
     "output_type": "stream",
     "text": [
      "+--------------+-----------+----+--------+----+----+----+---+---+---+---+---+-------+\n",
      "|      HomeTeam|   AwayTeam| FTR|    Date|FTHG|FTAG|  HS| AS|HST|AST| HC| AC|    Div|\n",
      "+--------------+-----------+----+--------+----+----+----+---+---+---+---+---+-------+\n",
      "|    Sunderland|  Liverpool|Away|10/01/15|   0|   1|null|  5| 21|  1| 11|  6|England|\n",
      "|Crystal Palace| Sunderland|Away|23/11/15|   0|   1|null| 19| 12|  7| 11| 11|England|\n",
      "|     West Brom|Aston Villa|Draw|23/01/16|   0|   0|null|  4| 15|  0| 13|  2|England|\n",
      "|       Chelsea|  Leicester|Home|15/10/16|   3|   0|null| 16|  5|  6| 12|  8|England|\n",
      "|       Burnley|   Man City|Away|26/11/16|   1|   2|null| 10| 21|  5| 15|  5|England|\n",
      "|   Southampton|   West Ham|Away|04/02/17|   1|   3|null| 21|  6|  7| 15|  3|England|\n",
      "|     Leicester| Sunderland|Home|04/04/17|   2|   0|null| 19| 15|  8| 13|  5|England|\n",
      "|     Tottenham| Man United|Home|14/05/17|   2|   1|null| 14|  8|  7| 15|  8|England|\n",
      "|       Swansea|    Arsenal|Home|30/01/18|   3|   1|null| 12|  9|  4|  8|  4|England|\n",
      "|  Huddersfield|    Watford|Home|14/04/18|   1|   0|null|  9|  4|  1|  8|  9|England|\n",
      "|      Brighton|  Leicester|Draw|24/11/18|   1|   1|null| 14|  8|  3|  7|  6|England|\n",
      "|Crystal Palace|    Burnley|Home|01/12/18|   2|   0|null| 29|  4|  9| 10| 10|England|\n",
      "|       Chelsea|     Fulham|Home|02/12/18|   2|   0|null| 16|  9|  9| 17|  4|England|\n",
      "|       Chelsea|    Watford|Home|05/05/19|   3|   0|null| 19| 15|  9| 12|  6|England|\n",
      "|      Man City|      Stoke|Away|30/08/14|   0|   1|null| 16|  7|  2|  5| 11|England|\n",
      "|       Arsenal|  Tottenham|Draw|27/09/14|   1|   1|null| 16|  6|  6| 16| 15|England|\n",
      "|      Man City| Man United|Home|02/11/14|   1|   0|null| 16|  9|  6|  9|  7|England|\n",
      "|      Man City|Southampton|Home|28/11/15|   3|   1|null| 16| 12|  9| 11|  6|England|\n",
      "|Crystal Palace|      Stoke|Home|07/05/16|   2|   1|null| 17| 12|  4| 18|  4|England|\n",
      "|     Leicester|    Arsenal|Draw|20/08/16|   0|   0|null|  8| 13|  1|  7|  2|England|\n",
      "+--------------+-----------+----+--------+----+----+----+---+---+---+---+---+-------+\n",
      "only showing top 20 rows\n",
      "\n"
     ]
    }
   ],
   "source": [
    "#IDENTIFICAR VALORES NULOS\n",
    "#(por exemplo, da coluna HST)\n",
    "\n",
    "sales_df.filter(sales_df.HS.isNull()).show()"
   ]
  },
  {
   "cell_type": "code",
   "execution_count": 24,
   "id": "bdf960f6",
   "metadata": {},
   "outputs": [],
   "source": [
    "sales_df \\\n",
    "    .write \\\n",
    "    .mode(\"overwrite\") \\\n",
    "    .format(\"delta\") \\\n",
    "    .save(\"hdfs://hdfs-nn:9000/demo/silver/league_stats.db/deltalake_table/\")"
   ]
  },
  {
   "cell_type": "code",
   "execution_count": null,
   "id": "9a2b7c2c",
   "metadata": {},
   "outputs": [],
   "source": []
  }
 ],
 "metadata": {
  "kernelspec": {
   "display_name": "Python 3",
   "language": "python",
   "name": "python3"
  },
  "language_info": {
   "codemirror_mode": {
    "name": "ipython",
    "version": 3
   },
   "file_extension": ".py",
   "mimetype": "text/x-python",
   "name": "python",
   "nbconvert_exporter": "python",
   "pygments_lexer": "ipython3",
   "version": "3.9.4"
  }
 },
 "nbformat": 4,
 "nbformat_minor": 5
}
