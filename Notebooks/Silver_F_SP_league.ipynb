{
 "cells": [
  {
   "cell_type": "code",
   "execution_count": 1,
   "id": "25d85d1a",
   "metadata": {},
   "outputs": [],
   "source": [
    "from os import PathLike\n",
    "from hdfs import InsecureClient\n",
    "from pyspark.sql import SparkSession\n",
    "from pyspark.sql import Row\n",
    "from pyspark.sql.functions import *\n",
    "from delta import *\n",
    "from pyspark.sql.types import LongType, StringType, StructField, StructType, BooleanType, ArrayType, IntegerType, FloatType, DateType\n",
    "import pyspark.sql.functions as f"
   ]
  },
  {
   "cell_type": "code",
   "execution_count": 2,
   "id": "8d4ce928",
   "metadata": {},
   "outputs": [
    {
     "name": "stderr",
     "output_type": "stream",
     "text": [
      "Warning: Ignoring non-Spark config property: hive.metastore.uris\n",
      "WARNING: An illegal reflective access operation has occurred\n",
      "WARNING: Illegal reflective access by org.apache.spark.unsafe.Platform (file:/usr/local/spark-3.1.2-bin-hadoop3.2/jars/spark-unsafe_2.12-3.1.2.jar) to constructor java.nio.DirectByteBuffer(long,int)\n",
      "WARNING: Please consider reporting this to the maintainers of org.apache.spark.unsafe.Platform\n",
      "WARNING: Use --illegal-access=warn to enable warnings of further illegal reflective access operations\n",
      "WARNING: All illegal access operations will be denied in a future release\n"
     ]
    },
    {
     "name": "stdout",
     "output_type": "stream",
     "text": [
      ":: loading settings :: url = jar:file:/usr/local/spark-3.1.2-bin-hadoop3.2/jars/ivy-2.4.0.jar!/org/apache/ivy/core/settings/ivysettings.xml\n"
     ]
    },
    {
     "name": "stderr",
     "output_type": "stream",
     "text": [
      "Ivy Default Cache set to: /home/jovyan/.ivy2/cache\n",
      "The jars for the packages stored in: /home/jovyan/.ivy2/jars\n",
      "io.delta#delta-core_2.12 added as a dependency\n",
      ":: resolving dependencies :: org.apache.spark#spark-submit-parent-cee54a41-5b01-4927-bd84-0cedcf9e03da;1.0\n",
      "\tconfs: [default]\n",
      "\tfound io.delta#delta-core_2.12;1.0.0 in central\n",
      "\tfound org.antlr#antlr4;4.7 in central\n",
      "\tfound org.antlr#antlr4-runtime;4.7 in central\n",
      "\tfound org.antlr#antlr-runtime;3.5.2 in central\n",
      "\tfound org.antlr#ST4;4.0.8 in central\n",
      "\tfound org.abego.treelayout#org.abego.treelayout.core;1.0.3 in central\n",
      "\tfound org.glassfish#javax.json;1.0.4 in central\n",
      "\tfound com.ibm.icu#icu4j;58.2 in central\n",
      ":: resolution report :: resolve 452ms :: artifacts dl 17ms\n",
      "\t:: modules in use:\n",
      "\tcom.ibm.icu#icu4j;58.2 from central in [default]\n",
      "\tio.delta#delta-core_2.12;1.0.0 from central in [default]\n",
      "\torg.abego.treelayout#org.abego.treelayout.core;1.0.3 from central in [default]\n",
      "\torg.antlr#ST4;4.0.8 from central in [default]\n",
      "\torg.antlr#antlr-runtime;3.5.2 from central in [default]\n",
      "\torg.antlr#antlr4;4.7 from central in [default]\n",
      "\torg.antlr#antlr4-runtime;4.7 from central in [default]\n",
      "\torg.glassfish#javax.json;1.0.4 from central in [default]\n",
      "\t---------------------------------------------------------------------\n",
      "\t|                  |            modules            ||   artifacts   |\n",
      "\t|       conf       | number| search|dwnlded|evicted|| number|dwnlded|\n",
      "\t---------------------------------------------------------------------\n",
      "\t|      default     |   8   |   0   |   0   |   0   ||   8   |   0   |\n",
      "\t---------------------------------------------------------------------\n",
      ":: retrieving :: org.apache.spark#spark-submit-parent-cee54a41-5b01-4927-bd84-0cedcf9e03da\n",
      "\tconfs: [default]\n",
      "\t0 artifacts copied, 8 already retrieved (0kB/16ms)\n",
      "22/01/17 20:59:44 WARN NativeCodeLoader: Unable to load native-hadoop library for your platform... using builtin-java classes where applicable\n",
      "Using Spark's default log4j profile: org/apache/spark/log4j-defaults.properties\n",
      "Setting default log level to \"WARN\".\n",
      "To adjust logging level use sc.setLogLevel(newLevel). For SparkR, use setLogLevel(newLevel).\n"
     ]
    }
   ],
   "source": [
    "#SPARK CONFIG\n",
    "from pyspark.sql import SparkSession\n",
    "from pyspark.sql import Row\n",
    "from delta import *\n",
    "\n",
    "#Warehouse_location points to the default location for managed databases and tables\n",
    "warehouse_location = 'hdfs://hdfs-nn:9000/demo/silver'\n",
    "\n",
    "builder = SparkSession \\\n",
    "    .builder \\\n",
    "    .appName(\"Python Spark SQL Hive integration example\") \\\n",
    "    .config(\"spark.sql.warehouse.dir\", warehouse_location) \\\n",
    "    .config(\"hive.metastore.uris\", \"thrift://hive-metastore:9083\") \\\n",
    "    .config(\"spark.sql.extensions\", \"io.delta.sql.DeltaSparkSessionExtension\") \\\n",
    "    .config(\"spark.sql.catalog.spark_catalog\", \"org.apache.spark.sql.delta.catalog.DeltaCatalog\") \\\n",
    "    .config(\"spark.jars.packages\", \"io.delta:delta-core_2.12:1.0.0\") \\\n",
    "    .enableHiveSupport() \\\n",
    "\n",
    "spark = spark = configure_spark_with_delta_pip(builder).getOrCreate()"
   ]
  },
  {
   "cell_type": "code",
   "execution_count": 3,
   "id": "3c7bf2ff",
   "metadata": {},
   "outputs": [
    {
     "name": "stderr",
     "output_type": "stream",
     "text": [
      "22/01/17 21:00:13 WARN HiveExternalCatalog: Couldn't find corresponding Hive SerDe for data source provider delta. Persisting data source table `f_sp_league`.`deltalake_table` into Hive metastore in Spark SQL specific format, which is NOT compatible with Hive.\n",
      "22/01/17 21:00:13 WARN SessionState: METASTORE_FILTER_HOOK will be ignored, since hive.security.authorization.manager is set to instance of HiveAuthorizerFactory.\n"
     ]
    },
    {
     "data": {
      "text/plain": [
       "DataFrame[]"
      ]
     },
     "execution_count": 3,
     "metadata": {},
     "output_type": "execute_result"
    }
   ],
   "source": [
    "#(drop da tabela database do hdfs F_SP_League)\n",
    "spark.sql(\n",
    "    \"\"\"\n",
    "    DROP DATABASE IF EXISTS F_SP_League CASCADE\n",
    "    \"\"\"\n",
    ")\n",
    "\n",
    "#(drop da deltalake table F_SP_League)\n",
    "spark.sql(\n",
    "    \"\"\"\n",
    "    DROP TABLE IF EXISTS F_SP_League.deltalake_table\n",
    "    \"\"\"\n",
    ")\n",
    "\n",
    "#CRIAR F_SP_League.db\n",
    "spark.sql(\n",
    "    \"\"\"\n",
    "    CREATE DATABASE F_SP_League LOCATION 'hdfs://hdfs-nn:9000/demo/silver/F_SP_League.db/'\n",
    "    \"\"\"\n",
    ")\n",
    "\n",
    "#CRIAR A DELTALAKE TABLE\n",
    "spark.sql(\n",
    "    \"\"\"\n",
    "    CREATE EXTERNAL TABLE F_SP_League.deltalake_table (\n",
    "        HomeTeam STRING,\n",
    "        AwayTeam STRING,\n",
    "        FTR STRING,\n",
    "        Date STRING,\n",
    "        FTHG INT,\n",
    "        FTAG INT,\n",
    "        HS INT,\n",
    "        AS INT,\n",
    "        HST INT,\n",
    "        AST INT,\n",
    "        HC INT,\n",
    "        AC INT\n",
    "    )\n",
    "    USING DELTA\n",
    "    PARTITIONED BY (\n",
    "         Div STRING\n",
    "    )\n",
    "    LOCATION 'hdfs://hdfs-nn:9000/demo/silver/F_SP_League.db/deltalake_table/'\n",
    "    \"\"\"\n",
    ")"
   ]
  },
  {
   "cell_type": "code",
   "execution_count": 4,
   "id": "4b76df7a",
   "metadata": {},
   "outputs": [
    {
     "name": "stderr",
     "output_type": "stream",
     "text": [
      "22/01/17 21:00:15 WARN package: Truncated the string representation of a plan since it was too large. This behavior can be adjusted by setting 'spark.sql.debug.maxToStringFields'.\n"
     ]
    },
    {
     "name": "stdout",
     "output_type": "stream",
     "text": [
      "+---+--------+--------------------+--------------------+----+----+---+----+----+---+---+---+---+---+---+---+---+---+---+---+---+---+-----+-----+-----+----+----+----+----+----+----+----+----+----+-----+----+----+----+----+----+-----+-----+-----+-----+-----+-----+-----+----+--------+--------+--------+--------+----+-----+-------+-------+-------+-------+----+-----+----+\n",
      "|Div|    Date|            HomeTeam|            AwayTeam|FTHG|FTAG|FTR|HTHG|HTAG|HTR| HS| AS|HST|AST| HF| AF| HC| AC| HY| AY| HR| AR|B365H|B365D|B365A| BWH| BWD| BWA| IWH| IWD| IWA| PSH| PSD| PSA|  WHH| WHD| WHA| VCH| VCD| VCA|Bb1X2|BbMxH|BbAvH|BbMxD|BbAvD|BbMxA|BbAvA|BbOU|BbMx>2.5|BbAv>2.5|BbMx<2.5|BbAv<2.5|BbAH|BbAHh|BbMxAHH|BbAvAHH|BbMxAHA|BbAvAHA|PSCH| PSCD|PSCA|\n",
      "+---+--------+--------------------+--------------------+----+----+---+----+----+---+---+---+---+---+---+---+---+---+---+---+---+---+-----+-----+-----+----+----+----+----+----+----+----+----+----+-----+----+----+----+----+----+-----+-----+-----+-----+-----+-----+-----+----+--------+--------+--------+--------+----+-----+-------+-------+-------+-------+----+-----+----+\n",
      "| F1|08/08/14|               Reims|            Paris SG|   2|   2|  D|   2|   1|  H|  9| 16|  3|  6| 15| 16|  1|  5|  0|  2|  0|  0|  9.5|  4.5| 1.36| 8.0|4.33| 1.4| 7.5| 4.3| 1.4| 9.0| 4.5|1.36|10.88|4.97|1.37| 9.0| 4.5|1.36| null|  4.5| 1.33| 10.5|  4.8| 1.36| 42.0|  13|    9.68|     5.4|    4.72|    1.45|null| 39.0|   1.87|   1.79|   2.12|   2.02|22.0|  1.5|1.97|\n",
      "| F1|09/08/14|              Bastia|           Marseille|   3|   3|  D|   1|   2|  A| 13|  9|  4|  4| 25| 21|  1|  4|  3|  1|  0|  0|  3.9|  3.1| 2.05| 3.8| 3.2|2.15|3.45|3.15| 2.1| 3.5| 3.3| 2.1| 3.98|3.34|2.11| 3.5| 3.3| 2.1| null|  3.2|  2.0|  4.1|  3.3| 2.05| 46.0|null|    3.73|    3.45|    3.25|    2.12|null| 37.0|   2.26|   2.16|   1.73|   1.66|19.0|  0.5|1.86|\n",
      "| F1|09/08/14|Evian Thonon Gail...|                Caen|   0|   3|  A|   0|   3|  A| 10| 12|  2|  7| 12|  9|  5|  6|  1|  1|  0|  0| 2.38|  3.2|  3.0| 2.5| 3.2| 3.1| 2.3| 3.1| 3.1| 2.3| 3.1| 3.2| 2.44|3.28|3.22| 2.4| 3.1| 3.1| null|  3.2|  3.0| 2.45|  3.2|  3.2| 46.0|null|    2.37|     3.4|    3.15|     3.3|null| 36.0|   2.45|   2.24|    1.7|   1.62|18.0|-0.25|2.12|\n",
      "| F1|09/08/14|            Guingamp|          St Etienne|   0|   2|  A|   0|   1|  A|  6|  7|  3|  2|  9| 19|  4|  5|  3|  4|  0|  0|  3.3|  3.1|  2.3| 3.2| 3.1| 2.5| 2.9|3.15| 2.4| 3.3| 3.2| 2.2| 3.45|3.12|2.41| 3.1| 3.1| 2.4| null| 3.13|  2.3|  3.4|  3.1|  2.4| 45.0|null|    3.19|     3.3|    3.09|     2.5|null| 33.0|   2.62|   2.45|    1.6|   1.52|20.0| 0.25|1.89|\n",
      "| F1|09/08/14|               Lille|                Metz|   0|   0|  D|   0|   0|  D| 14|  2|  3|  1|  9| 23|  8|  3|  0|  1|  0|  0|  1.5|  4.1|  6.5|1.57| 4.1|6.25|1.45| 4.0| 7.0|1.44| 4.2| 7.5| 1.53|4.13|7.65|1.53|3.75| 7.0| null|  3.8| 6.25| 1.55|  4.0|  7.5| 46.0|null|    1.51|     4.2|     3.9|     8.0|null| 41.0|   2.33|    2.2|   1.75|   1.65|22.0| -1.0|2.01|\n",
      "| F1|09/08/14|         Montpellier|            Bordeaux|   0|   1|  A|   0|   1|  A| 15|  7|  3|  3| 15| 21|  5|  1|  2|  2|  0|  0|  2.3|  3.1|  3.2| 2.5|2.95| 3.0| 2.3| 3.1| 3.1| 2.3| 3.1| 3.2| 2.53|3.08|3.29| 2.5| 3.0| 3.0| null| 3.13|  3.0|  2.5|  3.1| 3.25| 46.0|null|    2.39|    3.22|    3.08|     3.3|null| 35.0|   2.54|   2.37|   1.62|   1.56|18.0|-0.25|2.16|\n",
      "| F1|09/08/14|              Nantes|                Lens|   1|   0|  H|   0|   0|  D| 14|  5|  4|  2|  8|  7|  3|  2|  0|  1|  0|  0|  2.0| 3.25|  3.9|2.05| 3.2|3.75| 2.0| 3.2|3.75| 2.0|3.25| 4.0| 2.04|3.28|4.36|2.05| 3.1| 4.0|    2|  3.2| 3.75| 2.05|  3.3|  4.2| 46.0|null|    2.01|     3.4|    3.25|     4.4|null| 33.0|   2.45|   2.32|   1.67|   1.58|20.0| -0.5|2.06|\n",
      "| F1|09/08/14|                Nice|            Toulouse|   3|   2|  H|   1|   2|  A| 22| 11|  8|  3| 10|  9| 12|  7|  0|  1|  0|  0| 2.63|  3.1| 2.75|2.85| 2.9| 2.9| 2.5| 3.1| 2.8| 2.5| 3.0| 3.0| 2.85|3.09|2.85| 2.8| 2.9| 2.8| null| null| null| 2.75|  3.1|  2.9| 45.0|null|    2.67|     3.2|    3.03|     3.0|null| 33.0|   2.62|   2.44|   1.64|   1.53|21.0|  0.0|1.96|\n",
      "| F1|10/08/14|                Lyon|              Rennes|   2|   0|  H|   0|   0|  D| 19|  7|  6|  1| 19| 13|  5|  1|  2|  1|  0|  0|  1.8|  3.4| 4.75|1.85|3.25| 4.5| 1.8| 3.4|4.35| 1.8| 3.4|4.75| 1.85|3.52|4.95|1.83| 3.3| 4.5| null|  3.3| 4.33|  1.9|  3.4| 4.75| 46.0|null|    1.84|    3.55|    3.38|    4.95|null| 43.0|   2.22|   2.13|   1.81|    1.7|20.0| -0.5| 1.9|\n",
      "| F1|10/08/14|              Monaco|             Lorient|   1|   2|  A|   0|   1|  A| 12|  9|  7|  3| 11| 19| 10|  4|  3|  2|  1|  0|  1.4| 4.33|  8.5| 1.4|4.33| 8.0| 1.4| 4.3| 7.5| 1.4| 4.5| 7.5| 1.42| 4.7| 9.4| 1.4| 4.0|10.0| null| 4.33|  8.0|  1.4|  4.6| 10.0| 45.0|null|     1.4|     4.8|    4.35|    10.0|null| 44.0|   1.94|   1.87|   1.99|   1.91|20.0|-1.25|2.01|\n",
      "| F1|15/08/14|                Caen|               Lille|   0|   1|  A|   0|   0|  D| 11|  8|  3|  1| 10|  4|  3|  9|  2|  2|  1|  0|  3.6|  3.1| 2.15| 3.5| 3.1|2.15| 2.9|3.15| 2.4| 3.6| 3.2| 2.1| 3.72|3.21|2.25| 3.6| 3.2|2.15| null| 3.13|  2.2| 3.75|  3.2|  2.2| 48.0|null|    3.68|    3.37|     3.2|     2.4|null| 39.0|   2.54|   2.42|   1.62|   1.54|22.0|  0.5|1.83|\n",
      "| F1|16/08/14|                Lens|            Guingamp|   0|   1|  A|   0|   0|  D| 14| 10|  4|  4| 14|  5|  7|  2|  4|  1|  0|  0| 2.88|  3.0| 2.63| 2.9| 3.0| 2.8| 2.3| 3.1| 3.1| 2.7| 3.1| 2.7| 2.89| 3.1| 2.8| 2.7| 3.1| 2.7| null|  3.0| 2.63|  2.9|  3.1| 2.75| 49.0|null|    2.77|     3.2|    3.05|     3.1|null| 39.0|   2.54|   2.41|   1.65|   1.54|25.0|  0.0|2.01|\n",
      "| F1|16/08/14|             Lorient|                Nice|   0|   0|  D|   0|   0|  D| 13|  9|  6|  2| 14| 10|  8|  2|  1|  1|  0|  0| 1.75|  3.4|  5.0|1.83| 3.4| 5.0| 1.9|3.35| 3.9| 1.8|3.25| 5.0| 1.78|3.55|5.48|1.83| 3.2| 5.0| null|  3.4|  4.8| 1.83|  3.4| 5.25| 49.0|null|    1.77|     3.6|     3.4|     5.6|null| 40.0|   2.32|   2.21|    1.7|   1.63|23.0|-0.75|2.08|\n",
      "| F1|16/08/14|                Metz|              Nantes|   1|   1|  D|   1|   1|  D| 12|  6|  5|  2| 12| 17|  4|  7|  2|  1|  0|  0| 2.38|  3.0|  3.2| 2.5| 3.1| 3.2| 2.3|3.15|3.05| 2.4| 3.1| 3.1|  2.4|3.14|3.46| 2.4| 3.1| 3.1| null|  3.0|  3.0| 2.45|  3.1|  3.4| 49.0|null|    2.38|    3.35|    3.06|     3.5|null| 39.0|   2.75|   2.63|   1.55|   1.46|22.0|-0.25|2.14|\n",
      "| F1|16/08/14|            Paris SG|              Bastia|   2|   0|  H|   1|   0|  H| 15|  5|  5|  1|  9| 15|  4|  4|  1|  3|  0|  0| 1.13|  8.0| 19.0|1.17|7.25|19.5| 1.2| 5.8|13.0|1.14| 7.5|17.0| 1.15| 9.0|21.5|1.14| 7.0|21.0| null|  7.0| 15.0| 1.17|  8.0| 23.0| 48.0|null|    1.15|     9.2|    7.78|    23.0|null| 39.0|    1.5|   1.44|   2.82|   2.69|22.0| -2.0|1.88|\n",
      "| F1|16/08/14|              Rennes|Evian Thonon Gail...|   6|   2|  H|   3|   1|  H|  9|  9|  7|  3|  4| 12|  6|  1|  0|  1|  0|  0| 1.73|  3.5|  5.0| 1.8| 3.2| 5.0|1.75| 3.4|4.65| 1.8| 3.4|4.75| 1.79|3.58|5.22| 1.8|3.25| 5.0| null|  3.4|  4.8|  1.8|  3.5| 5.25| 49.0|null|    1.76|     3.7|    3.45|     5.4|null| 44.0|    2.3|    2.2|   1.75|   1.65|23.0| -0.5| 1.8|\n",
      "| F1|16/08/14|            Toulouse|                Lyon|   2|   1|  H|   2|   0|  H| 10| 18|  6|  3| 11| 12|  6|  4|  3|  1|  0|  0|  2.5| 3.25|  2.8|2.55| 3.0| 2.9| 2.6| 3.2| 2.6|2.55| 3.2|2.75| 2.51|3.27|3.13| 2.6| 3.1| 2.8| null| 3.13| 2.88| 2.55| 3.25|  3.0| 49.0|null|    2.48|    3.35|    3.18|     3.2|null| 45.0|   2.32|   2.11|    1.8|    1.7|25.0|  0.0|1.86|\n",
      "| F1|17/08/14|            Bordeaux|              Monaco|   4|   1|  H|   0|   1|  A|  9|  9|  5|  3| 12| 21|  3|  4|  1|  3|  0|  0|  2.8|  3.2| 2.55| 2.8| 3.1|2.55|2.75|3.15| 2.5|2.87| 3.2| 2.5| 3.02|3.22|2.61| 2.8| 3.1| 2.6| null| 3.13|  2.5|  3.0|  3.2|  2.6| 49.0|null|    2.88|     3.3|    3.15|    2.61|null| 46.0|   2.27|   2.19|   1.76|   1.66|25.0|  0.0|2.18|\n",
      "| F1|17/08/14|           Marseille|         Montpellier|   0|   2|  A|   0|   1|  A| 22| 10|  5|  3| 18| 17|  6|  1|  1|  0|  0|  0| 1.55| 3.75|  6.5|1.65| 3.6|6.25|1.65| 3.5| 5.3|1.61| 3.6| 6.0| 1.59|3.98| 6.9|1.62| 3.6| 6.0| null|  3.6|  6.0| 1.65| 3.75|  6.0| 49.0|null|    1.58|     4.0|    3.73|     6.9|null| 47.0|   2.15|   2.01|    1.9|   1.79|26.0| -1.0| 2.2|\n",
      "| F1|17/08/14|          St Etienne|               Reims|   3|   1|  H|   0|   1|  A| 19|  7|  9|  2|  8| 11|  6|  3|  2|  2|  0|  0|  1.5| 3.75|  7.5|1.57|3.75|7.25| 1.6| 3.6| 5.6|1.57|3.75| 6.0| 1.52| 4.2| 7.9|1.53|3.75| 7.0| null| 3.75|  7.0| 1.55|  4.0|  7.5| 49.0|null|    1.51|     4.2|    3.87|     8.0|null| 47.0|   2.23|    2.1|   1.85|   1.71|27.0| -1.0|1.97|\n",
      "+---+--------+--------------------+--------------------+----+----+---+----+----+---+---+---+---+---+---+---+---+---+---+---+---+---+-----+-----+-----+----+----+----+----+----+----+----+----+----+-----+----+----+----+----+----+-----+-----+-----+-----+-----+-----+-----+----+--------+--------+--------+--------+----+-----+-------+-------+-------+-------+----+-----+----+\n",
      "only showing top 20 rows\n",
      "\n",
      "root\n",
      " |-- Div: string (nullable = true)\n",
      " |-- Date: string (nullable = true)\n",
      " |-- HomeTeam: string (nullable = true)\n",
      " |-- AwayTeam: string (nullable = true)\n",
      " |-- FTHG: integer (nullable = true)\n",
      " |-- FTAG: integer (nullable = true)\n",
      " |-- FTR: string (nullable = true)\n",
      " |-- HTHG: integer (nullable = true)\n",
      " |-- HTAG: integer (nullable = true)\n",
      " |-- HTR: string (nullable = true)\n",
      " |-- HS: integer (nullable = true)\n",
      " |-- AS: integer (nullable = true)\n",
      " |-- HST: integer (nullable = true)\n",
      " |-- AST: integer (nullable = true)\n",
      " |-- HF: integer (nullable = true)\n",
      " |-- AF: integer (nullable = true)\n",
      " |-- HC: integer (nullable = true)\n",
      " |-- AC: integer (nullable = true)\n",
      " |-- HY: integer (nullable = true)\n",
      " |-- AY: integer (nullable = true)\n",
      " |-- HR: integer (nullable = true)\n",
      " |-- AR: integer (nullable = true)\n",
      " |-- B365H: float (nullable = true)\n",
      " |-- B365D: float (nullable = true)\n",
      " |-- B365A: float (nullable = true)\n",
      " |-- BWH: float (nullable = true)\n",
      " |-- BWD: float (nullable = true)\n",
      " |-- BWA: float (nullable = true)\n",
      " |-- IWH: float (nullable = true)\n",
      " |-- IWD: float (nullable = true)\n",
      " |-- IWA: float (nullable = true)\n",
      " |-- PSH: float (nullable = true)\n",
      " |-- PSD: float (nullable = true)\n",
      " |-- PSA: float (nullable = true)\n",
      " |-- WHH: float (nullable = true)\n",
      " |-- WHD: float (nullable = true)\n",
      " |-- WHA: float (nullable = true)\n",
      " |-- VCH: float (nullable = true)\n",
      " |-- VCD: float (nullable = true)\n",
      " |-- VCA: float (nullable = true)\n",
      " |-- Bb1X2: integer (nullable = true)\n",
      " |-- BbMxH: float (nullable = true)\n",
      " |-- BbAvH: float (nullable = true)\n",
      " |-- BbMxD: float (nullable = true)\n",
      " |-- BbAvD: float (nullable = true)\n",
      " |-- BbMxA: float (nullable = true)\n",
      " |-- BbAvA: float (nullable = true)\n",
      " |-- BbOU: integer (nullable = true)\n",
      " |-- BbMx>2.5: float (nullable = true)\n",
      " |-- BbAv>2.5: float (nullable = true)\n",
      " |-- BbMx<2.5: float (nullable = true)\n",
      " |-- BbAv<2.5: float (nullable = true)\n",
      " |-- BbAH: integer (nullable = true)\n",
      " |-- BbAHh: float (nullable = true)\n",
      " |-- BbMxAHH: float (nullable = true)\n",
      " |-- BbAvAHH: float (nullable = true)\n",
      " |-- BbMxAHA: float (nullable = true)\n",
      " |-- BbAvAHA: float (nullable = true)\n",
      " |-- PSCH: float (nullable = true)\n",
      " |-- PSCD: float (nullable = true)\n",
      " |-- PSCA: float (nullable = true)\n",
      "\n"
     ]
    },
    {
     "name": "stderr",
     "output_type": "stream",
     "text": [
      "22/01/17 21:00:16 WARN CSVHeaderChecker: Number of column in CSV header is not equal to number of fields in the schema:\n",
      " Header length: 67, schema size: 61\n",
      "CSV file: hdfs://hdfs-nn:9000/demo/bronze/F_SP_League.csv\n"
     ]
    }
   ],
   "source": [
    "from pyspark.sql.functions import col\n",
    "\n",
    "#READ THE .CSV FILE IN HDFS AND PUT IT IN A DATAFRAME\n",
    "hdfs_path = \"hdfs://hdfs-nn:9000/demo/bronze/F_SP_League.csv\"\n",
    "\n",
    "#DEFINE THE SCHEMA OF THE DATAFRAME\n",
    "customSchema = StructType([\n",
    "    StructField(\"Div\", StringType(), True),\n",
    "    StructField(\"Date\", StringType(), True),\n",
    "    StructField(\"HomeTeam\", StringType(), True),        \n",
    "    StructField(\"AwayTeam\", StringType(), True),\n",
    "    StructField(\"FTHG\", IntegerType(), True),\n",
    "    StructField(\"FTAG\", IntegerType(), True),\n",
    "    StructField(\"FTR\", StringType(), True),\n",
    "    StructField(\"HTHG\", IntegerType(), True),\n",
    "    StructField(\"HTAG\", IntegerType(), True),\n",
    "    StructField(\"HTR\", StringType(), True),\n",
    "    StructField(\"HS\", IntegerType(), True),\n",
    "    StructField(\"AS\", IntegerType(), True),\n",
    "    StructField(\"HST\", IntegerType(), True),\n",
    "    StructField(\"AST\", IntegerType(), True),\n",
    "    StructField(\"HF\", IntegerType(), True),\n",
    "    StructField(\"AF\", IntegerType(), True),\n",
    "    StructField(\"HC\", IntegerType(), True),\n",
    "    StructField(\"AC\", IntegerType(), True),\n",
    "    StructField(\"HY\", IntegerType(), True),\n",
    "    StructField(\"AY\", IntegerType(), True),\n",
    "    StructField(\"HR\", IntegerType(), True),\n",
    "    StructField(\"AR\", IntegerType(), True),\n",
    "    StructField(\"B365H\", FloatType(), True),\n",
    "    StructField(\"B365D\", FloatType(), True),\n",
    "    StructField(\"B365A\", FloatType(), True),\n",
    "    StructField(\"BWH\", FloatType(), True),\n",
    "    StructField(\"BWD\", FloatType(), True),\n",
    "    StructField(\"BWA\", FloatType(), True),\n",
    "    StructField(\"IWH\", FloatType(), True),\n",
    "    StructField(\"IWD\", FloatType(), True),\n",
    "    StructField(\"IWA\", FloatType(), True),\n",
    "    StructField(\"PSH\", FloatType(), True),\n",
    "    StructField(\"PSD\", FloatType(), True),\n",
    "    StructField(\"PSA\", FloatType(), True),\n",
    "    StructField(\"WHH\", FloatType(), True),\n",
    "    StructField(\"WHD\", FloatType(), True),\n",
    "    StructField(\"WHA\", FloatType(), True),\n",
    "    StructField(\"VCH\", FloatType(), True),\n",
    "    StructField(\"VCD\", FloatType(), True),\n",
    "    StructField(\"VCA\", FloatType(), True),\n",
    "    StructField(\"Bb1X2\", IntegerType(), True),\n",
    "    StructField(\"BbMxH\", FloatType(), True),\n",
    "    StructField(\"BbAvH\", FloatType(), True),\n",
    "    StructField(\"BbMxD\", FloatType(), True),\n",
    "    StructField(\"BbAvD\", FloatType(), True),\n",
    "    StructField(\"BbMxA\", FloatType(), True),\n",
    "    StructField(\"BbAvA\", FloatType(), True),\n",
    "    StructField(\"BbOU\", IntegerType(), True),\n",
    "    StructField(\"BbMx>2.5\", FloatType(), True),\n",
    "    StructField(\"BbAv>2.5\", FloatType(), True),\n",
    "    StructField(\"BbMx<2.5\", FloatType(), True),\n",
    "    StructField(\"BbAv<2.5\", FloatType(), True),\n",
    "    StructField(\"BbAH\", IntegerType(), True),\n",
    "    StructField(\"BbAHh\", FloatType(), True),\n",
    "    StructField(\"BbMxAHH\", FloatType(), True),\n",
    "    StructField(\"BbAvAHH\", FloatType(), True),\n",
    "    StructField(\"BbMxAHA\", FloatType(), True),\n",
    "    StructField(\"BbAvAHA\", FloatType(), True),\n",
    "    StructField(\"PSCH\", FloatType(), True),\n",
    "    StructField(\"PSCD\", FloatType(), True),\n",
    "    StructField(\"PSCA\", FloatType(), True)\n",
    "])\n",
    "\n",
    "st_bd = spark \\\n",
    "    .read \\\n",
    "    .option(\"delimiter\",\",\") \\\n",
    "    .option(\"header\",\"true\") \\\n",
    "    .schema(customSchema) \\\n",
    "    .csv(hdfs_path) \\\n",
    "\n",
    "st_bd.show()\n",
    "st_bd.printSchema()"
   ]
  },
  {
   "cell_type": "code",
   "execution_count": 5,
   "id": "fc3cb8bd",
   "metadata": {},
   "outputs": [
    {
     "name": "stderr",
     "output_type": "stream",
     "text": [
      "                                                                                \r"
     ]
    }
   ],
   "source": [
    "#WRITE THE DATAFRAME TO HIVE DELTALAKE TABLE\n",
    "\n",
    "st_bd \\\n",
    "    .select(\"HomeTeam\",\"AwayTeam\", \"FTR\", \"DATE\", \"HS\", \"AS\", \"FTHG\", \"FTAG\", \"HST\", \"AST\", \"HC\", \"AC\", \"Div\") \\\n",
    "    .write \\\n",
    "    .mode(\"overwrite\") \\\n",
    "    .partitionBy(\"Div\") \\\n",
    "    .format(\"delta\") \\\n",
    "    .save(\"hdfs://hdfs-nn:9000/demo/silver/F_SP_League.db/deltalake_table/\")"
   ]
  },
  {
   "cell_type": "code",
   "execution_count": 6,
   "id": "344628c8",
   "metadata": {},
   "outputs": [
    {
     "name": "stdout",
     "output_type": "stream",
     "text": [
      "+--------------------+--------------------+---+--------+----+----+---+---+---+---+---+---+---+\n",
      "|            HomeTeam|            AwayTeam|FTR|    Date|FTHG|FTAG| HS| AS|HST|AST| HC| AC|Div|\n",
      "+--------------------+--------------------+---+--------+----+----+---+---+---+---+---+---+---+\n",
      "|               Reims|            Paris SG|  D|08/08/14|   2|   2|  9| 16|  3|  6|  1|  5| F1|\n",
      "|              Bastia|           Marseille|  D|09/08/14|   3|   3| 13|  9|  4|  4|  1|  4| F1|\n",
      "|Evian Thonon Gail...|                Caen|  A|09/08/14|   0|   3| 10| 12|  2|  7|  5|  6| F1|\n",
      "|            Guingamp|          St Etienne|  A|09/08/14|   0|   2|  6|  7|  3|  2|  4|  5| F1|\n",
      "|               Lille|                Metz|  D|09/08/14|   0|   0| 14|  2|  3|  1|  8|  3| F1|\n",
      "|         Montpellier|            Bordeaux|  A|09/08/14|   0|   1| 15|  7|  3|  3|  5|  1| F1|\n",
      "|              Nantes|                Lens|  H|09/08/14|   1|   0| 14|  5|  4|  2|  3|  2| F1|\n",
      "|                Nice|            Toulouse|  H|09/08/14|   3|   2| 22| 11|  8|  3| 12|  7| F1|\n",
      "|                Lyon|              Rennes|  H|10/08/14|   2|   0| 19|  7|  6|  1|  5|  1| F1|\n",
      "|              Monaco|             Lorient|  A|10/08/14|   1|   2| 12|  9|  7|  3| 10|  4| F1|\n",
      "|                Caen|               Lille|  A|15/08/14|   0|   1| 11|  8|  3|  1|  3|  9| F1|\n",
      "|                Lens|            Guingamp|  A|16/08/14|   0|   1| 14| 10|  4|  4|  7|  2| F1|\n",
      "|             Lorient|                Nice|  D|16/08/14|   0|   0| 13|  9|  6|  2|  8|  2| F1|\n",
      "|                Metz|              Nantes|  D|16/08/14|   1|   1| 12|  6|  5|  2|  4|  7| F1|\n",
      "|            Paris SG|              Bastia|  H|16/08/14|   2|   0| 15|  5|  5|  1|  4|  4| F1|\n",
      "|              Rennes|Evian Thonon Gail...|  H|16/08/14|   6|   2|  9|  9|  7|  3|  6|  1| F1|\n",
      "|            Toulouse|                Lyon|  H|16/08/14|   2|   1| 10| 18|  6|  3|  6|  4| F1|\n",
      "|            Bordeaux|              Monaco|  H|17/08/14|   4|   1|  9|  9|  5|  3|  3|  4| F1|\n",
      "|           Marseille|         Montpellier|  A|17/08/14|   0|   2| 22| 10|  5|  3|  6|  1| F1|\n",
      "|          St Etienne|               Reims|  H|17/08/14|   3|   1| 19|  7|  9|  2|  6|  3| F1|\n",
      "+--------------------+--------------------+---+--------+----+----+---+---+---+---+---+---+---+\n",
      "only showing top 20 rows\n",
      "\n"
     ]
    }
   ],
   "source": [
    "#MOSTRAR A DELTALAKE TABLE\n",
    "\n",
    "spark.sql(\n",
    "    \"\"\"\n",
    "    SELECT *\n",
    "    FROM F_SP_League.deltalake_table\n",
    "    \"\"\"\n",
    ").show()"
   ]
  },
  {
   "cell_type": "code",
   "execution_count": 7,
   "id": "ece9c4f2",
   "metadata": {},
   "outputs": [],
   "source": [
    "#TRANSFORMATIONS"
   ]
  },
  {
   "cell_type": "code",
   "execution_count": 8,
   "id": "6e80db6a",
   "metadata": {},
   "outputs": [
    {
     "name": "stderr",
     "output_type": "stream",
     "text": [
      "                                                                                \r"
     ]
    },
    {
     "data": {
      "text/plain": [
       "DataFrame[]"
      ]
     },
     "execution_count": 8,
     "metadata": {},
     "output_type": "execute_result"
    }
   ],
   "source": [
    "#ALTERAR A COLUNA DIV\n",
    "\n",
    "#(F1 para Ligue_1)\n",
    "\n",
    "spark.sql(\n",
    "    \"\"\"    \n",
    "    UPDATE F_SP_League.deltalake_table\n",
    "    SET Div = REPLACE(Div, 'F1', 'France')\n",
    "    \"\"\"\n",
    ")"
   ]
  },
  {
   "cell_type": "code",
   "execution_count": 9,
   "id": "ff3a1b8c",
   "metadata": {},
   "outputs": [
    {
     "name": "stderr",
     "output_type": "stream",
     "text": [
      "                                                                                \r"
     ]
    },
    {
     "data": {
      "text/plain": [
       "DataFrame[]"
      ]
     },
     "execution_count": 9,
     "metadata": {},
     "output_type": "execute_result"
    }
   ],
   "source": [
    "#(SP1 para La_Liga)\n",
    "\n",
    "spark.sql(\n",
    "    \"\"\"    \n",
    "    UPDATE F_SP_League.deltalake_table\n",
    "    SET Div = REPLACE(Div, 'SP1', 'Spain')\n",
    "    \"\"\"\n",
    ")"
   ]
  },
  {
   "cell_type": "code",
   "execution_count": 10,
   "id": "1b96ae35",
   "metadata": {},
   "outputs": [
    {
     "name": "stderr",
     "output_type": "stream",
     "text": [
      "                                                                                \r"
     ]
    },
    {
     "data": {
      "text/plain": [
       "DataFrame[]"
      ]
     },
     "execution_count": 10,
     "metadata": {},
     "output_type": "execute_result"
    }
   ],
   "source": [
    "#ALTERAR A COLUNA FTR\n",
    "\n",
    "#(H para Home)\n",
    "\n",
    "spark.sql(\n",
    "    \"\"\"    \n",
    "    UPDATE F_SP_League.deltalake_table\n",
    "    SET FTR = REPLACE(FTR, 'H', 'Home')\n",
    "    \"\"\"\n",
    ")"
   ]
  },
  {
   "cell_type": "code",
   "execution_count": 11,
   "id": "e0f505df",
   "metadata": {},
   "outputs": [
    {
     "name": "stderr",
     "output_type": "stream",
     "text": [
      "                                                                                \r"
     ]
    },
    {
     "data": {
      "text/plain": [
       "DataFrame[]"
      ]
     },
     "execution_count": 11,
     "metadata": {},
     "output_type": "execute_result"
    }
   ],
   "source": [
    "#(A para Away)\n",
    "\n",
    "spark.sql(\n",
    "    \"\"\"    \n",
    "    UPDATE F_SP_League.deltalake_table\n",
    "    SET FTR = REPLACE(FTR, 'A', 'Away')\n",
    "    \"\"\"\n",
    ")"
   ]
  },
  {
   "cell_type": "code",
   "execution_count": 12,
   "id": "6abb1630",
   "metadata": {},
   "outputs": [
    {
     "name": "stderr",
     "output_type": "stream",
     "text": [
      "                                                                                \r"
     ]
    },
    {
     "data": {
      "text/plain": [
       "DataFrame[]"
      ]
     },
     "execution_count": 12,
     "metadata": {},
     "output_type": "execute_result"
    }
   ],
   "source": [
    "#(D para Draw)\n",
    "\n",
    "spark.sql(\n",
    "    \"\"\"    \n",
    "    UPDATE F_SP_League.deltalake_table\n",
    "    SET FTR = REPLACE(FTR, 'D', 'Draw')\n",
    "    \"\"\"\n",
    ")"
   ]
  },
  {
   "cell_type": "code",
   "execution_count": 13,
   "id": "1725f058",
   "metadata": {},
   "outputs": [],
   "source": [
    "#DATA QUALITY TREATMENT"
   ]
  },
  {
   "cell_type": "code",
   "execution_count": 14,
   "id": "5e5b8cb8",
   "metadata": {},
   "outputs": [],
   "source": [
    "#LOAD THE DATAFRAME\n",
    "st_bd = spark.read.format(\"delta\").load(\"hdfs://hdfs-nn:9000/demo/silver/F_SP_League.db/deltalake_table/\")"
   ]
  },
  {
   "cell_type": "code",
   "execution_count": 15,
   "id": "fb294177",
   "metadata": {},
   "outputs": [
    {
     "data": {
      "text/plain": [
       "DataFrame[Date: date]"
      ]
     },
     "execution_count": 15,
     "metadata": {},
     "output_type": "execute_result"
    }
   ],
   "source": [
    "#ALTERAR A DATA DE STRING PARA DATE (...)\n",
    "\n",
    "st_bd.select(to_date(st_bd.Date).alias('Date'))"
   ]
  },
  {
   "cell_type": "code",
   "execution_count": 16,
   "id": "8434ae40",
   "metadata": {},
   "outputs": [
    {
     "data": {
      "text/plain": [
       "DataFrame[HomeTeam: string, AwayTeam: string, Result: string, Date: string, HomeT_Goals: int, AwayT_Goals: int, HS: int, AS: int, HomeT_Shots_Target: int, AwayT_Shots_Target: int, HomeT_Corners: int, AwayT_Corners: int, Division: string]"
      ]
     },
     "execution_count": 16,
     "metadata": {},
     "output_type": "execute_result"
    }
   ],
   "source": [
    "#RENOMEAR AS COLUNAS (...)\n",
    "\n",
    "st_bd    .withColumnRenamed(\"FTR\", \"Result\")    .withColumnRenamed(\"DATE\", \"Date\")    .withColumnRenamed(\"FTHG\", \"HomeT_Goals\")    .withColumnRenamed(\"FTAG\", \"AwayT_Goals\")    .withColumnRenamed(\"HST\", \"HomeT_Shots_Target\")    .withColumnRenamed(\"AST\", \"AwayT_Shots_Target\")    .withColumnRenamed(\"HC\", \"HomeT_Corners\")     .withColumnRenamed(\"AC\", \"AwayT_Corners\")    .withColumnRenamed(\"Div\", \"Division\")"
   ]
  },
  {
   "cell_type": "code",
   "execution_count": 17,
   "id": "41b5698c",
   "metadata": {},
   "outputs": [
    {
     "name": "stdout",
     "output_type": "stream",
     "text": [
      "+----------+--------------------+----+--------+----+----+---+---+---+---+---+---+------+-------------------+\n",
      "|  HomeTeam|            AwayTeam| FTR|    Date|FTHG|FTAG| HS| AS|HST|AST| HC| AC|   Div|Duplicate_indicator|\n",
      "+----------+--------------------+----+--------+----+----+---+---+---+---+---+---+------+-------------------+\n",
      "|St Etienne|                Lyon|Home|30/11/14|   3|   0| 11| 12|  5|  3|  4|  6|France|                  0|\n",
      "|     Lille|Evian Thonon Gail...|Home|07/01/15|   1|   0| 11|  6|  3|  2|  3|  6|France|                  0|\n",
      "|      Lyon|                Metz|Home|25/01/15|   2|   0| 21|  5|  6|  2|  6|  2|France|                  0|\n",
      "|    Rennes|           Marseille|Draw|07/02/15|   1|   1| 11| 10|  2|  2|  4|  4|France|                  0|\n",
      "|  Guingamp|                Lyon|Away|04/04/15|   1|   3|  4| 10|  1|  6|  0|  3|France|                  0|\n",
      "|     Lille|               Reims|Home|04/04/15|   3|   1| 14| 10|  8|  3|  0|  2|France|                  0|\n",
      "| Marseille|         Montpellier|Draw|06/12/15|   2|   2| 14|  6|  8|  2|  6|  3|France|                  0|\n",
      "|      Lyon|          St Etienne|Home|02/10/16|   2|   0| 14| 11|  7|  3|  7|  7|France|                  0|\n",
      "|St Etienne|               Nancy|Draw|21/12/16|   0|   0| 18|  5|  3|  3| 12|  2|France|                  0|\n",
      "|   Lorient|               Dijon|Away|28/01/17|   2|   3| 15|  5|  6|  4|  2|  2|France|                  0|\n",
      "|St Etienne|         Montpellier|Away|20/10/17|   0|   1| 21| 15|  4|  4|  6|  2|France|                  0|\n",
      "|    Troyes|              Angers|Home|25/11/17|   3|   0|  9|  7|  3|  3|  4|  3|France|                  0|\n",
      "|      Nice|              Monaco|Home|24/05/19|   2|   0|  8| 11|  2|  4|  3|  4|France|                  0|\n",
      "|    Getafe|           Vallecano|Away|04/01/15|   1|   2| 12| 16|  4|  7|  6|  4| Spain|                  0|\n",
      "|Las Palmas|             Espanol|Home|22/04/16|   4|   0| 14| 11|  9|  5|  5|  5| Spain|                  0|\n",
      "|     Eibar|               Betis|Home|25/11/16|   3|   1| 16|  7|  9|  2|  5|  1| Spain|                  0|\n",
      "|Las Palmas|          Villarreal|Home|17/03/17|   1|   0| 19|  8| 10|  3|  8|  5| Spain|                  0|\n",
      "|     Celta|              Getafe|Draw|01/10/18|   1|   1|  8| 12|  2|  4|  3|  9| Spain|                  0|\n",
      "|    Girona|             Sevilla|Home|28/04/19|   1|   0| 15|  7|  4|  3|  3|  6| Spain|                  0|\n",
      "|Valladolid|            Valencia|Away|18/05/19|   0|   2| 19|  9|  4|  6|  8|  2| Spain|                  0|\n",
      "+----------+--------------------+----+--------+----+----+---+---+---+---+---+---+------+-------------------+\n",
      "only showing top 20 rows\n",
      "\n"
     ]
    }
   ],
   "source": [
    "#VERIFY IF EXISTS ANY DUPLICATED VALUES\n",
    "import pyspark.sql.functions as f\n",
    "st_bd.join(\n",
    "    st_bd.groupBy(st_bd.columns).agg((f.count(\"*\")>1).cast(\"int\").alias(\"Duplicate_indicator\")),\n",
    "    on=st_bd.columns,\n",
    "    how=\"inner\"\n",
    ").show()"
   ]
  },
  {
   "cell_type": "code",
   "execution_count": 18,
   "id": "2d4d3486",
   "metadata": {},
   "outputs": [
    {
     "name": "stdout",
     "output_type": "stream",
     "text": [
      "+---------------+\n",
      "|Number_of_lines|\n",
      "+---------------+\n",
      "|           3800|\n",
      "+---------------+\n",
      "\n"
     ]
    }
   ],
   "source": [
    "#COUNT THE NUMBER OF LINES THAT ARE ON THE DELTALAKE TABLE\n",
    "spark.sql(\n",
    "    \"\"\"\n",
    "    Select COUNT(*) as Number_of_lines FROM F_SP_League.deltalake_table\n",
    "    \"\"\"\n",
    ").show()"
   ]
  },
  {
   "cell_type": "code",
   "execution_count": 19,
   "id": "3a75feaf",
   "metadata": {},
   "outputs": [
    {
     "data": {
      "text/plain": [
       "[Row(HomeTeam='Nimes'),\n",
       " Row(HomeTeam='Nice'),\n",
       " Row(HomeTeam='Montpellier'),\n",
       " Row(HomeTeam='Dijon'),\n",
       " Row(HomeTeam='Betis'),\n",
       " Row(HomeTeam='Angers'),\n",
       " Row(HomeTeam='Lille'),\n",
       " Row(HomeTeam='Ath Madrid'),\n",
       " Row(HomeTeam='Nantes'),\n",
       " Row(HomeTeam='Ath Bilbao'),\n",
       " Row(HomeTeam='Marseille'),\n",
       " Row(HomeTeam='Espanol'),\n",
       " Row(HomeTeam='Malaga'),\n",
       " Row(HomeTeam='Villarreal'),\n",
       " Row(HomeTeam='Real Madrid'),\n",
       " Row(HomeTeam='Caen'),\n",
       " Row(HomeTeam='Almeria'),\n",
       " Row(HomeTeam='La Coruna'),\n",
       " Row(HomeTeam='Lens'),\n",
       " Row(HomeTeam='Elche'),\n",
       " Row(HomeTeam='Lyon'),\n",
       " Row(HomeTeam='Vallecano'),\n",
       " Row(HomeTeam='Leganes'),\n",
       " Row(HomeTeam='Granada'),\n",
       " Row(HomeTeam='Barcelona'),\n",
       " Row(HomeTeam='Monaco'),\n",
       " Row(HomeTeam='Bordeaux'),\n",
       " Row(HomeTeam='Celta'),\n",
       " Row(HomeTeam='Troyes'),\n",
       " Row(HomeTeam='Ajaccio GFCO'),\n",
       " Row(HomeTeam='Eibar'),\n",
       " Row(HomeTeam='Guingamp'),\n",
       " Row(HomeTeam='Toulouse'),\n",
       " Row(HomeTeam='Strasbourg'),\n",
       " Row(HomeTeam='Sociedad'),\n",
       " Row(HomeTeam='Reims'),\n",
       " Row(HomeTeam='St Etienne'),\n",
       " Row(HomeTeam='Rennes'),\n",
       " Row(HomeTeam='Metz'),\n",
       " Row(HomeTeam='Paris SG'),\n",
       " Row(HomeTeam='Girona'),\n",
       " Row(HomeTeam='Osasuna'),\n",
       " Row(HomeTeam='Nancy'),\n",
       " Row(HomeTeam='Huesca'),\n",
       " Row(HomeTeam='Valencia'),\n",
       " Row(HomeTeam='Las Palmas'),\n",
       " Row(HomeTeam='Evian Thonon Gaillard'),\n",
       " Row(HomeTeam='Bastia'),\n",
       " Row(HomeTeam='Sevilla'),\n",
       " Row(HomeTeam='Levante'),\n",
       " Row(HomeTeam='Getafe'),\n",
       " Row(HomeTeam='Lorient'),\n",
       " Row(HomeTeam='Cordoba'),\n",
       " Row(HomeTeam='Alaves'),\n",
       " Row(HomeTeam='Sp Gijon'),\n",
       " Row(HomeTeam='Amiens'),\n",
       " Row(HomeTeam='Valladolid')]"
      ]
     },
     "execution_count": 19,
     "metadata": {},
     "output_type": "execute_result"
    }
   ],
   "source": [
    "#IDENTIFICAR VALORES DISTINTOS \n",
    "#(por exemplo, da coluna HomeTeam)\n",
    "\n",
    "st_bd.select('HomeTeam').distinct().collect()"
   ]
  },
  {
   "cell_type": "code",
   "execution_count": 20,
   "id": "afb048fc",
   "metadata": {},
   "outputs": [
    {
     "name": "stdout",
     "output_type": "stream",
     "text": [
      "+--------+--------+----+--------+----+----+----+----+----+----+----+----+------+\n",
      "|HomeTeam|AwayTeam| FTR|    Date|FTHG|FTAG|  HS|  AS| HST| AST|  HC|  AC|   Div|\n",
      "+--------+--------+----+--------+----+----+----+----+----+----+----+----+------+\n",
      "|  Bastia|    Lyon|Away|16/04/17|   0|   3|null|null|null|null|null|null|France|\n",
      "+--------+--------+----+--------+----+----+----+----+----+----+----+----+------+\n",
      "\n"
     ]
    }
   ],
   "source": [
    "#IDENTIFICAR VALORES NULOS\n",
    "#(por exemplo, da coluna HST)\n",
    "\n",
    "st_bd.filter(st_bd.HST.isNull()).show()"
   ]
  },
  {
   "cell_type": "code",
   "execution_count": 21,
   "id": "3a079893",
   "metadata": {},
   "outputs": [
    {
     "name": "stderr",
     "output_type": "stream",
     "text": [
      "\r",
      "[Stage 67:==================================================>   (187 + 8) / 200]\r",
      "\r",
      "                                                                                \r"
     ]
    },
    {
     "data": {
      "text/plain": [
       "[Row(Div='France'), Row(Div='Spain')]"
      ]
     },
     "execution_count": 21,
     "metadata": {},
     "output_type": "execute_result"
    }
   ],
   "source": [
    "#IDENTIFICAR VALORES DISTINTOS \n",
    "st_bd.select('Div').distinct().collect()"
   ]
  },
  {
   "cell_type": "code",
   "execution_count": 22,
   "id": "55f4782b",
   "metadata": {},
   "outputs": [
    {
     "name": "stderr",
     "output_type": "stream",
     "text": [
      "                                                                                \r"
     ]
    }
   ],
   "source": [
    "st_bd \\\n",
    "    .write \\\n",
    "    .mode(\"overwrite\") \\\n",
    "    .format(\"delta\") \\\n",
    "    .save(\"hdfs://hdfs-nn:9000/demo/silver/F_SP_League.db/deltalake_table/\")"
   ]
  },
  {
   "cell_type": "code",
   "execution_count": null,
   "id": "0e72680c",
   "metadata": {},
   "outputs": [],
   "source": []
  }
 ],
 "metadata": {
  "kernelspec": {
   "display_name": "Python 3 (ipykernel)",
   "language": "python",
   "name": "python3"
  },
  "language_info": {
   "codemirror_mode": {
    "name": "ipython",
    "version": 3
   },
   "file_extension": ".py",
   "mimetype": "text/x-python",
   "name": "python",
   "nbconvert_exporter": "python",
   "pygments_lexer": "ipython3",
   "version": "3.9.7"
  }
 },
 "nbformat": 4,
 "nbformat_minor": 5
}
