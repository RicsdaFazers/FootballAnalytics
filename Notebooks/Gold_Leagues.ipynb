{
 "cells": [
  {
   "cell_type": "code",
   "execution_count": 2,
   "id": "9adb4654",
   "metadata": {},
   "outputs": [],
   "source": [
    "from os import PathLike\n",
    "from hdfs import InsecureClient\n",
    "from pyspark.sql import SparkSession\n",
    "from pyspark.sql import Row\n",
    "from pyspark.sql.functions import *\n",
    "from delta import *\n",
    "from pyspark.sql.types import LongType, StringType, StructField, StructType, BooleanType, ArrayType, IntegerType, FloatType, DateType\n",
    "import pyspark.sql.functions as f"
   ]
  },
  {
   "cell_type": "code",
   "execution_count": 3,
   "id": "7639ef9e",
   "metadata": {},
   "outputs": [],
   "source": [
    "#SPARK CONFIG\n",
    "warehouse_location = 'hdfs://hdfs-nn:9000/demo/'\n",
    "\n",
    "builder = SparkSession \\\n",
    "    .builder \\\n",
    "    .appName(\"Python Spark\") \\\n",
    "    .config(\"spark.sql.warehouse.dir\", warehouse_location) \\\n",
    "    .config(\"hive.metastore.uris\", \"thrift://hive-metastore:9083\") \\\n",
    "    .config(\"spark.sql.extensions\", \"io.delta.sql.DeltaSparkSessionExtension\") \\\n",
    "    .config(\"spark.sql.catalog.spark_catalog\", \"org.apache.spark.sql.delta.catalog.DeltaCatalog\") \\\n",
    "    .config(\"spark.jars.packages\", \"io.delta:delta-core_2.12:1.0.0\") \\\n",
    "    .enableHiveSupport() \\\n",
    "\n",
    "spark = spark = configure_spark_with_delta_pip(builder).getOrCreate()"
   ]
  },
  {
   "cell_type": "code",
   "execution_count": 3,
   "id": "55410f4f",
   "metadata": {},
   "outputs": [
    {
     "data": {
      "text/plain": [
       "DataFrame[]"
      ]
     },
     "execution_count": 3,
     "metadata": {},
     "output_type": "execute_result"
    }
   ],
   "source": [
    "spark.sql(\n",
    "    \"\"\"\n",
    "    DROP TABLE IF EXISTS UC3_LS\n",
    "    \"\"\"\n",
    ")"
   ]
  },
  {
   "cell_type": "code",
   "execution_count": 4,
   "id": "b146e26c",
   "metadata": {},
   "outputs": [
    {
     "data": {
      "text/plain": [
       "DataFrame[]"
      ]
     },
     "execution_count": 4,
     "metadata": {},
     "output_type": "execute_result"
    }
   ],
   "source": [
    "#DROP TABLE\n",
    "spark.sql(\n",
    "    \"\"\"\n",
    "    DROP TABLE IF EXISTS UC3_LS.stats\n",
    "    \"\"\"\n",
    ")"
   ]
  },
  {
   "cell_type": "code",
   "execution_count": 5,
   "id": "cca9324e",
   "metadata": {},
   "outputs": [
    {
     "data": {
      "text/plain": [
       "DataFrame[]"
      ]
     },
     "execution_count": 5,
     "metadata": {},
     "output_type": "execute_result"
    }
   ],
   "source": [
    "# create gold database\n",
    "spark.sql(\n",
    "    \"\"\"\n",
    "    CREATE DATABASE IF NOT EXISTS UC3_LS LOCATION 'hdfs://hdfs-nn:9000/demo/gold/UC3_LS.db/'\n",
    "    \"\"\"\n",
    ")\n",
    "\n",
    "\n",
    "spark.sql(\n",
    "    \"\"\"\n",
    "    CREATE EXTERNAL TABLE UC3_LS.stats (\n",
    "    \n",
    "        Div STRING,\n",
    "        Team STRING,\n",
    "        Date STRING,\n",
    "        Media_golos DOUBLE,\n",
    "        Media_remates DOUBLE,\n",
    "        Media_remates_baliza DOUBLE,\n",
    "        Media_cantos DOUBLE,\n",
    "        Eficacia DOUBLE\n",
    "        \n",
    "    )\n",
    "    USING DELTA\n",
    "    LOCATION 'hdfs://hdfs-nn:9000/demo/gold/UC3_LS.db/stats/'\n",
    "    \"\"\"\n",
    ")"
   ]
  },
  {
   "cell_type": "code",
   "execution_count": 6,
   "id": "1355afd6",
   "metadata": {},
   "outputs": [
    {
     "name": "stdout",
     "output_type": "stream",
     "text": [
      "+--------------+-----------+----+----+----+----+---+---+---+---+---+---+-------+\n",
      "|      HomeTeam|   AwayTeam| FTR|Date|FTHG|FTAG| HS| AS|HST|AST| HC| AC|    Div|\n",
      "+--------------+-----------+----+----+----+----+---+---+---+---+---+---+-------+\n",
      "|     Liverpool|    Arsenal|Draw|2014|   2|   2| 27|  7| 10|  3| 10|  6|England|\n",
      "|       Swansea|Aston Villa|Home|2014|   1|   0|  7| 11|  2|  3|  4|  0|England|\n",
      "|     Liverpool|  Leicester|Draw|2015|   2|   2| 18| 16|  6|  3|  4|  5|England|\n",
      "|      West Ham|  Newcastle|Home|2015|   2|   0| 17| 14|  3|  4|  6|  7|England|\n",
      "|      Man City|  Newcastle|Home|2015|   6|   1| 23|  6| 11|  4|  6|  3|England|\n",
      "|    Sunderland|Southampton|Away|2015|   0|   1|  9| 11|  3|  4| 10| 11|England|\n",
      "|   Aston Villa|    Everton|Away|2016|   1|   3| 14| 10|  5|  7|  9|  8|England|\n",
      "|    Man United|    Watford|Home|2016|   1|   0| 14| 13|  3|  3|  9|  7|England|\n",
      "|       Norwich|   Man City|Draw|2016|   0|   0|  5| 15|  0|  3|  3|  8|England|\n",
      "|      Man City|    Watford|Home|2016|   2|   0| 13|  5|  7|  2|  5|  2|England|\n",
      "|Crystal Palace|    Chelsea|Away|2016|   0|   1|  6| 13|  2|  6|  5|  3|England|\n",
      "|         Stoke|    Watford|Home|2017|   2|   0| 17|  9|  5|  2|  7|  6|England|\n",
      "|     Tottenham|    Burnley|Draw|2017|   1|   1| 28| 13|  5|  3| 10|  7|England|\n",
      "|     West Brom|      Stoke|Draw|2017|   1|   1| 10| 16|  2|  2| 10|  4|England|\n",
      "|Crystal Palace|Southampton|Away|2017|   0|   1| 14| 13|  3|  4|  5|  5|England|\n",
      "|     West Brom|   West Ham|Draw|2017|   0|   0|  6|  9|  1|  1|  2|  3|England|\n",
      "|   Bournemouth|   West Ham|Draw|2017|   3|   3| 26| 10| 10|  5|  7|  4|England|\n",
      "|     Liverpool|  Leicester|Draw|2019|   1|   1| 10|  5|  3|  2|  7|  1|England|\n",
      "|     Tottenham|    Everton|Draw|2019|   2|   2| 11| 17|  3|  9|  7|  4|England|\n",
      "|       Swansea|        QPR|Home|2014|   2|   0| 18|  5|  7|  1|  9|  2|England|\n",
      "+--------------+-----------+----+----+----+----+---+---+---+---+---+---+-------+\n",
      "only showing top 20 rows\n",
      "\n"
     ]
    }
   ],
   "source": [
    "from pyspark.sql.functions import substring, avg, sum, round\n",
    "from pyspark.sql.functions import col, concat_ws, concat, lit, desc, asc\n",
    "\n",
    "# read data from tables in projeto.db\n",
    "tabela = spark.read.format(\"delta\").load(\"hdfs://hdfs-nn:9000/demo/silver/league_stats.db/deltalake_table/\")\n",
    "\n",
    "\n",
    "silver_table = tabela \\\n",
    "    .withColumn(\"Date\", concat(lit(\"20\"), substring(col(\"Date\"), 7, 8)))\n",
    "\n",
    "\n",
    "silver_table.show()"
   ]
  },
  {
   "cell_type": "code",
   "execution_count": 7,
   "id": "193e1ae0",
   "metadata": {},
   "outputs": [
    {
     "name": "stdout",
     "output_type": "stream",
     "text": [
      "+--------------+----+-------+------------------+------------------+------------------+------------------+---+-----+\n",
      "|          Team|Date|    Div|              FTHG|               HSH|              HSTH|               HCH|SHS|SFTHG|\n",
      "+--------------+----+-------+------------------+------------------+------------------+------------------+---+-----+\n",
      "|           QPR|2014|England|               1.7|              17.2|               5.2|               6.6|172|   17|\n",
      "|      Cagliari|2016|  Italy|2.2222222222222223| 16.77777777777778| 5.555555555555555| 6.666666666666667|151|   20|\n",
      "|    Leverkusen|2014|Germany|               2.0| 6.777777777777778| 2.888888888888889|3.5555555555555554| 61|   18|\n",
      "|    Man United|2016|England|              1.65|              17.0|              6.05|              7.45|340|   33|\n",
      "|     Newcastle|2019|England|1.8888888888888888| 15.88888888888889| 5.666666666666667| 5.333333333333333|143|   17|\n",
      "|Crystal Palace|2014|England|1.1111111111111112|              12.0| 3.888888888888889| 6.666666666666667|108|   10|\n",
      "|         Genoa|2019|  Italy|0.7777777777777778| 7.444444444444445| 4.666666666666667| 4.555555555555555| 67|    7|\n",
      "|      Freiburg|2015|Germany|1.4444444444444444| 15.88888888888889| 6.222222222222222| 5.555555555555555|143|   13|\n",
      "|    Hoffenheim|2017|Germany|               2.0|11.823529411764707|               4.0| 4.411764705882353|201|   34|\n",
      "|     Sampdoria|2017|  Italy|               2.0|13.421052631578947| 4.578947368421052| 5.315789473684211|255|   38|\n",
      "|          Hull|2016|England|               1.1|               9.9|               3.3|               3.4| 99|   11|\n",
      "|       Udinese|2015|  Italy|0.9473684210526315| 12.31578947368421| 4.631578947368421|3.8947368421052633|234|   18|\n",
      "|    Leverkusen|2018|Germany|1.4705882352941178|10.117647058823529|4.0588235294117645|               4.0|172|   25|\n",
      "|       Burnley|2019|England|1.3333333333333333|11.333333333333334|3.2222222222222223| 4.777777777777778|102|   12|\n",
      "|         Milan|2016|  Italy|               1.5|              12.3|              3.95|              4.85|246|   30|\n",
      "|    M'gladbach|2017|Germany| 1.588235294117647|13.058823529411764| 4.470588235294118| 4.764705882352941|222|   27|\n",
      "|       Arsenal|2017|England|              2.25|              19.4|               7.3|              7.55|388|   45|\n",
      "|     West Brom|2017|England|               1.0|11.714285714285714| 3.857142857142857| 5.095238095238095|246|   21|\n",
      "| Bayern Munich|2016|Germany|2.6470588235294117| 6.647058823529412|2.6470588235294117| 2.411764705882353|113|   45|\n",
      "|         Genoa|2018|  Italy|              1.35|             10.25|              4.55|               4.8|205|   27|\n",
      "|    Hoffenheim|2018|Germany| 2.176470588235294|10.058823529411764| 3.588235294117647| 4.176470588235294|171|   37|\n",
      "|       FC Koln|2014|Germany|               0.5|             13.75|              3.75|             5.625|110|    4|\n",
      "|    Man United|2014|England|               2.2|              14.0|               5.2|               5.5|140|   22|\n",
      "|        Fulham|2019|England|1.1111111111111112|12.333333333333334|3.3333333333333335| 5.555555555555555|111|   10|\n",
      "|     Stuttgart|2017|Germany|             1.125|            12.625|              3.75|               4.0|101|    9|\n",
      "|         Stoke|2016|England|1.2105263157894737|12.052631578947368| 3.736842105263158| 5.578947368421052|229|   23|\n",
      "|       Palermo|2016|  Italy|0.8947368421052632|14.842105263157896| 6.052631578947368| 5.368421052631579|282|   17|\n",
      "|          Roma|2016|  Italy|               2.6|              10.5|               3.6|              4.75|210|   52|\n",
      "|       Burnley|2014|England|               0.7|              12.6|               2.8|               4.2|126|    7|\n",
      "|          Hull|2014|England|0.8888888888888888|11.555555555555555| 3.111111111111111| 4.444444444444445|104|    8|\n",
      "+--------------+----+-------+------------------+------------------+------------------+------------------+---+-----+\n",
      "only showing top 30 rows\n",
      "\n"
     ]
    },
    {
     "data": {
      "text/plain": [
       "380"
      ]
     },
     "execution_count": 7,
     "metadata": {},
     "output_type": "execute_result"
    }
   ],
   "source": [
    "homeTeam_table = silver_table \\\n",
    "    .groupBy(\"HomeTeam\", \"Date\", \"Div\") \\\n",
    "    .agg(\n",
    "        avg(silver_table.FTHG).alias(\"FTHG\"),\n",
    "        avg(silver_table.HS).alias(\"HSH\"),\n",
    "        avg(silver_table.HST).alias(\"HSTH\"),\n",
    "        avg(silver_table.HC).alias(\"HCH\"),\n",
    "        sum(silver_table.HS).alias(\"SHS\"),\n",
    "        sum(silver_table.FTHG).alias(\"SFTHG\")\n",
    "    \n",
    "    ) \\\n",
    "    .withColumnRenamed(\"HomeTeam\", \"Team\") \n",
    "\n",
    "homeTeam_table.show(n=30)\n",
    "homeTeam_table.count()"
   ]
  },
  {
   "cell_type": "code",
   "execution_count": 8,
   "id": "cd58e305",
   "metadata": {},
   "outputs": [
    {
     "name": "stdout",
     "output_type": "stream",
     "text": [
      "+--------------+----+-------+------------------+------------------+------------------+------------------+---+-----+\n",
      "|          Team|Date|    Div|              FTAG|               ASA|              ASTA|               ACA|SAS|SFTAG|\n",
      "+--------------+----+-------+------------------+------------------+------------------+------------------+---+-----+\n",
      "|           QPR|2014|England|0.4444444444444444|10.666666666666666|2.2222222222222223|               4.0| 96|    4|\n",
      "|      Cagliari|2016|  Italy|0.7777777777777778| 6.666666666666667| 15.11111111111111|2.3333333333333335| 60|    7|\n",
      "|    Leverkusen|2014|Germany|              1.25|              4.75|            16.125|             2.125| 38|   10|\n",
      "|    Man United|2016|England|1.2777777777777777|11.444444444444445|3.7222222222222223| 4.888888888888889|206|   23|\n",
      "|Crystal Palace|2014|England|               1.0|               9.4|               3.4|               5.0| 94|   10|\n",
      "|     Newcastle|2019|England|1.1111111111111112| 10.11111111111111| 2.888888888888889| 3.888888888888889| 91|   10|\n",
      "|         Genoa|2019|  Italy|               0.7|               5.6|              13.3|               1.9| 56|    7|\n",
      "|    Hoffenheim|2017|Germany|1.6111111111111112| 4.666666666666667|              14.5|1.8333333333333333| 84|   29|\n",
      "|      Freiburg|2015|Germany|              0.75|             5.875|            15.375|               1.5| 47|    6|\n",
      "|     Sampdoria|2017|  Italy| 1.263157894736842|               6.0|              14.0|2.3684210526315788|114|   24|\n",
      "|          Hull|2016|England|0.5555555555555556|10.333333333333334|3.6666666666666665| 5.111111111111111| 93|    5|\n",
      "|       Udinese|2015|  Italy|               1.0|              4.75|              14.7|              2.25| 95|   20|\n",
      "|    Leverkusen|2018|Germany|1.4705882352941178| 4.352941176470588|12.764705882352942|2.6470588235294117| 74|   25|\n",
      "|       Burnley|2019|England|1.5555555555555556| 8.777777777777779|3.4444444444444446|3.6666666666666665| 79|   14|\n",
      "|         Milan|2016|  Italy|1.2222222222222223| 4.722222222222222|14.777777777777779|2.2777777777777777| 85|   22|\n",
      "|    M'gladbach|2017|Germany|1.6666666666666667| 5.555555555555555|              11.0|1.4444444444444444|100|   30|\n",
      "|       Arsenal|2017|England|1.4761904761904763|              13.0| 4.571428571428571| 5.476190476190476|273|   31|\n",
      "|     West Brom|2017|England| 0.631578947368421| 8.842105263157896| 2.473684210526316| 4.105263157894737|168|   12|\n",
      "| Bayern Munich|2016|Germany|            1.6875|            2.6875|           14.1875|               1.5| 43|   27|\n",
      "|         Genoa|2018|  Italy|0.8888888888888888|               6.0| 11.88888888888889|1.6666666666666667|108|   16|\n",
      "|    Hoffenheim|2018|Germany|               2.0| 5.352941176470588|10.176470588235293|1.1176470588235294| 91|   34|\n",
      "|       FC Koln|2014|Germany|1.4444444444444444| 5.222222222222222|12.222222222222221|0.8888888888888888| 47|   13|\n",
      "|    Man United|2014|England|1.2222222222222223|11.555555555555555| 4.111111111111111| 5.555555555555555|104|   11|\n",
      "|        Fulham|2019|England|0.6666666666666666|10.777777777777779|3.7777777777777777|3.4444444444444446| 97|    6|\n",
      "|     Stuttgart|2017|Germany|0.4444444444444444| 4.888888888888889|12.777777777777779|1.1111111111111112| 44|    4|\n",
      "|         Stoke|2016|England|1.0526315789473684|10.210526315789474| 3.263157894736842|3.8947368421052633|194|   20|\n",
      "|       Palermo|2016|  Italy|               1.0|               5.0|              16.3|               2.2|100|   20|\n",
      "|          Roma|2016|  Italy|               2.0| 4.631578947368421|13.526315789473685| 2.789473684210526| 88|   38|\n",
      "|          Hull|2014|England|               1.0|               8.5|               2.6|               3.2| 85|   10|\n",
      "|       Burnley|2014|England|0.7777777777777778|              10.0|               3.0|3.7777777777777777| 90|    7|\n",
      "+--------------+----+-------+------------------+------------------+------------------+------------------+---+-----+\n",
      "only showing top 30 rows\n",
      "\n"
     ]
    },
    {
     "data": {
      "text/plain": [
       "380"
      ]
     },
     "execution_count": 8,
     "metadata": {},
     "output_type": "execute_result"
    }
   ],
   "source": [
    "awayTeam_table = silver_table \\\n",
    "    .groupBy(\"AwayTeam\", \"Date\", \"Div\") \\\n",
    "    .agg(\n",
    "        avg(silver_table.FTAG).alias(\"FTAG\"),\n",
    "        avg(silver_table.AS).alias(\"ASA\"),\n",
    "        avg(silver_table.AST).alias(\"ASTA\"),\n",
    "        avg(silver_table.AC).alias(\"ACA\"),\n",
    "        sum(silver_table.AS).alias(\"SAS\"),\n",
    "        sum(silver_table.FTAG).alias(\"SFTAG\")\n",
    "    ) \\\n",
    "    .withColumnRenamed(\"AwayTeam\", \"Team\") \n",
    "\n",
    "awayTeam_table.show(n=30)\n",
    "awayTeam_table.count()"
   ]
  },
  {
   "cell_type": "code",
   "execution_count": 9,
   "id": "84a23004",
   "metadata": {},
   "outputs": [
    {
     "name": "stdout",
     "output_type": "stream",
     "text": [
      "+-------+--------------+----+-----------+-------------+--------------------+------------+--------+\n",
      "|   Liga|        Equipa|Data|Media_golos|Media_remates|Media_remates_baliza|Media_cantos|Eficacia|\n",
      "+-------+--------------+----+-----------+-------------+--------------------+------------+--------+\n",
      "|England|       Chelsea|2014|       2.17|        16.34|                6.07|        6.38|   13.31|\n",
      "|England|       Arsenal|2014|        1.8|        16.93|                5.77|        7.83|   10.66|\n",
      "|England|       Swansea|2014|       1.25|        10.68|                3.53|        3.34|   11.76|\n",
      "|England|     Newcastle|2014|       1.17|        12.57|                3.88|        6.07|    9.32|\n",
      "|England|     Leicester|2014|       0.92|        11.25|                3.41|        5.48|    8.06|\n",
      "|England|   Aston Villa|2014|       0.59|         9.91|                2.83|        3.53|    5.85|\n",
      "|England|      Man City|2014|       2.14|        16.74|                5.58|        6.78|   12.89|\n",
      "|England|      West Ham|2014|       1.58|        13.61|                4.33|        6.83|   11.63|\n",
      "|England|     Tottenham|2014|       1.27|        13.16|                4.19|        6.19|     9.6|\n",
      "|England|     Liverpool|2014|       1.37|        15.27|                4.97|        5.29|    8.87|\n",
      "|England|       Burnley|2014|       0.74|         11.3|                 2.9|        3.99|    6.48|\n",
      "|England|       Everton|2014|       1.54|        13.07|                4.59|        4.87|   11.74|\n",
      "|England|         Stoke|2014|       1.11|        13.38|                3.32|        5.17|    8.37|\n",
      "|England|           QPR|2014|       1.07|        13.93|                3.71|         5.3|    7.84|\n",
      "|England|    Sunderland|2014|       0.83|        11.13|                3.29|        4.87|    7.58|\n",
      "|England|    Man United|2014|       1.71|        12.78|                4.66|        5.53|   13.52|\n",
      "|England|   Southampton|2014|       1.66|        13.09|                4.62|        5.57|    12.8|\n",
      "|England|          Hull|2014|       0.94|        10.03|                2.86|        3.82|    9.52|\n",
      "|England|Crystal Palace|2014|       1.06|         10.7|                3.64|        5.83|     9.9|\n",
      "|England|     West Brom|2014|       0.93|        12.06|                3.46|        5.54|    7.79|\n",
      "+-------+--------------+----+-----------+-------------+--------------------+------------+--------+\n",
      "only showing top 20 rows\n",
      "\n"
     ]
    },
    {
     "data": {
      "text/plain": [
       "380"
      ]
     },
     "execution_count": 9,
     "metadata": {},
     "output_type": "execute_result"
    }
   ],
   "source": [
    "#join of the two dataFrames\n",
    "join_table = homeTeam_table.join(awayTeam_table,['Team', 'Date', 'Div'], how='left') \\\n",
    "    .withColumnRenamed(\"Team\", \"Equipa\") \\\n",
    "    .withColumnRenamed(\"Div\", \"Liga\") \\\n",
    "    .withColumnRenamed(\"Date\", \"Data\") \\\n",
    "    .orderBy(\"Date\", \"Liga\") \\\n",
    "    .withColumn(\"Media_golos\", round(((col(\"FTAG\") + col(\"FTHG\"))/2), 2)) \\\n",
    "    .withColumn(\"Media_remates\", round(((col(\"HSH\") + col(\"ASA\"))/2), 2)) \\\n",
    "    .withColumn(\"Media_remates_baliza\", round(((col(\"HSTH\") + col(\"ASTA\"))/2), 2)) \\\n",
    "    .withColumn(\"Media_cantos\", round(((col(\"HCH\") + col(\"ACA\"))/2), 2)) \\\n",
    "    .withColumn(\"Eficacia\", round(((col(\"SFTHG\") + col(\"SFTAG\")) / (col(\"SHS\") + col(\"SAS\")) * 100), 2)) \\\n",
    "    .select(\"Liga\", \"Equipa\", \"Data\", \"Media_golos\", \"Media_remates\", \"Media_remates_baliza\", \"Media_cantos\", \"Eficacia\")\n",
    "\n",
    "\n",
    "#WRITE TO DELTA TABLE\n",
    "join_table \\\n",
    "    .write \\\n",
    "    .format(\"delta\") \\\n",
    "    .option(\"overwriteSchema\", \"true\") \\\n",
    "    .mode(\"overwrite\") \\\n",
    "    .save(\"hdfs://hdfs-nn:9000/demo/gold/UC3_LS.db/stats/\")\n",
    "\n",
    "\n",
    "\n",
    "join_table.show()\n",
    "join_table.count()"
   ]
  },
  {
   "cell_type": "code",
   "execution_count": 10,
   "id": "ce5e071b",
   "metadata": {},
   "outputs": [
    {
     "data": {
      "text/html": [
       "<div>\n",
       "<style scoped>\n",
       "    .dataframe tbody tr th:only-of-type {\n",
       "        vertical-align: middle;\n",
       "    }\n",
       "\n",
       "    .dataframe tbody tr th {\n",
       "        vertical-align: top;\n",
       "    }\n",
       "\n",
       "    .dataframe thead th {\n",
       "        text-align: right;\n",
       "    }\n",
       "</style>\n",
       "<table border=\"1\" class=\"dataframe\">\n",
       "  <thead>\n",
       "    <tr style=\"text-align: right;\">\n",
       "      <th></th>\n",
       "      <th>Liga</th>\n",
       "      <th>Equipa</th>\n",
       "      <th>Data</th>\n",
       "      <th>Media_golos</th>\n",
       "      <th>Media_remates</th>\n",
       "      <th>Media_remates_baliza</th>\n",
       "      <th>Media_cantos</th>\n",
       "      <th>Eficacia</th>\n",
       "    </tr>\n",
       "  </thead>\n",
       "  <tbody>\n",
       "    <tr>\n",
       "      <th>0</th>\n",
       "      <td>England</td>\n",
       "      <td>Man United</td>\n",
       "      <td>2016</td>\n",
       "      <td>1.46</td>\n",
       "      <td>14.22</td>\n",
       "      <td>4.89</td>\n",
       "      <td>6.17</td>\n",
       "      <td>10.26</td>\n",
       "    </tr>\n",
       "    <tr>\n",
       "      <th>1</th>\n",
       "      <td>England</td>\n",
       "      <td>Hull</td>\n",
       "      <td>2016</td>\n",
       "      <td>0.83</td>\n",
       "      <td>10.12</td>\n",
       "      <td>3.48</td>\n",
       "      <td>4.26</td>\n",
       "      <td>8.33</td>\n",
       "    </tr>\n",
       "    <tr>\n",
       "      <th>2</th>\n",
       "      <td>England</td>\n",
       "      <td>Stoke</td>\n",
       "      <td>2016</td>\n",
       "      <td>1.13</td>\n",
       "      <td>11.13</td>\n",
       "      <td>3.50</td>\n",
       "      <td>4.74</td>\n",
       "      <td>10.17</td>\n",
       "    </tr>\n",
       "    <tr>\n",
       "      <th>3</th>\n",
       "      <td>England</td>\n",
       "      <td>Man City</td>\n",
       "      <td>2016</td>\n",
       "      <td>1.92</td>\n",
       "      <td>15.77</td>\n",
       "      <td>5.09</td>\n",
       "      <td>6.79</td>\n",
       "      <td>12.27</td>\n",
       "    </tr>\n",
       "    <tr>\n",
       "      <th>4</th>\n",
       "      <td>England</td>\n",
       "      <td>Leicester</td>\n",
       "      <td>2016</td>\n",
       "      <td>1.43</td>\n",
       "      <td>12.61</td>\n",
       "      <td>4.03</td>\n",
       "      <td>5.51</td>\n",
       "      <td>11.46</td>\n",
       "    </tr>\n",
       "    <tr>\n",
       "      <th>...</th>\n",
       "      <td>...</td>\n",
       "      <td>...</td>\n",
       "      <td>...</td>\n",
       "      <td>...</td>\n",
       "      <td>...</td>\n",
       "      <td>...</td>\n",
       "      <td>...</td>\n",
       "      <td>...</td>\n",
       "    </tr>\n",
       "    <tr>\n",
       "      <th>375</th>\n",
       "      <td>Italy</td>\n",
       "      <td>Inter</td>\n",
       "      <td>2019</td>\n",
       "      <td>1.39</td>\n",
       "      <td>5.39</td>\n",
       "      <td>9.35</td>\n",
       "      <td>3.19</td>\n",
       "      <td>25.00</td>\n",
       "    </tr>\n",
       "    <tr>\n",
       "      <th>376</th>\n",
       "      <td>Italy</td>\n",
       "      <td>Roma</td>\n",
       "      <td>2019</td>\n",
       "      <td>1.67</td>\n",
       "      <td>6.45</td>\n",
       "      <td>7.95</td>\n",
       "      <td>3.44</td>\n",
       "      <td>25.81</td>\n",
       "    </tr>\n",
       "    <tr>\n",
       "      <th>377</th>\n",
       "      <td>Italy</td>\n",
       "      <td>Udinese</td>\n",
       "      <td>2019</td>\n",
       "      <td>1.23</td>\n",
       "      <td>8.63</td>\n",
       "      <td>8.82</td>\n",
       "      <td>3.59</td>\n",
       "      <td>14.20</td>\n",
       "    </tr>\n",
       "    <tr>\n",
       "      <th>378</th>\n",
       "      <td>Italy</td>\n",
       "      <td>Chievo</td>\n",
       "      <td>2019</td>\n",
       "      <td>0.58</td>\n",
       "      <td>8.93</td>\n",
       "      <td>7.95</td>\n",
       "      <td>3.26</td>\n",
       "      <td>6.51</td>\n",
       "    </tr>\n",
       "    <tr>\n",
       "      <th>379</th>\n",
       "      <td>Italy</td>\n",
       "      <td>Lazio</td>\n",
       "      <td>2019</td>\n",
       "      <td>1.50</td>\n",
       "      <td>6.24</td>\n",
       "      <td>6.88</td>\n",
       "      <td>2.84</td>\n",
       "      <td>23.73</td>\n",
       "    </tr>\n",
       "  </tbody>\n",
       "</table>\n",
       "<p>380 rows × 8 columns</p>\n",
       "</div>"
      ],
      "text/plain": [
       "        Liga      Equipa  Data  Media_golos  Media_remates  \\\n",
       "0    England  Man United  2016         1.46          14.22   \n",
       "1    England        Hull  2016         0.83          10.12   \n",
       "2    England       Stoke  2016         1.13          11.13   \n",
       "3    England    Man City  2016         1.92          15.77   \n",
       "4    England   Leicester  2016         1.43          12.61   \n",
       "..       ...         ...   ...          ...            ...   \n",
       "375    Italy       Inter  2019         1.39           5.39   \n",
       "376    Italy        Roma  2019         1.67           6.45   \n",
       "377    Italy     Udinese  2019         1.23           8.63   \n",
       "378    Italy      Chievo  2019         0.58           8.93   \n",
       "379    Italy       Lazio  2019         1.50           6.24   \n",
       "\n",
       "     Media_remates_baliza  Media_cantos  Eficacia  \n",
       "0                    4.89          6.17     10.26  \n",
       "1                    3.48          4.26      8.33  \n",
       "2                    3.50          4.74     10.17  \n",
       "3                    5.09          6.79     12.27  \n",
       "4                    4.03          5.51     11.46  \n",
       "..                    ...           ...       ...  \n",
       "375                  9.35          3.19     25.00  \n",
       "376                  7.95          3.44     25.81  \n",
       "377                  8.82          3.59     14.20  \n",
       "378                  7.95          3.26      6.51  \n",
       "379                  6.88          2.84     23.73  \n",
       "\n",
       "[380 rows x 8 columns]"
      ]
     },
     "execution_count": 10,
     "metadata": {},
     "output_type": "execute_result"
    }
   ],
   "source": [
    "# check the results in the table\n",
    "spark.table(\"UC3_LS.stats\").toPandas()"
   ]
  },
  {
   "cell_type": "code",
   "execution_count": 11,
   "id": "43be5c2a",
   "metadata": {},
   "outputs": [
    {
     "name": "stdout",
     "output_type": "stream",
     "text": [
      "++\n",
      "||\n",
      "++\n",
      "++\n",
      "\n"
     ]
    }
   ],
   "source": [
    "spark.sql(\"\"\"\n",
    "GENERATE symlink_format_manifest FOR TABLE delta. `hdfs://hdfs-nn:9000/demo/gold/UC3_LS.db/stats/`\n",
    "\"\"\").show()"
   ]
  },
  {
   "cell_type": "code",
   "execution_count": 4,
   "id": "d785ec18",
   "metadata": {},
   "outputs": [
    {
     "name": "stdout",
     "output_type": "stream",
     "text": [
      "++\n",
      "||\n",
      "++\n",
      "++\n",
      "\n",
      "++\n",
      "||\n",
      "++\n",
      "++\n",
      "\n"
     ]
    }
   ],
   "source": [
    "spark.sql(\"\"\"\n",
    "DROP TABLE IF EXISTS UC3_LS.stats_presto\n",
    "\"\"\").show()\n",
    "\n",
    "spark.sql(\"\"\"\n",
    "CREATE EXTERNAL TABLE IF NOT EXISTS UC3_LS.stats_presto (\n",
    "        Liga STRING,\n",
    "        Equipa STRING,\n",
    "        Data STRING,\n",
    "        Media_golos DOUBLE,\n",
    "        Media_remates DOUBLE,\n",
    "        Media_remates_baliza DOUBLE,\n",
    "        Media_cantos DOUBLE,\n",
    "        Eficacia DOUBLE\n",
    "        )\n",
    "        \n",
    "ROW FORMAT SERDE 'org.apache.hadoop.hive.ql.io.parquet.serde.ParquetHiveSerDe'\n",
    "STORED AS INPUTFORMAT 'org.apache.hadoop.hive.ql.io.SymlinkTextInputFormat'\n",
    "OUTPUTFORMAT 'org.apache.hadoop.hive.ql.io.HiveIgnoreKeyTextOutputFormat'\n",
    "LOCATION 'hdfs://hdfs-nn:9000/demo/gold/UC3_LS.db/stats/_symlink_format_manifest/'\n",
    "\"\"\").show()"
   ]
  },
  {
   "cell_type": "code",
   "execution_count": null,
   "id": "106af861",
   "metadata": {},
   "outputs": [],
   "source": []
  },
  {
   "cell_type": "code",
   "execution_count": null,
   "id": "31b7647a",
   "metadata": {},
   "outputs": [],
   "source": []
  }
 ],
 "metadata": {
  "kernelspec": {
   "display_name": "Python 3",
   "language": "python",
   "name": "python3"
  },
  "language_info": {
   "codemirror_mode": {
    "name": "ipython",
    "version": 3
   },
   "file_extension": ".py",
   "mimetype": "text/x-python",
   "name": "python",
   "nbconvert_exporter": "python",
   "pygments_lexer": "ipython3",
   "version": "3.9.4"
  }
 },
 "nbformat": 4,
 "nbformat_minor": 5
}
