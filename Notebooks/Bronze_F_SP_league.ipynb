{
 "cells": [
  {
   "cell_type": "code",
   "execution_count": 1,
   "id": "e5a573c9",
   "metadata": {},
   "outputs": [
    {
     "data": {
      "text/plain": [
       "'/demo/bronze/F_SP_League.csv'"
      ]
     },
     "execution_count": 1,
     "metadata": {},
     "output_type": "execute_result"
    }
   ],
   "source": [
    "from os import PathLike\n",
    "from hdfs import InsecureClient\n",
    "\n",
    "#UPLOAD DO FILE .CSV PARA O HDFS (carregar para bronze)\n",
    "\n",
    "client= InsecureClient(\"http://hdfs-nn:9870/\",user=\"anonymous\")\n",
    "\n",
    "from_path=\"./F_SP_League.csv\"\n",
    "to_path=\"/demo/bronze/F_SP_League.csv\"\n",
    "\n",
    "client.delete(to_path)\n",
    "\n",
    "client.upload(to_path,from_path)"
   ]
  }
 ],
 "metadata": {
  "kernelspec": {
   "display_name": "Python 3 (ipykernel)",
   "language": "python",
   "name": "python3"
  },
  "language_info": {
   "codemirror_mode": {
    "name": "ipython",
    "version": 3
   },
   "file_extension": ".py",
   "mimetype": "text/x-python",
   "name": "python",
   "nbconvert_exporter": "python",
   "pygments_lexer": "ipython3",
   "version": "3.9.7"
  }
 },
 "nbformat": 4,
 "nbformat_minor": 5
}
