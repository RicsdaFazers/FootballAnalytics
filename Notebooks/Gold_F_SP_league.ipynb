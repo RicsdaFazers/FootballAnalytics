{
 "cells": [
  {
   "cell_type": "code",
   "execution_count": 1,
   "id": "05852da8",
   "metadata": {},
   "outputs": [],
   "source": [
    "from os import PathLike\n",
    "from hdfs import InsecureClient\n",
    "from pyspark.sql import SparkSession\n",
    "from pyspark.sql import Row\n",
    "from pyspark.sql.functions import *\n",
    "from delta import *\n",
    "from pyspark.sql.types import LongType, StringType, StructField, StructType, BooleanType, ArrayType, IntegerType, FloatType, DateType\n",
    "import pyspark.sql.functions as f"
   ]
  },
  {
   "cell_type": "code",
   "execution_count": 2,
   "id": "15cc0cbd",
   "metadata": {},
   "outputs": [
    {
     "name": "stderr",
     "output_type": "stream",
     "text": [
      "Warning: Ignoring non-Spark config property: hive.metastore.uris\n",
      "WARNING: An illegal reflective access operation has occurred\n",
      "WARNING: Illegal reflective access by org.apache.spark.unsafe.Platform (file:/usr/local/spark-3.1.2-bin-hadoop3.2/jars/spark-unsafe_2.12-3.1.2.jar) to constructor java.nio.DirectByteBuffer(long,int)\n",
      "WARNING: Please consider reporting this to the maintainers of org.apache.spark.unsafe.Platform\n",
      "WARNING: Use --illegal-access=warn to enable warnings of further illegal reflective access operations\n",
      "WARNING: All illegal access operations will be denied in a future release\n"
     ]
    },
    {
     "name": "stdout",
     "output_type": "stream",
     "text": [
      ":: loading settings :: url = jar:file:/usr/local/spark-3.1.2-bin-hadoop3.2/jars/ivy-2.4.0.jar!/org/apache/ivy/core/settings/ivysettings.xml\n"
     ]
    },
    {
     "name": "stderr",
     "output_type": "stream",
     "text": [
      "Ivy Default Cache set to: /home/jovyan/.ivy2/cache\n",
      "The jars for the packages stored in: /home/jovyan/.ivy2/jars\n",
      "io.delta#delta-core_2.12 added as a dependency\n",
      ":: resolving dependencies :: org.apache.spark#spark-submit-parent-c6678bd5-f931-40e4-b1ef-729cb587a45d;1.0\n",
      "\tconfs: [default]\n",
      "\tfound io.delta#delta-core_2.12;1.0.0 in central\n",
      "\tfound org.antlr#antlr4;4.7 in central\n",
      "\tfound org.antlr#antlr4-runtime;4.7 in central\n",
      "\tfound org.antlr#antlr-runtime;3.5.2 in central\n",
      "\tfound org.antlr#ST4;4.0.8 in central\n",
      "\tfound org.abego.treelayout#org.abego.treelayout.core;1.0.3 in central\n",
      "\tfound org.glassfish#javax.json;1.0.4 in central\n",
      "\tfound com.ibm.icu#icu4j;58.2 in central\n",
      ":: resolution report :: resolve 654ms :: artifacts dl 29ms\n",
      "\t:: modules in use:\n",
      "\tcom.ibm.icu#icu4j;58.2 from central in [default]\n",
      "\tio.delta#delta-core_2.12;1.0.0 from central in [default]\n",
      "\torg.abego.treelayout#org.abego.treelayout.core;1.0.3 from central in [default]\n",
      "\torg.antlr#ST4;4.0.8 from central in [default]\n",
      "\torg.antlr#antlr-runtime;3.5.2 from central in [default]\n",
      "\torg.antlr#antlr4;4.7 from central in [default]\n",
      "\torg.antlr#antlr4-runtime;4.7 from central in [default]\n",
      "\torg.glassfish#javax.json;1.0.4 from central in [default]\n",
      "\t---------------------------------------------------------------------\n",
      "\t|                  |            modules            ||   artifacts   |\n",
      "\t|       conf       | number| search|dwnlded|evicted|| number|dwnlded|\n",
      "\t---------------------------------------------------------------------\n",
      "\t|      default     |   8   |   0   |   0   |   0   ||   8   |   0   |\n",
      "\t---------------------------------------------------------------------\n",
      ":: retrieving :: org.apache.spark#spark-submit-parent-c6678bd5-f931-40e4-b1ef-729cb587a45d\n",
      "\tconfs: [default]\n",
      "\t0 artifacts copied, 8 already retrieved (0kB/44ms)\n",
      "22/01/17 13:50:38 WARN NativeCodeLoader: Unable to load native-hadoop library for your platform... using builtin-java classes where applicable\n",
      "Using Spark's default log4j profile: org/apache/spark/log4j-defaults.properties\n",
      "Setting default log level to \"WARN\".\n",
      "To adjust logging level use sc.setLogLevel(newLevel). For SparkR, use setLogLevel(newLevel).\n",
      "22/01/17 13:50:41 WARN Utils: Service 'SparkUI' could not bind on port 4040. Attempting port 4041.\n"
     ]
    }
   ],
   "source": [
    "#SPARK CONFIG\n",
    "warehouse_location = 'hdfs://hdfs-nn:9000/demo/'\n",
    "\n",
    "builder = SparkSession \\\n",
    "    .builder \\\n",
    "    .appName(\"Python Spark\") \\\n",
    "    .config(\"spark.sql.warehouse.dir\", warehouse_location) \\\n",
    "    .config(\"hive.metastore.uris\", \"thrift://hive-metastore:9083\") \\\n",
    "    .config(\"spark.sql.extensions\", \"io.delta.sql.DeltaSparkSessionExtension\") \\\n",
    "    .config(\"spark.sql.catalog.spark_catalog\", \"org.apache.spark.sql.delta.catalog.DeltaCatalog\") \\\n",
    "    .config(\"spark.jars.packages\", \"io.delta:delta-core_2.12:1.0.0\") \\\n",
    "    .enableHiveSupport() \\\n",
    "\n",
    "spark = spark = configure_spark_with_delta_pip(builder).getOrCreate()"
   ]
  },
  {
   "cell_type": "code",
   "execution_count": 3,
   "id": "f0bb5ad9",
   "metadata": {},
   "outputs": [
    {
     "name": "stderr",
     "output_type": "stream",
     "text": [
      "ANTLR Tool version 4.7 used for code generation does not match the current runtime version 4.8ANTLR Tool version 4.7 used for code generation does not match the current runtime version 4.8"
     ]
    },
    {
     "data": {
      "text/plain": [
       "DataFrame[]"
      ]
     },
     "execution_count": 3,
     "metadata": {},
     "output_type": "execute_result"
    }
   ],
   "source": [
    "spark.sql(\n",
    "    \"\"\"\n",
    "    DROP TABLE IF EXISTS gold_leagues\n",
    "    \"\"\"\n",
    ")"
   ]
  },
  {
   "cell_type": "code",
   "execution_count": 4,
   "id": "9a847307",
   "metadata": {},
   "outputs": [
    {
     "data": {
      "text/plain": [
       "DataFrame[]"
      ]
     },
     "execution_count": 4,
     "metadata": {},
     "output_type": "execute_result"
    }
   ],
   "source": [
    "#DROP TABLE\n",
    "spark.sql(\n",
    "    \"\"\"\n",
    "    DROP TABLE IF EXISTS gold_leagues.stats\n",
    "    \"\"\"\n",
    ")"
   ]
  },
  {
   "cell_type": "code",
   "execution_count": 5,
   "id": "2884721d",
   "metadata": {},
   "outputs": [
    {
     "name": "stderr",
     "output_type": "stream",
     "text": [
      "22/01/17 13:51:13 WARN HiveExternalCatalog: Couldn't find corresponding Hive SerDe for data source provider delta. Persisting data source table `gold_leagues`.`stats` into Hive metastore in Spark SQL specific format, which is NOT compatible with Hive.\n",
      "22/01/17 13:51:13 WARN SessionState: METASTORE_FILTER_HOOK will be ignored, since hive.security.authorization.manager is set to instance of HiveAuthorizerFactory.\n"
     ]
    },
    {
     "data": {
      "text/plain": [
       "DataFrame[]"
      ]
     },
     "execution_count": 5,
     "metadata": {},
     "output_type": "execute_result"
    }
   ],
   "source": [
    "# create gold database\n",
    "spark.sql(\n",
    "    \"\"\"\n",
    "    CREATE DATABASE IF NOT EXISTS gold_leagues LOCATION 'hdfs://hdfs-nn:9000/demo/gold/projeto/gold_leagues.db/'\n",
    "    \"\"\"\n",
    ")\n",
    "\n",
    "\n",
    "spark.sql(\n",
    "    \"\"\"\n",
    "    CREATE EXTERNAL TABLE gold_leagues.stats (\n",
    "    \n",
    "        Div STRING,\n",
    "        Team STRING,\n",
    "        Date STRING,\n",
    "        Media_golos DOUBLE,\n",
    "        Media_remates DOUBLE,\n",
    "        Media_remates_baliza DOUBLE,\n",
    "        Media_cantos DOUBLE,\n",
    "        Eficacia DOUBLE\n",
    "        \n",
    "    )\n",
    "    USING DELTA\n",
    "    LOCATION 'hdfs://hdfs-nn:9000/demo/gold/projeto/gold_leagues.db/stats/'\n",
    "    \"\"\"\n",
    ")"
   ]
  },
  {
   "cell_type": "code",
   "execution_count": 6,
   "id": "0fc55377",
   "metadata": {},
   "outputs": [
    {
     "name": "stderr",
     "output_type": "stream",
     "text": [
      "[Stage 8:>                                                          (0 + 1) / 1]\r"
     ]
    },
    {
     "name": "stdout",
     "output_type": "stream",
     "text": [
      "+--------------------+--------------------+----+----+----+----+---+---+---+---+---+---+------+\n",
      "|            HomeTeam|            AwayTeam| FTR|Date|FTHG|FTAG| HS| AS|HST|AST| HC| AC|   Div|\n",
      "+--------------------+--------------------+----+----+----+----+---+---+---+---+---+---+------+\n",
      "|               Reims|            Paris SG|Draw|2014|   2|   2|  9| 16|  3|  6|  1|  5|France|\n",
      "|              Bastia|           Marseille|Draw|2014|   3|   3| 13|  9|  4|  4|  1|  4|France|\n",
      "|Evian Thonon Gail...|                Caen|Away|2014|   0|   3| 10| 12|  2|  7|  5|  6|France|\n",
      "|            Guingamp|          St Etienne|Away|2014|   0|   2|  6|  7|  3|  2|  4|  5|France|\n",
      "|               Lille|                Metz|Draw|2014|   0|   0| 14|  2|  3|  1|  8|  3|France|\n",
      "|         Montpellier|            Bordeaux|Away|2014|   0|   1| 15|  7|  3|  3|  5|  1|France|\n",
      "|              Nantes|                Lens|Home|2014|   1|   0| 14|  5|  4|  2|  3|  2|France|\n",
      "|                Nice|            Toulouse|Home|2014|   3|   2| 22| 11|  8|  3| 12|  7|France|\n",
      "|                Lyon|              Rennes|Home|2014|   2|   0| 19|  7|  6|  1|  5|  1|France|\n",
      "|              Monaco|             Lorient|Away|2014|   1|   2| 12|  9|  7|  3| 10|  4|France|\n",
      "|                Caen|               Lille|Away|2014|   0|   1| 11|  8|  3|  1|  3|  9|France|\n",
      "|                Lens|            Guingamp|Away|2014|   0|   1| 14| 10|  4|  4|  7|  2|France|\n",
      "|             Lorient|                Nice|Draw|2014|   0|   0| 13|  9|  6|  2|  8|  2|France|\n",
      "|                Metz|              Nantes|Draw|2014|   1|   1| 12|  6|  5|  2|  4|  7|France|\n",
      "|            Paris SG|              Bastia|Home|2014|   2|   0| 15|  5|  5|  1|  4|  4|France|\n",
      "|              Rennes|Evian Thonon Gail...|Home|2014|   6|   2|  9|  9|  7|  3|  6|  1|France|\n",
      "|            Toulouse|                Lyon|Home|2014|   2|   1| 10| 18|  6|  3|  6|  4|France|\n",
      "|            Bordeaux|              Monaco|Home|2014|   4|   1|  9|  9|  5|  3|  3|  4|France|\n",
      "|           Marseille|         Montpellier|Away|2014|   0|   2| 22| 10|  5|  3|  6|  1|France|\n",
      "|          St Etienne|               Reims|Home|2014|   3|   1| 19|  7|  9|  2|  6|  3|France|\n",
      "+--------------------+--------------------+----+----+----+----+---+---+---+---+---+---+------+\n",
      "only showing top 20 rows\n",
      "\n"
     ]
    },
    {
     "name": "stderr",
     "output_type": "stream",
     "text": [
      "\r",
      "                                                                                \r"
     ]
    }
   ],
   "source": [
    "from pyspark.sql.functions import substring, avg, sum, round\n",
    "from pyspark.sql.functions import col, concat_ws, concat, lit, desc, asc\n",
    "\n",
    "# read data from tables in projeto.db\n",
    "tabela = spark.read.format(\"delta\").load(\"hdfs://hdfs-nn:9000/demo/silver/F_SP_League.db/deltalake_table/\")\n",
    "\n",
    "\n",
    "silver_table = tabela \\\n",
    "    .withColumn(\"Date\", concat(lit(\"20\"), substring(col(\"Date\"), 7, 8)))\n",
    "\n",
    "\n",
    "silver_table.show()"
   ]
  },
  {
   "cell_type": "code",
   "execution_count": 7,
   "id": "ef1acee1",
   "metadata": {},
   "outputs": [
    {
     "name": "stdout",
     "output_type": "stream",
     "text": [
      "+--------------------+----+------+------------------+------------------+------------------+------------------+---+-----+\n",
      "|                Team|Date|   Div|              FTHG|               HSH|              HSTH|               HCH|SHS|SFTHG|\n",
      "+--------------------+----+------+------------------+------------------+------------------+------------------+---+-----+\n",
      "|            Bordeaux|2019|France|               1.0|11.222222222222221|               4.0| 5.555555555555555|101|    9|\n",
      "|               Lille|2016|France|              1.25|             13.45|               4.4|               5.4|269|   25|\n",
      "|             Sevilla|2014| Spain|               2.0|            13.625|             5.625|              7.25|109|   16|\n",
      "|         Real Madrid|2016| Spain|3.3333333333333335| 19.38888888888889| 7.722222222222222| 6.611111111111111|349|   60|\n",
      "|             Leganes|2017| Spain|1.1666666666666667|12.444444444444445| 4.222222222222222| 4.722222222222222|224|   21|\n",
      "|               Betis|2018| Spain|1.5263157894736843| 12.68421052631579| 4.473684210526316| 4.842105263157895|241|   29|\n",
      "|               Reims|2015|France| 1.105263157894737|14.105263157894736| 4.473684210526316| 5.157894736842105|268|   21|\n",
      "|              Bastia|2016|France|0.8947368421052632|11.526315789473685|3.9473684210526314| 5.368421052631579|219|   17|\n",
      "|            Bordeaux|2016|France|1.2105263157894737|12.105263157894736|3.9473684210526314| 5.368421052631579|230|   23|\n",
      "|              Amiens|2019|France|0.7272727272727273|12.909090909090908|3.5454545454545454|3.3636363636363638|142|    8|\n",
      "|          Villarreal|2016| Spain|1.5555555555555556| 11.88888888888889| 4.611111111111111| 5.388888888888889|214|   28|\n",
      "|         Montpellier|2015|France|               1.6|              11.7|              4.75|              4.65|234|   32|\n",
      "|          Las Palmas|2017| Spain|1.3157894736842106|13.842105263157896|5.7368421052631575| 5.631578947368421|263|   25|\n",
      "|            Valencia|2017| Spain|1.9047619047619047|14.380952380952381| 5.476190476190476| 5.428571428571429|302|   40|\n",
      "|              Girona|2017| Spain|1.1111111111111112|              13.0| 3.111111111111111|               5.0|117|   10|\n",
      "|            Toulouse|2014|France|1.4444444444444444|              13.0| 4.555555555555555| 5.666666666666667|117|   13|\n",
      "|                Caen|2016|France|1.3333333333333333|13.666666666666666| 4.722222222222222| 4.888888888888889|246|   24|\n",
      "|             Cordoba|2015| Spain|0.7272727272727273|13.090909090909092| 3.272727272727273|4.7272727272727275|144|    8|\n",
      "|              Getafe|2018| Spain|1.0555555555555556|11.777777777777779|3.7777777777777777| 5.388888888888889|212|   19|\n",
      "|              Monaco|2016|France|               2.8|             13.85|               5.8|               5.8|277|   56|\n",
      "|            Sociedad|2014| Spain|             1.625|              13.5|             4.375|             6.625|108|   13|\n",
      "|             Granada|2017| Spain|               1.0|              12.0| 4.454545454545454| 4.181818181818182|132|   11|\n",
      "|          Ath Bilbao|2015| Spain| 1.736842105263158|14.052631578947368| 4.894736842105263| 6.894736842105263|267|   33|\n",
      "|            Valencia|2016| Spain|1.3333333333333333| 12.88888888888889| 4.444444444444445| 6.555555555555555|232|   24|\n",
      "|          Ath Bilbao|2018| Spain|              1.15|             12.65|               4.3|              5.15|253|   23|\n",
      "|              Huesca|2019| Spain|1.6363636363636365|12.909090909090908|               4.0|4.7272727272727275|142|   18|\n",
      "|          Ath Madrid|2014| Spain|             2.375|            13.875|               6.0|               6.0|111|   19|\n",
      "|            Sp Gijon|2015| Spain|1.1428571428571428|14.142857142857142| 5.857142857142857| 6.142857142857143| 99|    8|\n",
      "|Evian Thonon Gail...|2015|France|               0.9|               9.6|               3.1|               5.1| 96|    9|\n",
      "|          Ath Bilbao|2014| Spain|             1.125|             10.75|             3.375|             6.375| 86|    9|\n",
      "+--------------------+----+------+------------------+------------------+------------------+------------------+---+-----+\n",
      "only showing top 30 rows\n",
      "\n"
     ]
    },
    {
     "name": "stderr",
     "output_type": "stream",
     "text": [
      "                                                                                \r"
     ]
    },
    {
     "data": {
      "text/plain": [
       "263"
      ]
     },
     "execution_count": 7,
     "metadata": {},
     "output_type": "execute_result"
    }
   ],
   "source": [
    "homeTeam_table = silver_table \\\n",
    "    .groupBy(\"HomeTeam\", \"Date\", \"Div\") \\\n",
    "    .agg(\n",
    "        avg(silver_table.FTHG).alias(\"FTHG\"),\n",
    "        avg(silver_table.HS).alias(\"HSH\"),\n",
    "        avg(silver_table.HST).alias(\"HSTH\"),\n",
    "        avg(silver_table.HC).alias(\"HCH\"),\n",
    "        sum(silver_table.HS).alias(\"SHS\"),\n",
    "        sum(silver_table.FTHG).alias(\"SFTHG\")\n",
    "    ) \\\n",
    "    .withColumnRenamed(\"HomeTeam\", \"Team\") \n",
    "\n",
    "homeTeam_table.show(n=30)\n",
    "homeTeam_table.count()\n"
   ]
  },
  {
   "cell_type": "code",
   "execution_count": 8,
   "id": "162f157c",
   "metadata": {
    "scrolled": true
   },
   "outputs": [
    {
     "name": "stdout",
     "output_type": "stream",
     "text": [
      "+--------------------+----+------+-------------------+------------------+------------------+------------------+---+-----+\n",
      "|                Team|Date|   Div|               FTAG|               ASA|              ASTA|               ACA|SAS|SFTAG|\n",
      "+--------------------+----+------+-------------------+------------------+------------------+------------------+---+-----+\n",
      "|            Bordeaux|2019|France| 0.4166666666666667| 8.833333333333334|              2.25|               4.0|106|    5|\n",
      "|               Lille|2016|France| 0.9444444444444444| 10.61111111111111| 3.888888888888889| 3.388888888888889|191|   17|\n",
      "|             Sevilla|2014| Spain| 1.2857142857142858| 8.428571428571429| 4.142857142857143| 4.571428571428571| 59|    9|\n",
      "|         Real Madrid|2016| Spain|                2.5| 16.77777777777778| 6.722222222222222| 6.111111111111111|302|   45|\n",
      "|             Leganes|2017| Spain|                0.7|             10.05|               3.2|               3.8|201|   14|\n",
      "|               Betis|2018| Spain|  1.368421052631579|10.473684210526315| 4.526315789473684|3.0526315789473686|199|   26|\n",
      "|               Reims|2015|France| 1.0526315789473684| 8.947368421052632|3.3157894736842106|4.2105263157894735|170|   20|\n",
      "|              Bastia|2016|France| 0.8421052631578947|  9.31578947368421|3.0526315789473686|2.9473684210526314|177|   16|\n",
      "|            Bordeaux|2016|France|  1.263157894736842|10.157894736842104| 3.736842105263158|3.6315789473684212|193|   24|\n",
      "|              Amiens|2019|France| 0.6666666666666666| 6.777777777777778| 2.111111111111111|2.6666666666666665| 61|    6|\n",
      "|          Villarreal|2016| Spain|                1.0| 8.157894736842104|3.3684210526315788|3.6315789473684212|155|   19|\n",
      "|         Montpellier|2015|France| 0.8333333333333334| 9.166666666666666| 3.111111111111111| 4.722222222222222|165|   15|\n",
      "|          Las Palmas|2017| Spain|               0.75|              10.0|              3.75|               3.6|200|   15|\n",
      "|            Valencia|2017| Spain|  1.631578947368421| 9.526315789473685|3.8947368421052633| 4.052631578947368|181|   31|\n",
      "|              Girona|2017| Spain|              1.375|            10.625|             4.625|             4.375| 85|   11|\n",
      "|            Toulouse|2014|France|                0.9|               9.0|               2.0|               4.3| 90|    9|\n",
      "|                Caen|2016|France| 0.7368421052631579|              11.0|3.6315789473684212|3.6842105263157894|209|   14|\n",
      "|             Cordoba|2015| Spain| 0.2727272727272727|              10.0|3.5454545454545454|3.4545454545454546|110|    3|\n",
      "|              Getafe|2018| Spain|               0.95|               8.0|               2.8|               3.3|160|   19|\n",
      "|              Monaco|2016|France| 1.7777777777777777| 9.833333333333334| 4.333333333333333| 4.333333333333333|177|   32|\n",
      "|            Sociedad|2014| Spain|                0.5|            12.375|               3.0|              4.75| 99|    4|\n",
      "|             Granada|2017| Spain|0.45454545454545453| 7.545454545454546|2.3636363636363638|3.3636363636363638| 83|    5|\n",
      "|          Ath Bilbao|2015| Spain|                1.0|              11.9|              3.75|               4.7|238|   20|\n",
      "|            Valencia|2016| Spain| 1.2222222222222223| 9.555555555555555| 3.388888888888889| 4.333333333333333|172|   22|\n",
      "|          Ath Bilbao|2018| Spain| 0.8888888888888888|  8.88888888888889|               3.5|3.5555555555555554|160|   16|\n",
      "|              Huesca|2019| Spain|                1.0|              10.9|               3.0|               2.6|109|   10|\n",
      "|          Ath Madrid|2014| Spain|                1.5|            10.125|              4.25|             4.375| 81|   12|\n",
      "|            Sp Gijon|2015| Spain| 0.7777777777777778| 6.888888888888889|1.6666666666666667|3.2222222222222223| 62|    7|\n",
      "|Evian Thonon Gail...|2015|France|                1.2|               7.7|               3.0|               3.6| 77|   12|\n",
      "|          Ath Bilbao|2014| Spain|              0.625|             7.375|             3.125|               4.5| 59|    5|\n",
      "+--------------------+----+------+-------------------+------------------+------------------+------------------+---+-----+\n",
      "only showing top 30 rows\n",
      "\n"
     ]
    },
    {
     "name": "stderr",
     "output_type": "stream",
     "text": [
      "                                                                                \r"
     ]
    },
    {
     "data": {
      "text/plain": [
       "263"
      ]
     },
     "execution_count": 8,
     "metadata": {},
     "output_type": "execute_result"
    }
   ],
   "source": [
    "awayTeam_table = silver_table \\\n",
    "    .groupBy(\"AwayTeam\", \"Date\", \"Div\") \\\n",
    "    .agg(\n",
    "        avg(silver_table.FTAG).alias(\"FTAG\"),\n",
    "        avg(silver_table.AS).alias(\"ASA\"),\n",
    "        avg(silver_table.AST).alias(\"ASTA\"),\n",
    "        avg(silver_table.AC).alias(\"ACA\"),\n",
    "        sum(silver_table.AS).alias(\"SAS\"),\n",
    "        sum(silver_table.FTAG).alias(\"SFTAG\")\n",
    "    ) \\\n",
    "    .withColumnRenamed(\"AwayTeam\", \"Team\") \n",
    "\n",
    "awayTeam_table.show(n=30)\n",
    "awayTeam_table.count()\n"
   ]
  },
  {
   "cell_type": "code",
   "execution_count": 9,
   "id": "b775f23e",
   "metadata": {},
   "outputs": [
    {
     "name": "stderr",
     "output_type": "stream",
     "text": [
      "22/01/17 13:51:34 WARN MemoryManager: Total allocation exceeds 95.00% (1,020,054,720 bytes) of heap memory\n",
      "Scaling row group sizes to 95.00% for 8 writers\n",
      "                                                                                \r"
     ]
    },
    {
     "name": "stdout",
     "output_type": "stream",
     "text": [
      "+------+--------------------+----+-----------+-------------+--------------------+------------+--------+\n",
      "|  Liga|              Equipa|Data|Media_golos|Media_remates|Media_remates_baliza|Media_cantos|Eficacia|\n",
      "+------+--------------------+----+-----------+-------------+--------------------+------------+--------+\n",
      "|France|                Metz|2014|       0.93|        11.52|                3.82|        4.07|    7.83|\n",
      "|France|            Bordeaux|2014|       1.39|        11.79|                3.55|        3.99|   11.71|\n",
      "|France|              Monaco|2014|       1.21|        12.11|                4.74|        5.64|   10.04|\n",
      "|France|                Lens|2014|       1.06|         10.6|                3.29|        3.76|    10.0|\n",
      "|France|           Marseille|2014|       1.98|        15.66|                5.77|        6.44|   12.71|\n",
      "|France|                Lyon|2014|       2.08|        14.91|                5.96|        4.76|   14.08|\n",
      "|France|              Nantes|2014|        1.0|        11.77|                3.88|        4.93|    8.44|\n",
      "|France|Evian Thonon Gail...|2014|       1.11|         8.61|                2.28|        3.61|    12.9|\n",
      "|France|                Caen|2014|       1.14|        12.34|                3.86|        4.34|    9.44|\n",
      "|France|          St Etienne|2014|       1.14|        12.33|                3.94|        6.26|    9.32|\n",
      "|France|             Lorient|2014|       1.11|        12.54|                4.63|         4.7|    8.75|\n",
      "|France|            Guingamp|2014|       1.05|         9.93|                 3.8|        4.28|   10.53|\n",
      "|France|               Reims|2014|       1.31|        10.15|                3.45|        4.33|   12.89|\n",
      "|France|            Toulouse|2014|       1.17|         11.0|                3.28|        4.98|   10.63|\n",
      "|France|            Paris SG|2014|       1.69|        12.58|                5.39|        4.03|   13.39|\n",
      "|France|                Nice|2014|       1.12|        10.41|                3.76|        5.81|   10.55|\n",
      "|France|              Rennes|2014|       1.13|         9.47|                3.31|        3.57|   11.73|\n",
      "|France|               Lille|2014|       0.83|        12.17|                3.94|        4.11|    6.85|\n",
      "|France|         Montpellier|2014|       1.12|        10.06|                3.46|        4.27|   11.11|\n",
      "|France|              Bastia|2014|       0.83|         8.53|                2.92|        3.47|    9.82|\n",
      "+------+--------------------+----+-----------+-------------+--------------------+------------+--------+\n",
      "only showing top 20 rows\n",
      "\n"
     ]
    },
    {
     "data": {
      "text/plain": [
       "263"
      ]
     },
     "execution_count": 9,
     "metadata": {},
     "output_type": "execute_result"
    }
   ],
   "source": [
    "#join of the two dataFrames\n",
    "join_table = homeTeam_table.join(awayTeam_table,['Team', 'Date', 'Div'], how='left') \\\n",
    "    .withColumnRenamed(\"Team\", \"Equipa\") \\\n",
    "    .withColumnRenamed(\"Div\", \"Liga\") \\\n",
    "    .withColumnRenamed(\"Date\", \"Data\") \\\n",
    "    .orderBy(\"Date\", \"Liga\") \\\n",
    "    .withColumn(\"Media_golos\", round(((col(\"FTAG\") + col(\"FTHG\"))/2), 2)) \\\n",
    "    .withColumn(\"Media_remates\", round(((col(\"HSH\") + col(\"ASA\"))/2), 2)) \\\n",
    "    .withColumn(\"Media_remates_baliza\", round(((col(\"HSTH\") + col(\"ASTA\"))/2), 2)) \\\n",
    "    .withColumn(\"Media_cantos\", round(((col(\"HCH\") + col(\"ACA\"))/2), 2)) \\\n",
    "    .withColumn(\"Eficacia\", round(((col(\"SFTHG\") + col(\"SFTAG\")) / (col(\"SHS\") + col(\"SAS\")) * 100), 2)) \\\n",
    "    .select(\"Liga\", \"Equipa\", \"Data\", \"Media_golos\", \"Media_remates\", \"Media_remates_baliza\", \"Media_cantos\", \"Eficacia\")\n",
    "\n",
    "\n",
    "#WRITE TO DELTA TABLE\n",
    "join_table \\\n",
    "    .write \\\n",
    "    .format(\"delta\") \\\n",
    "    .option(\"overwriteSchema\", \"true\") \\\n",
    "    .mode(\"overwrite\") \\\n",
    "    .save(\"hdfs://hdfs-nn:9000/demo/gold/projeto/gold_leagues.db/stats/\")\n",
    "\n",
    "\n",
    "\n",
    "join_table.show()\n",
    "join_table.count()\n"
   ]
  },
  {
   "cell_type": "code",
   "execution_count": 10,
   "id": "871e6355",
   "metadata": {},
   "outputs": [
    {
     "data": {
      "text/html": [
       "<div>\n",
       "<style scoped>\n",
       "    .dataframe tbody tr th:only-of-type {\n",
       "        vertical-align: middle;\n",
       "    }\n",
       "\n",
       "    .dataframe tbody tr th {\n",
       "        vertical-align: top;\n",
       "    }\n",
       "\n",
       "    .dataframe thead th {\n",
       "        text-align: right;\n",
       "    }\n",
       "</style>\n",
       "<table border=\"1\" class=\"dataframe\">\n",
       "  <thead>\n",
       "    <tr style=\"text-align: right;\">\n",
       "      <th></th>\n",
       "      <th>Liga</th>\n",
       "      <th>Equipa</th>\n",
       "      <th>Data</th>\n",
       "      <th>Media_golos</th>\n",
       "      <th>Media_remates</th>\n",
       "      <th>Media_remates_baliza</th>\n",
       "      <th>Media_cantos</th>\n",
       "      <th>Eficacia</th>\n",
       "    </tr>\n",
       "  </thead>\n",
       "  <tbody>\n",
       "    <tr>\n",
       "      <th>0</th>\n",
       "      <td>France</td>\n",
       "      <td>Lille</td>\n",
       "      <td>2016</td>\n",
       "      <td>1.10</td>\n",
       "      <td>12.03</td>\n",
       "      <td>4.14</td>\n",
       "      <td>4.39</td>\n",
       "      <td>9.13</td>\n",
       "    </tr>\n",
       "    <tr>\n",
       "      <th>1</th>\n",
       "      <td>France</td>\n",
       "      <td>Bastia</td>\n",
       "      <td>2016</td>\n",
       "      <td>0.87</td>\n",
       "      <td>10.42</td>\n",
       "      <td>3.50</td>\n",
       "      <td>4.16</td>\n",
       "      <td>8.33</td>\n",
       "    </tr>\n",
       "    <tr>\n",
       "      <th>2</th>\n",
       "      <td>France</td>\n",
       "      <td>Bordeaux</td>\n",
       "      <td>2016</td>\n",
       "      <td>1.24</td>\n",
       "      <td>11.13</td>\n",
       "      <td>3.84</td>\n",
       "      <td>4.50</td>\n",
       "      <td>11.11</td>\n",
       "    </tr>\n",
       "    <tr>\n",
       "      <th>3</th>\n",
       "      <td>France</td>\n",
       "      <td>Caen</td>\n",
       "      <td>2016</td>\n",
       "      <td>1.04</td>\n",
       "      <td>12.33</td>\n",
       "      <td>4.18</td>\n",
       "      <td>4.29</td>\n",
       "      <td>8.35</td>\n",
       "    </tr>\n",
       "    <tr>\n",
       "      <th>4</th>\n",
       "      <td>France</td>\n",
       "      <td>Monaco</td>\n",
       "      <td>2016</td>\n",
       "      <td>2.29</td>\n",
       "      <td>11.84</td>\n",
       "      <td>5.07</td>\n",
       "      <td>5.07</td>\n",
       "      <td>19.38</td>\n",
       "    </tr>\n",
       "    <tr>\n",
       "      <th>...</th>\n",
       "      <td>...</td>\n",
       "      <td>...</td>\n",
       "      <td>...</td>\n",
       "      <td>...</td>\n",
       "      <td>...</td>\n",
       "      <td>...</td>\n",
       "      <td>...</td>\n",
       "      <td>...</td>\n",
       "    </tr>\n",
       "    <tr>\n",
       "      <th>258</th>\n",
       "      <td>Spain</td>\n",
       "      <td>Levante</td>\n",
       "      <td>2014</td>\n",
       "      <td>0.75</td>\n",
       "      <td>10.94</td>\n",
       "      <td>2.63</td>\n",
       "      <td>4.19</td>\n",
       "      <td>6.86</td>\n",
       "    </tr>\n",
       "    <tr>\n",
       "      <th>259</th>\n",
       "      <td>Spain</td>\n",
       "      <td>Espanol</td>\n",
       "      <td>2014</td>\n",
       "      <td>1.25</td>\n",
       "      <td>9.38</td>\n",
       "      <td>3.56</td>\n",
       "      <td>5.31</td>\n",
       "      <td>13.33</td>\n",
       "    </tr>\n",
       "    <tr>\n",
       "      <th>260</th>\n",
       "      <td>Spain</td>\n",
       "      <td>Elche</td>\n",
       "      <td>2014</td>\n",
       "      <td>0.81</td>\n",
       "      <td>10.88</td>\n",
       "      <td>3.50</td>\n",
       "      <td>4.50</td>\n",
       "      <td>7.47</td>\n",
       "    </tr>\n",
       "    <tr>\n",
       "      <th>261</th>\n",
       "      <td>Spain</td>\n",
       "      <td>La Coruna</td>\n",
       "      <td>2014</td>\n",
       "      <td>0.81</td>\n",
       "      <td>8.69</td>\n",
       "      <td>2.94</td>\n",
       "      <td>3.81</td>\n",
       "      <td>9.35</td>\n",
       "    </tr>\n",
       "    <tr>\n",
       "      <th>262</th>\n",
       "      <td>Spain</td>\n",
       "      <td>Vallecano</td>\n",
       "      <td>2014</td>\n",
       "      <td>1.06</td>\n",
       "      <td>12.56</td>\n",
       "      <td>3.88</td>\n",
       "      <td>4.88</td>\n",
       "      <td>8.46</td>\n",
       "    </tr>\n",
       "  </tbody>\n",
       "</table>\n",
       "<p>263 rows × 8 columns</p>\n",
       "</div>"
      ],
      "text/plain": [
       "       Liga     Equipa  Data  Media_golos  Media_remates  \\\n",
       "0    France      Lille  2016         1.10          12.03   \n",
       "1    France     Bastia  2016         0.87          10.42   \n",
       "2    France   Bordeaux  2016         1.24          11.13   \n",
       "3    France       Caen  2016         1.04          12.33   \n",
       "4    France     Monaco  2016         2.29          11.84   \n",
       "..      ...        ...   ...          ...            ...   \n",
       "258   Spain    Levante  2014         0.75          10.94   \n",
       "259   Spain    Espanol  2014         1.25           9.38   \n",
       "260   Spain      Elche  2014         0.81          10.88   \n",
       "261   Spain  La Coruna  2014         0.81           8.69   \n",
       "262   Spain  Vallecano  2014         1.06          12.56   \n",
       "\n",
       "     Media_remates_baliza  Media_cantos  Eficacia  \n",
       "0                    4.14          4.39      9.13  \n",
       "1                    3.50          4.16      8.33  \n",
       "2                    3.84          4.50     11.11  \n",
       "3                    4.18          4.29      8.35  \n",
       "4                    5.07          5.07     19.38  \n",
       "..                    ...           ...       ...  \n",
       "258                  2.63          4.19      6.86  \n",
       "259                  3.56          5.31     13.33  \n",
       "260                  3.50          4.50      7.47  \n",
       "261                  2.94          3.81      9.35  \n",
       "262                  3.88          4.88      8.46  \n",
       "\n",
       "[263 rows x 8 columns]"
      ]
     },
     "execution_count": 10,
     "metadata": {},
     "output_type": "execute_result"
    }
   ],
   "source": [
    "# check the results in the table\n",
    "spark.table(\"gold_leagues.stats\").toPandas()"
   ]
  },
  {
   "cell_type": "code",
   "execution_count": 11,
   "id": "042d2e0d",
   "metadata": {},
   "outputs": [
    {
     "name": "stderr",
     "output_type": "stream",
     "text": [
      "                                                                                \r"
     ]
    },
    {
     "name": "stdout",
     "output_type": "stream",
     "text": [
      "++\n",
      "||\n",
      "++\n",
      "++\n",
      "\n"
     ]
    }
   ],
   "source": [
    "spark.sql(     \"\"\"     GENERATE symlink_format_manifest FOR TABLE delta. `hdfs://hdfs-nn:9000/demo/gold/projeto/gold_leagues.db/stats/`     \"\"\" ).show()"
   ]
  },
  {
   "cell_type": "code",
   "execution_count": 12,
   "id": "77a13d2a",
   "metadata": {},
   "outputs": [
    {
     "name": "stderr",
     "output_type": "stream",
     "text": [
      "22/01/17 13:51:50 WARN DataSource: All paths were ignored:\n",
      "  hdfs://hdfs-nn:9000/demo/gold/projeto/gold_leagues.db/stats/_symlink_format_manifest\n"
     ]
    },
    {
     "name": "stdout",
     "output_type": "stream",
     "text": [
      "++\n",
      "||\n",
      "++\n",
      "++\n",
      "\n",
      "++\n",
      "||\n",
      "++\n",
      "++\n",
      "\n"
     ]
    }
   ],
   "source": [
    "spark.sql(\"\"\"\n",
    "DROP TABLE IF EXISTS gold_leagues.stats_presto\n",
    "\"\"\").show()\n",
    "\n",
    "spark.sql(\n",
    "    \"\"\"\n",
    "    CREATE EXTERNAL TABLE gold_leagues.stats_presto (\n",
    "\n",
    "        Liga STRING,\n",
    "        Equipa STRING,\n",
    "        Data STRING,\n",
    "        Media_golos DOUBLE,\n",
    "        Media_remates DOUBLE,\n",
    "        Media_remates_baliza DOUBLE,\n",
    "        Media_cantos DOUBLE,\n",
    "        Eficacia DOUBLE\n",
    "        )\n",
    "\n",
    "\n",
    "ROW FORMAT SERDE 'org.apache.hadoop.hive.ql.io.parquet.serde.ParquetHiveSerDe'\n",
    "STORED AS INPUTFORMAT 'org.apache.hadoop.hive.ql.io.SymlinkTextInputFormat'\n",
    "OUTPUTFORMAT 'org.apache.hadoop.hive.ql.io.HiveIgnoreKeyTextOutputFormat'\n",
    "LOCATION 'hdfs://hdfs-nn:9000/demo/gold/projeto/gold_leagues.db/stats/_symlink_format_manifest/'\n",
    "\"\"\").show()"
   ]
  }
 ],
 "metadata": {
  "kernelspec": {
   "display_name": "Python 3 (ipykernel)",
   "language": "python",
   "name": "python3"
  },
  "language_info": {
   "codemirror_mode": {
    "name": "ipython",
    "version": 3
   },
   "file_extension": ".py",
   "mimetype": "text/x-python",
   "name": "python",
   "nbconvert_exporter": "python",
   "pygments_lexer": "ipython3",
   "version": "3.9.7"
  }
 },
 "nbformat": 4,
 "nbformat_minor": 5
}
